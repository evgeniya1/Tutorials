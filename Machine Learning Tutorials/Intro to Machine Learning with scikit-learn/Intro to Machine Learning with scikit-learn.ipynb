{
 "cells": [
  {
   "cell_type": "markdown",
   "metadata": {},
   "source": [
    "# Intro to Machine Learning with scikit-learn\n",
    "\n",
    "## About me - Ted Petrou\n",
    "\n",
    "* Author \n",
    "    * Pandas Cookbook\n",
    "    * [Exercise Python][1]\n",
    "    * [Master Data Analysis with Python][2]\n",
    "    * [Master Machine Learning with Python][3]\n",
    "* Founder of [Dunder Data][4]\n",
    "* Author of [Dexplo and Dexplot][5]\n",
    "\n",
    "\n",
    "[1]: https://www.dunderdata.com/exercise-python\n",
    "[2]: https://www.dunderdata.com/master-data-analysis-with-python\n",
    "[3]: https://www.dunderdata.com/master-machine-learning-with-python\n",
    "[4]: https://dunderdata.com\n",
    "[5]: https://github.com/dexplo"
   ]
  },
  {
   "cell_type": "markdown",
   "metadata": {},
   "source": [
    "## Topics\n",
    "\n",
    "* What is machine learning?\n",
    "* Exploratory data analysis\n",
    "* Modeling by hand\n",
    "* The scikit-learn Estimator\n",
    "* Different regression estimators\n",
    "* Cross validation\n",
    "* Grid search"
   ]
  },
  {
   "cell_type": "markdown",
   "metadata": {},
   "source": [
    "## Learning vs Machine Learning\n",
    "\n",
    "### What is Learning?\n",
    "Learning is the ability to improve at a **task**. Learning is done by animals, humans, and some machines.\n",
    "\n",
    "### What is a task?\n",
    "A task is a clearly defined piece of work.\n",
    "\n",
    "### Measuring task performance\n",
    "Learning happens when the person or machine improves its performance at completing the task. \n",
    "\n",
    "### What is Machine Learning?\n",
    "Machine learning is often defined as the ability of a machine to learn (to improve on a specific task) without being explicitly programmed to do so.\n",
    "\n",
    "### What is \"not explicitly programmed\"?\n",
    "Not updated by a human\n",
    "\n",
    "### The two types of machine learning\n",
    "* **supervised** - have labels (ground truth)\n",
    "* **unsupervised** - no labels\n",
    "\n",
    "### Regression vs Classification\n",
    "* **regression** - continuous value labels\n",
    "* **classification** - discrete labels\n",
    "\n",
    "\n",
    "## Terminology\n",
    "\n",
    "![][1]\n",
    "\n",
    "\n",
    "## Assessing task performance\n",
    "Objectively quantifiable measure of performance\n",
    "\n",
    "### Assessing regression task performance\n",
    "Minimize error\n",
    "\n",
    "[1]: images/terminology.png"
   ]
  },
  {
   "cell_type": "markdown",
   "metadata": {},
   "source": [
    "## Ames Housing Data"
   ]
  },
  {
   "cell_type": "markdown",
   "metadata": {
    "slideshow": {
     "slide_type": "fragment"
    }
   },
   "source": [
    "* [Famous beginners Kaggle competition][0] compiled by professor Dean De Cock from Ames, Iowa from 2006 - 2010\n",
    "* Original dataset has 79 features and 1460 samples\n",
    "* For simplicity, we will only look at 8 features\n",
    "* Predict sale price\n",
    "* Evaluation metric - minimize squared error\n",
    "\n",
    "[0]: https://www.kaggle.com/c/house-prices-advanced-regression-techniques"
   ]
  },
  {
   "cell_type": "markdown",
   "metadata": {},
   "source": [
    "### Read in Data"
   ]
  },
  {
   "cell_type": "code",
   "execution_count": 1,
   "metadata": {},
   "outputs": [],
   "source": [
    "import pandas as pd\n",
    "import numpy as np\n",
    "import matplotlib.pyplot as plt\n",
    "import seaborn as sns\n",
    "%matplotlib inline"
   ]
  },
  {
   "cell_type": "code",
   "execution_count": 2,
   "metadata": {},
   "outputs": [
    {
     "data": {
      "text/html": [
       "<div>\n",
       "<style scoped>\n",
       "    .dataframe tbody tr th:only-of-type {\n",
       "        vertical-align: middle;\n",
       "    }\n",
       "\n",
       "    .dataframe tbody tr th {\n",
       "        vertical-align: top;\n",
       "    }\n",
       "\n",
       "    .dataframe thead th {\n",
       "        text-align: right;\n",
       "    }\n",
       "</style>\n",
       "<table border=\"1\" class=\"dataframe\">\n",
       "  <thead>\n",
       "    <tr style=\"text-align: right;\">\n",
       "      <th></th>\n",
       "      <th>Neighborhood</th>\n",
       "      <th>Exterior1st</th>\n",
       "      <th>YearBuilt</th>\n",
       "      <th>LotFrontage</th>\n",
       "      <th>GrLivArea</th>\n",
       "      <th>GarageArea</th>\n",
       "      <th>BedroomAbvGr</th>\n",
       "      <th>FullBath</th>\n",
       "      <th>SalePrice</th>\n",
       "    </tr>\n",
       "  </thead>\n",
       "  <tbody>\n",
       "    <tr>\n",
       "      <th>0</th>\n",
       "      <td>CollgCr</td>\n",
       "      <td>VinylSd</td>\n",
       "      <td>2003</td>\n",
       "      <td>65.0</td>\n",
       "      <td>1710</td>\n",
       "      <td>548</td>\n",
       "      <td>3</td>\n",
       "      <td>2</td>\n",
       "      <td>208500</td>\n",
       "    </tr>\n",
       "    <tr>\n",
       "      <th>1</th>\n",
       "      <td>Veenker</td>\n",
       "      <td>MetalSd</td>\n",
       "      <td>1976</td>\n",
       "      <td>80.0</td>\n",
       "      <td>1262</td>\n",
       "      <td>460</td>\n",
       "      <td>3</td>\n",
       "      <td>2</td>\n",
       "      <td>181500</td>\n",
       "    </tr>\n",
       "    <tr>\n",
       "      <th>2</th>\n",
       "      <td>CollgCr</td>\n",
       "      <td>VinylSd</td>\n",
       "      <td>2001</td>\n",
       "      <td>68.0</td>\n",
       "      <td>1786</td>\n",
       "      <td>608</td>\n",
       "      <td>3</td>\n",
       "      <td>2</td>\n",
       "      <td>223500</td>\n",
       "    </tr>\n",
       "    <tr>\n",
       "      <th>3</th>\n",
       "      <td>Crawfor</td>\n",
       "      <td>Wd Sdng</td>\n",
       "      <td>1915</td>\n",
       "      <td>60.0</td>\n",
       "      <td>1717</td>\n",
       "      <td>642</td>\n",
       "      <td>3</td>\n",
       "      <td>1</td>\n",
       "      <td>140000</td>\n",
       "    </tr>\n",
       "    <tr>\n",
       "      <th>4</th>\n",
       "      <td>NoRidge</td>\n",
       "      <td>VinylSd</td>\n",
       "      <td>2000</td>\n",
       "      <td>84.0</td>\n",
       "      <td>2198</td>\n",
       "      <td>836</td>\n",
       "      <td>4</td>\n",
       "      <td>2</td>\n",
       "      <td>250000</td>\n",
       "    </tr>\n",
       "  </tbody>\n",
       "</table>\n",
       "</div>"
      ],
      "text/plain": [
       "  Neighborhood Exterior1st  YearBuilt  LotFrontage  GrLivArea  GarageArea  \\\n",
       "0      CollgCr     VinylSd       2003         65.0       1710         548   \n",
       "1      Veenker     MetalSd       1976         80.0       1262         460   \n",
       "2      CollgCr     VinylSd       2001         68.0       1786         608   \n",
       "3      Crawfor     Wd Sdng       1915         60.0       1717         642   \n",
       "4      NoRidge     VinylSd       2000         84.0       2198         836   \n",
       "\n",
       "   BedroomAbvGr  FullBath  SalePrice  \n",
       "0             3         2     208500  \n",
       "1             3         2     181500  \n",
       "2             3         2     223500  \n",
       "3             3         1     140000  \n",
       "4             4         2     250000  "
      ]
     },
     "execution_count": 2,
     "metadata": {},
     "output_type": "execute_result"
    }
   ],
   "source": [
    "housing = pd.read_csv('data/housing_sample.csv')\n",
    "housing.head()"
   ]
  },
  {
   "cell_type": "markdown",
   "metadata": {},
   "source": [
    "### Data dictionary\n",
    "\n",
    "Open up the [data dictionary for these columns][0] in a separate tab and read through the column descriptions.\n",
    "\n",
    "[0]: data/housing_sample_data_dictionary.txt"
   ]
  },
  {
   "cell_type": "markdown",
   "metadata": {},
   "source": [
    "## Exploratory data analysis\n",
    "\n",
    "Gain an understanding of the data without the use of formal modeling.\n",
    "\n",
    "* Relies heavily on visualization\n",
    "* Begin with univariate analysis\n",
    "    * Categorical features (limited, known, discrete values)\n",
    "        * Frequency of occurrence of each value\n",
    "    * Continuous features ()\n",
    "        * Summary statistics (min, max, mean, median, std, etc...)\n",
    "        * Distribution plots (boxplot, histogram, KDE)\n",
    "* Relationship with target\n",
    "    * Compare each feature with target\n",
    "    * Categorical features\n",
    "        * Mean sale price by category\n",
    "    * Continuous features\n",
    "        * Scatterplot of feature vs sale price\n",
    "        * Bin feature and take mean per bin\n",
    "        * Correlation vs sale price\n",
    "* Multivariate analysis\n",
    "    * All categorical features - crosstabulation, pivot table with sales price\n",
    "    * All continuous - scatterplots\n",
    "    * Mix of categorical and continuous - distribution plot by group"
   ]
  },
  {
   "cell_type": "markdown",
   "metadata": {},
   "source": [
    "### Basic information on data\n",
    "\n",
    "* Number of features and observations\n",
    "* Data type of each column\n",
    "* Number of missing values per column"
   ]
  },
  {
   "cell_type": "code",
   "execution_count": 3,
   "metadata": {},
   "outputs": [
    {
     "data": {
      "text/plain": [
       "(1460, 9)"
      ]
     },
     "execution_count": 3,
     "metadata": {},
     "output_type": "execute_result"
    }
   ],
   "source": [
    "housing.shape"
   ]
  },
  {
   "cell_type": "code",
   "execution_count": 4,
   "metadata": {},
   "outputs": [
    {
     "data": {
      "text/plain": [
       "Neighborhood     object\n",
       "Exterior1st      object\n",
       "YearBuilt         int64\n",
       "LotFrontage     float64\n",
       "GrLivArea         int64\n",
       "GarageArea        int64\n",
       "BedroomAbvGr      int64\n",
       "FullBath          int64\n",
       "SalePrice         int64\n",
       "dtype: object"
      ]
     },
     "execution_count": 4,
     "metadata": {},
     "output_type": "execute_result"
    }
   ],
   "source": [
    "housing.dtypes"
   ]
  },
  {
   "cell_type": "code",
   "execution_count": 5,
   "metadata": {},
   "outputs": [
    {
     "data": {
      "text/plain": [
       "Neighborhood      0\n",
       "Exterior1st       0\n",
       "YearBuilt         0\n",
       "LotFrontage     259\n",
       "GrLivArea         0\n",
       "GarageArea        0\n",
       "BedroomAbvGr      0\n",
       "FullBath          0\n",
       "SalePrice         0\n",
       "dtype: int64"
      ]
     },
     "execution_count": 5,
     "metadata": {},
     "output_type": "execute_result"
    }
   ],
   "source": [
    "housing.isna().sum()"
   ]
  },
  {
   "cell_type": "markdown",
   "metadata": {},
   "source": [
    "### Univariate analysis\n",
    "\n",
    "Begin with categorical columns\n",
    "\n",
    "* Neighborhood\n",
    "* Exterior1st\n",
    "* BedroomAbvGr\n",
    "* FullBath"
   ]
  },
  {
   "cell_type": "code",
   "execution_count": 6,
   "metadata": {},
   "outputs": [],
   "source": [
    "categorical_cols = ['Neighborhood', 'Exterior1st', 'BedroomAbvGr', 'FullBath']"
   ]
  },
  {
   "cell_type": "code",
   "execution_count": 7,
   "metadata": {},
   "outputs": [
    {
     "data": {
      "image/png": "[encoded data removed]",
      "text/plain": [
       "<Figure size 720x288 with 1 Axes>"
      ]
     },
     "metadata": {
      "needs_background": "light"
     },
     "output_type": "display_data"
    }
   ],
   "source": [
    "housing['Neighborhood'].value_counts().plot(kind='bar', figsize=(10, 4));"
   ]
  },
  {
   "cell_type": "code",
   "execution_count": 8,
   "metadata": {},
   "outputs": [
    {
     "data": {
      "image/png": "[encoded data removed]",
      "text/plain": [
       "<Figure size 720x288 with 1 Axes>"
      ]
     },
     "metadata": {
      "needs_background": "light"
     },
     "output_type": "display_data"
    }
   ],
   "source": [
    "housing['Exterior1st'].value_counts().plot(kind='bar', figsize=(10, 4));"
   ]
  },
  {
   "cell_type": "code",
   "execution_count": 9,
   "metadata": {},
   "outputs": [
    {
     "data": {
      "image/png": "[encoded data removed]",
      "text/plain": [
       "<Figure size 720x288 with 1 Axes>"
      ]
     },
     "metadata": {
      "needs_background": "light"
     },
     "output_type": "display_data"
    }
   ],
   "source": [
    "housing['BedroomAbvGr'].value_counts().sort_index().plot(kind='bar', figsize=(10, 4));"
   ]
  },
  {
   "cell_type": "code",
   "execution_count": 10,
   "metadata": {},
   "outputs": [
    {
     "data": {
      "image/png": "[encoded data removed]",
      "text/plain": [
       "<Figure size 720x288 with 1 Axes>"
      ]
     },
     "metadata": {
      "needs_background": "light"
     },
     "output_type": "display_data"
    }
   ],
   "source": [
    "housing['FullBath'].value_counts().sort_index().plot(kind='bar', figsize=(10, 4));"
   ]
  },
  {
   "cell_type": "markdown",
   "metadata": {},
   "source": [
    "### Continuous columns\n",
    "\n",
    "\n",
    "* YearBuilt\t\n",
    "* LotFrontage\t\n",
    "* GrLivArea\t\n",
    "* GarageArea"
   ]
  },
  {
   "cell_type": "code",
   "execution_count": 11,
   "metadata": {},
   "outputs": [
    {
     "data": {
      "image/png": "[encoded data removed]",
      "text/plain": [
       "<Figure size 720x864 with 8 Axes>"
      ]
     },
     "metadata": {
      "needs_background": "light"
     },
     "output_type": "display_data"
    }
   ],
   "source": [
    "continuous_cols = ['YearBuilt', 'LotFrontage', 'GrLivArea', 'GarageArea']\n",
    "fig, axes = plt.subplots(4, 2, figsize=(10, 12))\n",
    "for i, col in enumerate(continuous_cols):\n",
    "    housing[col].plot(kind='box', vert=False, ax=axes[i, 0]);\n",
    "    axes[i, 1] = housing[col].plot(kind='hist', ax=axes[i, 1], title=col);\n",
    "fig.tight_layout()"
   ]
  },
  {
   "cell_type": "markdown",
   "metadata": {},
   "source": [
    "### Relationship with target\n",
    "\n",
    "Categorical columns"
   ]
  },
  {
   "cell_type": "code",
   "execution_count": 12,
   "metadata": {},
   "outputs": [
    {
     "data": {
      "image/png": "[encoded data removed]",
      "text/plain": [
       "<Figure size 1008x576 with 4 Axes>"
      ]
     },
     "metadata": {
      "needs_background": "light"
     },
     "output_type": "display_data"
    }
   ],
   "source": [
    "fig, axes = plt.subplots(2, 2, figsize=(14, 8), sharey=True)\n",
    "for col, ax in zip(categorical_cols, axes.flatten()):\n",
    "    housing.groupby(col)['SalePrice'].mean().plot(kind='bar', ax=ax)\n",
    "fig.tight_layout()"
   ]
  },
  {
   "cell_type": "markdown",
   "metadata": {},
   "source": [
    "Continuous features"
   ]
  },
  {
   "cell_type": "code",
   "execution_count": 13,
   "metadata": {},
   "outputs": [
    {
     "data": {
      "image/png": "[encoded data removed]",
      "text/plain": [
       "<Figure size 1008x576 with 4 Axes>"
      ]
     },
     "metadata": {
      "needs_background": "light"
     },
     "output_type": "display_data"
    }
   ],
   "source": [
    "fig, axes = plt.subplots(2, 2, figsize=(14, 8), sharey=True)\n",
    "for col, ax in zip(continuous_cols, axes.flatten()):\n",
    "    housing.plot(x=col, y = 'SalePrice', kind='scatter', ax=ax)\n",
    "fig.tight_layout()"
   ]
  },
  {
   "cell_type": "markdown",
   "metadata": {},
   "source": [
    "### Multivariate Analysis"
   ]
  },
  {
   "cell_type": "code",
   "execution_count": 14,
   "metadata": {
    "scrolled": true
   },
   "outputs": [
    {
     "data": {
      "text/html": [
       "<div>\n",
       "<style scoped>\n",
       "    .dataframe tbody tr th:only-of-type {\n",
       "        vertical-align: middle;\n",
       "    }\n",
       "\n",
       "    .dataframe tbody tr th {\n",
       "        vertical-align: top;\n",
       "    }\n",
       "\n",
       "    .dataframe thead th {\n",
       "        text-align: right;\n",
       "    }\n",
       "</style>\n",
       "<table border=\"1\" class=\"dataframe\">\n",
       "  <thead>\n",
       "    <tr style=\"text-align: right;\">\n",
       "      <th>FullBath</th>\n",
       "      <th>0</th>\n",
       "      <th>1</th>\n",
       "      <th>2</th>\n",
       "      <th>3</th>\n",
       "    </tr>\n",
       "    <tr>\n",
       "      <th>Neighborhood</th>\n",
       "      <th></th>\n",
       "      <th></th>\n",
       "      <th></th>\n",
       "      <th></th>\n",
       "    </tr>\n",
       "  </thead>\n",
       "  <tbody>\n",
       "    <tr>\n",
       "      <th>Blmngtn</th>\n",
       "      <td>1</td>\n",
       "      <td>0</td>\n",
       "      <td>16</td>\n",
       "      <td>0</td>\n",
       "    </tr>\n",
       "    <tr>\n",
       "      <th>Blueste</th>\n",
       "      <td>0</td>\n",
       "      <td>1</td>\n",
       "      <td>1</td>\n",
       "      <td>0</td>\n",
       "    </tr>\n",
       "    <tr>\n",
       "      <th>BrDale</th>\n",
       "      <td>0</td>\n",
       "      <td>13</td>\n",
       "      <td>3</td>\n",
       "      <td>0</td>\n",
       "    </tr>\n",
       "    <tr>\n",
       "      <th>BrkSide</th>\n",
       "      <td>0</td>\n",
       "      <td>52</td>\n",
       "      <td>6</td>\n",
       "      <td>0</td>\n",
       "    </tr>\n",
       "    <tr>\n",
       "      <th>ClearCr</th>\n",
       "      <td>1</td>\n",
       "      <td>11</td>\n",
       "      <td>14</td>\n",
       "      <td>2</td>\n",
       "    </tr>\n",
       "    <tr>\n",
       "      <th>CollgCr</th>\n",
       "      <td>0</td>\n",
       "      <td>38</td>\n",
       "      <td>111</td>\n",
       "      <td>1</td>\n",
       "    </tr>\n",
       "    <tr>\n",
       "      <th>Crawfor</th>\n",
       "      <td>0</td>\n",
       "      <td>27</td>\n",
       "      <td>22</td>\n",
       "      <td>2</td>\n",
       "    </tr>\n",
       "    <tr>\n",
       "      <th>Edwards</th>\n",
       "      <td>1</td>\n",
       "      <td>66</td>\n",
       "      <td>29</td>\n",
       "      <td>4</td>\n",
       "    </tr>\n",
       "    <tr>\n",
       "      <th>Gilbert</th>\n",
       "      <td>0</td>\n",
       "      <td>2</td>\n",
       "      <td>77</td>\n",
       "      <td>0</td>\n",
       "    </tr>\n",
       "    <tr>\n",
       "      <th>IDOTRR</th>\n",
       "      <td>1</td>\n",
       "      <td>33</td>\n",
       "      <td>3</td>\n",
       "      <td>0</td>\n",
       "    </tr>\n",
       "    <tr>\n",
       "      <th>MeadowV</th>\n",
       "      <td>0</td>\n",
       "      <td>15</td>\n",
       "      <td>2</td>\n",
       "      <td>0</td>\n",
       "    </tr>\n",
       "    <tr>\n",
       "      <th>Mitchel</th>\n",
       "      <td>0</td>\n",
       "      <td>28</td>\n",
       "      <td>20</td>\n",
       "      <td>1</td>\n",
       "    </tr>\n",
       "    <tr>\n",
       "      <th>NAmes</th>\n",
       "      <td>0</td>\n",
       "      <td>177</td>\n",
       "      <td>48</td>\n",
       "      <td>0</td>\n",
       "    </tr>\n",
       "    <tr>\n",
       "      <th>NPkVill</th>\n",
       "      <td>0</td>\n",
       "      <td>0</td>\n",
       "      <td>9</td>\n",
       "      <td>0</td>\n",
       "    </tr>\n",
       "    <tr>\n",
       "      <th>NWAmes</th>\n",
       "      <td>0</td>\n",
       "      <td>13</td>\n",
       "      <td>56</td>\n",
       "      <td>4</td>\n",
       "    </tr>\n",
       "    <tr>\n",
       "      <th>NoRidge</th>\n",
       "      <td>0</td>\n",
       "      <td>0</td>\n",
       "      <td>37</td>\n",
       "      <td>4</td>\n",
       "    </tr>\n",
       "    <tr>\n",
       "      <th>NridgHt</th>\n",
       "      <td>0</td>\n",
       "      <td>3</td>\n",
       "      <td>68</td>\n",
       "      <td>6</td>\n",
       "    </tr>\n",
       "    <tr>\n",
       "      <th>OldTown</th>\n",
       "      <td>1</td>\n",
       "      <td>75</td>\n",
       "      <td>35</td>\n",
       "      <td>2</td>\n",
       "    </tr>\n",
       "    <tr>\n",
       "      <th>SWISU</th>\n",
       "      <td>0</td>\n",
       "      <td>10</td>\n",
       "      <td>14</td>\n",
       "      <td>1</td>\n",
       "    </tr>\n",
       "    <tr>\n",
       "      <th>Sawyer</th>\n",
       "      <td>2</td>\n",
       "      <td>55</td>\n",
       "      <td>17</td>\n",
       "      <td>0</td>\n",
       "    </tr>\n",
       "    <tr>\n",
       "      <th>SawyerW</th>\n",
       "      <td>1</td>\n",
       "      <td>14</td>\n",
       "      <td>43</td>\n",
       "      <td>1</td>\n",
       "    </tr>\n",
       "    <tr>\n",
       "      <th>Somerst</th>\n",
       "      <td>0</td>\n",
       "      <td>3</td>\n",
       "      <td>81</td>\n",
       "      <td>2</td>\n",
       "    </tr>\n",
       "    <tr>\n",
       "      <th>StoneBr</th>\n",
       "      <td>0</td>\n",
       "      <td>5</td>\n",
       "      <td>17</td>\n",
       "      <td>3</td>\n",
       "    </tr>\n",
       "    <tr>\n",
       "      <th>Timber</th>\n",
       "      <td>0</td>\n",
       "      <td>4</td>\n",
       "      <td>34</td>\n",
       "      <td>0</td>\n",
       "    </tr>\n",
       "    <tr>\n",
       "      <th>Veenker</th>\n",
       "      <td>1</td>\n",
       "      <td>5</td>\n",
       "      <td>5</td>\n",
       "      <td>0</td>\n",
       "    </tr>\n",
       "  </tbody>\n",
       "</table>\n",
       "</div>"
      ],
      "text/plain": [
       "FullBath      0    1    2  3\n",
       "Neighborhood                \n",
       "Blmngtn       1    0   16  0\n",
       "Blueste       0    1    1  0\n",
       "BrDale        0   13    3  0\n",
       "BrkSide       0   52    6  0\n",
       "ClearCr       1   11   14  2\n",
       "CollgCr       0   38  111  1\n",
       "Crawfor       0   27   22  2\n",
       "Edwards       1   66   29  4\n",
       "Gilbert       0    2   77  0\n",
       "IDOTRR        1   33    3  0\n",
       "MeadowV       0   15    2  0\n",
       "Mitchel       0   28   20  1\n",
       "NAmes         0  177   48  0\n",
       "NPkVill       0    0    9  0\n",
       "NWAmes        0   13   56  4\n",
       "NoRidge       0    0   37  4\n",
       "NridgHt       0    3   68  6\n",
       "OldTown       1   75   35  2\n",
       "SWISU         0   10   14  1\n",
       "Sawyer        2   55   17  0\n",
       "SawyerW       1   14   43  1\n",
       "Somerst       0    3   81  2\n",
       "StoneBr       0    5   17  3\n",
       "Timber        0    4   34  0\n",
       "Veenker       1    5    5  0"
      ]
     },
     "execution_count": 14,
     "metadata": {},
     "output_type": "execute_result"
    }
   ],
   "source": [
    "pd.crosstab(index=housing['Neighborhood'], columns=housing['FullBath'])"
   ]
  },
  {
   "cell_type": "markdown",
   "metadata": {},
   "source": [
    "Average sale price for bedroom and bathroom combination."
   ]
  },
  {
   "cell_type": "code",
   "execution_count": 15,
   "metadata": {},
   "outputs": [
    {
     "data": {
      "text/html": [
       "<div>\n",
       "<style scoped>\n",
       "    .dataframe tbody tr th:only-of-type {\n",
       "        vertical-align: middle;\n",
       "    }\n",
       "\n",
       "    .dataframe tbody tr th {\n",
       "        vertical-align: top;\n",
       "    }\n",
       "\n",
       "    .dataframe thead th {\n",
       "        text-align: right;\n",
       "    }\n",
       "</style>\n",
       "<table border=\"1\" class=\"dataframe\">\n",
       "  <thead>\n",
       "    <tr style=\"text-align: right;\">\n",
       "      <th>FullBath</th>\n",
       "      <th>0</th>\n",
       "      <th>1</th>\n",
       "      <th>2</th>\n",
       "      <th>3</th>\n",
       "    </tr>\n",
       "    <tr>\n",
       "      <th>BedroomAbvGr</th>\n",
       "      <th></th>\n",
       "      <th></th>\n",
       "      <th></th>\n",
       "      <th></th>\n",
       "    </tr>\n",
       "  </thead>\n",
       "  <tbody>\n",
       "    <tr>\n",
       "      <th>0</th>\n",
       "      <td>209000.0</td>\n",
       "      <td>286000.0</td>\n",
       "      <td>NaN</td>\n",
       "      <td>NaN</td>\n",
       "    </tr>\n",
       "    <tr>\n",
       "      <th>1</th>\n",
       "      <td>48000.0</td>\n",
       "      <td>166000.0</td>\n",
       "      <td>268000.0</td>\n",
       "      <td>NaN</td>\n",
       "    </tr>\n",
       "    <tr>\n",
       "      <th>2</th>\n",
       "      <td>174000.0</td>\n",
       "      <td>120000.0</td>\n",
       "      <td>215000.0</td>\n",
       "      <td>NaN</td>\n",
       "    </tr>\n",
       "    <tr>\n",
       "      <th>3</th>\n",
       "      <td>NaN</td>\n",
       "      <td>138000.0</td>\n",
       "      <td>214000.0</td>\n",
       "      <td>250000.0</td>\n",
       "    </tr>\n",
       "    <tr>\n",
       "      <th>4</th>\n",
       "      <td>NaN</td>\n",
       "      <td>151000.0</td>\n",
       "      <td>212000.0</td>\n",
       "      <td>412000.0</td>\n",
       "    </tr>\n",
       "    <tr>\n",
       "      <th>5</th>\n",
       "      <td>NaN</td>\n",
       "      <td>120000.0</td>\n",
       "      <td>185000.0</td>\n",
       "      <td>245000.0</td>\n",
       "    </tr>\n",
       "    <tr>\n",
       "      <th>6</th>\n",
       "      <td>NaN</td>\n",
       "      <td>NaN</td>\n",
       "      <td>144000.0</td>\n",
       "      <td>NaN</td>\n",
       "    </tr>\n",
       "    <tr>\n",
       "      <th>8</th>\n",
       "      <td>NaN</td>\n",
       "      <td>NaN</td>\n",
       "      <td>200000.0</td>\n",
       "      <td>NaN</td>\n",
       "    </tr>\n",
       "  </tbody>\n",
       "</table>\n",
       "</div>"
      ],
      "text/plain": [
       "FullBath             0         1         2         3\n",
       "BedroomAbvGr                                        \n",
       "0             209000.0  286000.0       NaN       NaN\n",
       "1              48000.0  166000.0  268000.0       NaN\n",
       "2             174000.0  120000.0  215000.0       NaN\n",
       "3                  NaN  138000.0  214000.0  250000.0\n",
       "4                  NaN  151000.0  212000.0  412000.0\n",
       "5                  NaN  120000.0  185000.0  245000.0\n",
       "6                  NaN       NaN  144000.0       NaN\n",
       "8                  NaN       NaN  200000.0       NaN"
      ]
     },
     "execution_count": 15,
     "metadata": {},
     "output_type": "execute_result"
    }
   ],
   "source": [
    "housing.pivot_table(index='BedroomAbvGr', columns='FullBath', \n",
    "                    values='SalePrice', aggfunc='mean').round(-3)"
   ]
  },
  {
   "cell_type": "markdown",
   "metadata": {},
   "source": [
    "Use seaborn to plot regression line of above ground living area vs sale price. Make a separate line for each unique bedroom."
   ]
  },
  {
   "cell_type": "code",
   "execution_count": 16,
   "metadata": {
    "scrolled": false
   },
   "outputs": [
    {
     "data": {
      "image/png": "[encoded data removed]",
      "text/plain": [
       "<Figure size 804x360 with 1 Axes>"
      ]
     },
     "metadata": {
      "needs_background": "light"
     },
     "output_type": "display_data"
    }
   ],
   "source": [
    "sns.lmplot(x='GrLivArea', y='SalePrice', data=housing, hue='BedroomAbvGr', aspect=2, ci=None) \\\n",
    "   .set(xlim=(500, 3000), ylim=(0, 500000));"
   ]
  },
  {
   "cell_type": "code",
   "execution_count": 17,
   "metadata": {},
   "outputs": [
    {
     "data": {
      "text/html": [
       "<div>\n",
       "<style scoped>\n",
       "    .dataframe tbody tr th:only-of-type {\n",
       "        vertical-align: middle;\n",
       "    }\n",
       "\n",
       "    .dataframe tbody tr th {\n",
       "        vertical-align: top;\n",
       "    }\n",
       "\n",
       "    .dataframe thead th {\n",
       "        text-align: right;\n",
       "    }\n",
       "</style>\n",
       "<table border=\"1\" class=\"dataframe\">\n",
       "  <thead>\n",
       "    <tr style=\"text-align: right;\">\n",
       "      <th>GrLivArea</th>\n",
       "      <th>(500, 1000]</th>\n",
       "      <th>(1000, 1500]</th>\n",
       "      <th>(1500, 2000]</th>\n",
       "      <th>(2000, 2500]</th>\n",
       "      <th>(2500, 3000]</th>\n",
       "      <th>(3000, 3500]</th>\n",
       "    </tr>\n",
       "    <tr>\n",
       "      <th>Neighborhood</th>\n",
       "      <th></th>\n",
       "      <th></th>\n",
       "      <th></th>\n",
       "      <th></th>\n",
       "      <th></th>\n",
       "      <th></th>\n",
       "    </tr>\n",
       "  </thead>\n",
       "  <tbody>\n",
       "    <tr>\n",
       "      <th>Blmngtn</th>\n",
       "      <td>NaN</td>\n",
       "      <td>187.0</td>\n",
       "      <td>203.0</td>\n",
       "      <td>NaN</td>\n",
       "      <td>NaN</td>\n",
       "      <td>NaN</td>\n",
       "    </tr>\n",
       "    <tr>\n",
       "      <th>Blueste</th>\n",
       "      <td>NaN</td>\n",
       "      <td>124.0</td>\n",
       "      <td>151.0</td>\n",
       "      <td>NaN</td>\n",
       "      <td>NaN</td>\n",
       "      <td>NaN</td>\n",
       "    </tr>\n",
       "    <tr>\n",
       "      <th>BrDale</th>\n",
       "      <td>96.0</td>\n",
       "      <td>110.0</td>\n",
       "      <td>NaN</td>\n",
       "      <td>NaN</td>\n",
       "      <td>NaN</td>\n",
       "      <td>NaN</td>\n",
       "    </tr>\n",
       "    <tr>\n",
       "      <th>BrkSide</th>\n",
       "      <td>95.0</td>\n",
       "      <td>120.0</td>\n",
       "      <td>169.0</td>\n",
       "      <td>191.0</td>\n",
       "      <td>NaN</td>\n",
       "      <td>NaN</td>\n",
       "    </tr>\n",
       "    <tr>\n",
       "      <th>ClearCr</th>\n",
       "      <td>180.0</td>\n",
       "      <td>181.0</td>\n",
       "      <td>221.0</td>\n",
       "      <td>232.0</td>\n",
       "      <td>NaN</td>\n",
       "      <td>200.0</td>\n",
       "    </tr>\n",
       "    <tr>\n",
       "      <th>CollgCr</th>\n",
       "      <td>135.0</td>\n",
       "      <td>185.0</td>\n",
       "      <td>223.0</td>\n",
       "      <td>254.0</td>\n",
       "      <td>361.0</td>\n",
       "      <td>NaN</td>\n",
       "    </tr>\n",
       "    <tr>\n",
       "      <th>Crawfor</th>\n",
       "      <td>117.0</td>\n",
       "      <td>159.0</td>\n",
       "      <td>219.0</td>\n",
       "      <td>230.0</td>\n",
       "      <td>236.0</td>\n",
       "      <td>370.0</td>\n",
       "    </tr>\n",
       "    <tr>\n",
       "      <th>Edwards</th>\n",
       "      <td>95.0</td>\n",
       "      <td>127.0</td>\n",
       "      <td>146.0</td>\n",
       "      <td>224.0</td>\n",
       "      <td>NaN</td>\n",
       "      <td>NaN</td>\n",
       "    </tr>\n",
       "    <tr>\n",
       "      <th>Gilbert</th>\n",
       "      <td>141.0</td>\n",
       "      <td>174.0</td>\n",
       "      <td>197.0</td>\n",
       "      <td>233.0</td>\n",
       "      <td>NaN</td>\n",
       "      <td>NaN</td>\n",
       "    </tr>\n",
       "    <tr>\n",
       "      <th>IDOTRR</th>\n",
       "      <td>88.0</td>\n",
       "      <td>102.0</td>\n",
       "      <td>130.0</td>\n",
       "      <td>NaN</td>\n",
       "      <td>NaN</td>\n",
       "      <td>NaN</td>\n",
       "    </tr>\n",
       "    <tr>\n",
       "      <th>MeadowV</th>\n",
       "      <td>84.0</td>\n",
       "      <td>103.0</td>\n",
       "      <td>NaN</td>\n",
       "      <td>NaN</td>\n",
       "      <td>151.0</td>\n",
       "      <td>NaN</td>\n",
       "    </tr>\n",
       "    <tr>\n",
       "      <th>Mitchel</th>\n",
       "      <td>125.0</td>\n",
       "      <td>154.0</td>\n",
       "      <td>177.0</td>\n",
       "      <td>239.0</td>\n",
       "      <td>NaN</td>\n",
       "      <td>NaN</td>\n",
       "    </tr>\n",
       "    <tr>\n",
       "      <th>NAmes</th>\n",
       "      <td>123.0</td>\n",
       "      <td>142.0</td>\n",
       "      <td>155.0</td>\n",
       "      <td>199.0</td>\n",
       "      <td>262.0</td>\n",
       "      <td>235.0</td>\n",
       "    </tr>\n",
       "    <tr>\n",
       "      <th>NPkVill</th>\n",
       "      <td>135.0</td>\n",
       "      <td>142.0</td>\n",
       "      <td>155.0</td>\n",
       "      <td>NaN</td>\n",
       "      <td>NaN</td>\n",
       "      <td>NaN</td>\n",
       "    </tr>\n",
       "    <tr>\n",
       "      <th>NWAmes</th>\n",
       "      <td>NaN</td>\n",
       "      <td>164.0</td>\n",
       "      <td>185.0</td>\n",
       "      <td>218.0</td>\n",
       "      <td>264.0</td>\n",
       "      <td>NaN</td>\n",
       "    </tr>\n",
       "    <tr>\n",
       "      <th>NoRidge</th>\n",
       "      <td>NaN</td>\n",
       "      <td>NaN</td>\n",
       "      <td>251.0</td>\n",
       "      <td>300.0</td>\n",
       "      <td>323.0</td>\n",
       "      <td>420.0</td>\n",
       "    </tr>\n",
       "    <tr>\n",
       "      <th>NridgHt</th>\n",
       "      <td>NaN</td>\n",
       "      <td>206.0</td>\n",
       "      <td>295.0</td>\n",
       "      <td>369.0</td>\n",
       "      <td>433.0</td>\n",
       "      <td>485.0</td>\n",
       "    </tr>\n",
       "    <tr>\n",
       "      <th>OldTown</th>\n",
       "      <td>97.0</td>\n",
       "      <td>116.0</td>\n",
       "      <td>138.0</td>\n",
       "      <td>126.0</td>\n",
       "      <td>228.0</td>\n",
       "      <td>295.0</td>\n",
       "    </tr>\n",
       "    <tr>\n",
       "      <th>SWISU</th>\n",
       "      <td>91.0</td>\n",
       "      <td>144.0</td>\n",
       "      <td>137.0</td>\n",
       "      <td>155.0</td>\n",
       "      <td>189.0</td>\n",
       "      <td>198.0</td>\n",
       "    </tr>\n",
       "    <tr>\n",
       "      <th>Sawyer</th>\n",
       "      <td>127.0</td>\n",
       "      <td>136.0</td>\n",
       "      <td>152.0</td>\n",
       "      <td>NaN</td>\n",
       "      <td>190.0</td>\n",
       "      <td>NaN</td>\n",
       "    </tr>\n",
       "    <tr>\n",
       "      <th>SawyerW</th>\n",
       "      <td>117.0</td>\n",
       "      <td>161.0</td>\n",
       "      <td>195.0</td>\n",
       "      <td>231.0</td>\n",
       "      <td>301.0</td>\n",
       "      <td>320.0</td>\n",
       "    </tr>\n",
       "    <tr>\n",
       "      <th>Somerst</th>\n",
       "      <td>NaN</td>\n",
       "      <td>188.0</td>\n",
       "      <td>240.0</td>\n",
       "      <td>335.0</td>\n",
       "      <td>303.0</td>\n",
       "      <td>NaN</td>\n",
       "    </tr>\n",
       "    <tr>\n",
       "      <th>StoneBr</th>\n",
       "      <td>NaN</td>\n",
       "      <td>222.0</td>\n",
       "      <td>284.0</td>\n",
       "      <td>360.0</td>\n",
       "      <td>420.0</td>\n",
       "      <td>538.0</td>\n",
       "    </tr>\n",
       "    <tr>\n",
       "      <th>Timber</th>\n",
       "      <td>NaN</td>\n",
       "      <td>188.0</td>\n",
       "      <td>237.0</td>\n",
       "      <td>341.0</td>\n",
       "      <td>290.0</td>\n",
       "      <td>NaN</td>\n",
       "    </tr>\n",
       "    <tr>\n",
       "      <th>Veenker</th>\n",
       "      <td>NaN</td>\n",
       "      <td>205.0</td>\n",
       "      <td>298.0</td>\n",
       "      <td>294.0</td>\n",
       "      <td>NaN</td>\n",
       "      <td>NaN</td>\n",
       "    </tr>\n",
       "  </tbody>\n",
       "</table>\n",
       "</div>"
      ],
      "text/plain": [
       "GrLivArea     (500, 1000]  (1000, 1500]  (1500, 2000]  (2000, 2500]  \\\n",
       "Neighborhood                                                          \n",
       "Blmngtn               NaN         187.0         203.0           NaN   \n",
       "Blueste               NaN         124.0         151.0           NaN   \n",
       "BrDale               96.0         110.0           NaN           NaN   \n",
       "BrkSide              95.0         120.0         169.0         191.0   \n",
       "ClearCr             180.0         181.0         221.0         232.0   \n",
       "CollgCr             135.0         185.0         223.0         254.0   \n",
       "Crawfor             117.0         159.0         219.0         230.0   \n",
       "Edwards              95.0         127.0         146.0         224.0   \n",
       "Gilbert             141.0         174.0         197.0         233.0   \n",
       "IDOTRR               88.0         102.0         130.0           NaN   \n",
       "MeadowV              84.0         103.0           NaN           NaN   \n",
       "Mitchel             125.0         154.0         177.0         239.0   \n",
       "NAmes               123.0         142.0         155.0         199.0   \n",
       "NPkVill             135.0         142.0         155.0           NaN   \n",
       "NWAmes                NaN         164.0         185.0         218.0   \n",
       "NoRidge               NaN           NaN         251.0         300.0   \n",
       "NridgHt               NaN         206.0         295.0         369.0   \n",
       "OldTown              97.0         116.0         138.0         126.0   \n",
       "SWISU                91.0         144.0         137.0         155.0   \n",
       "Sawyer              127.0         136.0         152.0           NaN   \n",
       "SawyerW             117.0         161.0         195.0         231.0   \n",
       "Somerst               NaN         188.0         240.0         335.0   \n",
       "StoneBr               NaN         222.0         284.0         360.0   \n",
       "Timber                NaN         188.0         237.0         341.0   \n",
       "Veenker               NaN         205.0         298.0         294.0   \n",
       "\n",
       "GrLivArea     (2500, 3000]  (3000, 3500]  \n",
       "Neighborhood                              \n",
       "Blmngtn                NaN           NaN  \n",
       "Blueste                NaN           NaN  \n",
       "BrDale                 NaN           NaN  \n",
       "BrkSide                NaN           NaN  \n",
       "ClearCr                NaN         200.0  \n",
       "CollgCr              361.0           NaN  \n",
       "Crawfor              236.0         370.0  \n",
       "Edwards                NaN           NaN  \n",
       "Gilbert                NaN           NaN  \n",
       "IDOTRR                 NaN           NaN  \n",
       "MeadowV              151.0           NaN  \n",
       "Mitchel                NaN           NaN  \n",
       "NAmes                262.0         235.0  \n",
       "NPkVill                NaN           NaN  \n",
       "NWAmes               264.0           NaN  \n",
       "NoRidge              323.0         420.0  \n",
       "NridgHt              433.0         485.0  \n",
       "OldTown              228.0         295.0  \n",
       "SWISU                189.0         198.0  \n",
       "Sawyer               190.0           NaN  \n",
       "SawyerW              301.0         320.0  \n",
       "Somerst              303.0           NaN  \n",
       "StoneBr              420.0         538.0  \n",
       "Timber               290.0           NaN  \n",
       "Veenker                NaN           NaN  "
      ]
     },
     "execution_count": 17,
     "metadata": {},
     "output_type": "execute_result"
    }
   ],
   "source": [
    "gr_bins = pd.cut(housing['GrLivArea'], range(500, 4000, 500))\n",
    "housing.pivot_table(index='Neighborhood', columns=gr_bins, \n",
    "                    values='SalePrice', aggfunc='mean') // 1000"
   ]
  },
  {
   "cell_type": "markdown",
   "metadata": {},
   "source": [
    "#### Correlation"
   ]
  },
  {
   "cell_type": "code",
   "execution_count": 18,
   "metadata": {},
   "outputs": [
    {
     "data": {
      "text/plain": [
       "SalePrice       1.00\n",
       "GrLivArea       0.71\n",
       "GarageArea      0.62\n",
       "FullBath        0.56\n",
       "YearBuilt       0.52\n",
       "LotFrontage     0.35\n",
       "BedroomAbvGr    0.17\n",
       "dtype: float64"
      ]
     },
     "execution_count": 18,
     "metadata": {},
     "output_type": "execute_result"
    }
   ],
   "source": [
    "housing.corrwith(housing['SalePrice']).round(2).sort_values(ascending=False)"
   ]
  },
  {
   "cell_type": "markdown",
   "metadata": {},
   "source": [
    "## Build a simple model without scikit-learn\n",
    "\n",
    "scikit-learn automates the learning process for you. Instead of beginning with it, I recommend building a simple model without it."
   ]
  },
  {
   "cell_type": "markdown",
   "metadata": {},
   "source": [
    "### What are we predicting?\n",
    "In this problem, we want to predict the final sale price of the house.\n",
    "\n",
    "### Assign target variable to `y`"
   ]
  },
  {
   "cell_type": "code",
   "execution_count": 19,
   "metadata": {},
   "outputs": [
    {
     "data": {
      "text/plain": [
       "0    208500\n",
       "1    181500\n",
       "2    223500\n",
       "3    140000\n",
       "4    250000\n",
       "Name: SalePrice, dtype: int64"
      ]
     },
     "execution_count": 19,
     "metadata": {},
     "output_type": "execute_result"
    }
   ],
   "source": [
    "y = housing['SalePrice']\n",
    "y.head()"
   ]
  },
  {
   "cell_type": "markdown",
   "metadata": {},
   "source": [
    "### Baseline model for regression\n",
    "\n",
    "One of the simplest models we can build for regression problems is guessing the mean."
   ]
  },
  {
   "cell_type": "code",
   "execution_count": 20,
   "metadata": {},
   "outputs": [
    {
     "data": {
      "text/plain": [
       "180921.19589041095"
      ]
     },
     "execution_count": 20,
     "metadata": {},
     "output_type": "execute_result"
    }
   ],
   "source": [
    "y_pred = y.mean()\n",
    "y_pred"
   ]
  },
  {
   "cell_type": "markdown",
   "metadata": {},
   "source": [
    "### Assess model performance\n",
    "\n",
    "For each model we build, we will assess its performance. A popular measure of performance for regression problems is the Sum of Squared Error or SSE. This calculation involves three steps:\n",
    "\n",
    "* Calculate error for each observation - actual - mean\n",
    "* Square each error\n",
    "* Sum the errors"
   ]
  },
  {
   "cell_type": "markdown",
   "metadata": {},
   "source": [
    "#### Step 1: Calculate error"
   ]
  },
  {
   "cell_type": "code",
   "execution_count": 21,
   "metadata": {},
   "outputs": [
    {
     "data": {
      "text/plain": [
       "0    27578.80411\n",
       "1      578.80411\n",
       "2    42578.80411\n",
       "3   -40921.19589\n",
       "4    69078.80411\n",
       "Name: SalePrice, dtype: float64"
      ]
     },
     "execution_count": 21,
     "metadata": {},
     "output_type": "execute_result"
    }
   ],
   "source": [
    "error = y - y_pred\n",
    "error.head()"
   ]
  },
  {
   "cell_type": "markdown",
   "metadata": {},
   "source": [
    "#### Step 2: Square errors"
   ]
  },
  {
   "cell_type": "code",
   "execution_count": 22,
   "metadata": {},
   "outputs": [
    {
     "data": {
      "text/plain": [
       "0    7.605904e+08\n",
       "1    3.350142e+05\n",
       "2    1.812955e+09\n",
       "3    1.674544e+09\n",
       "4    4.771881e+09\n",
       "Name: SalePrice, dtype: float64"
      ]
     },
     "execution_count": 22,
     "metadata": {},
     "output_type": "execute_result"
    }
   ],
   "source": [
    "error_squared = error ** 2\n",
    "error_squared.head()"
   ]
  },
  {
   "cell_type": "markdown",
   "metadata": {},
   "source": [
    "#### Step 3: Sum errors\n",
    "\n",
    "Get a single metric to objectively quantify our model."
   ]
  },
  {
   "cell_type": "code",
   "execution_count": 23,
   "metadata": {},
   "outputs": [
    {
     "data": {
      "text/plain": [
       "9207911334609.977"
      ]
     },
     "execution_count": 23,
     "metadata": {},
     "output_type": "execute_result"
    }
   ],
   "source": [
    "model_1_sse = error_squared.sum()\n",
    "model_1_sse"
   ]
  },
  {
   "cell_type": "markdown",
   "metadata": {},
   "source": [
    "### Model 2 - Use average neighborhood sale price"
   ]
  },
  {
   "cell_type": "code",
   "execution_count": 24,
   "metadata": {},
   "outputs": [
    {
     "data": {
      "text/plain": [
       "Neighborhood\n",
       "Blmngtn    194870.882353\n",
       "Blueste    137500.000000\n",
       "BrDale     104493.750000\n",
       "BrkSide    124834.051724\n",
       "ClearCr    212565.428571\n",
       "Name: SalePrice, dtype: float64"
      ]
     },
     "execution_count": 24,
     "metadata": {},
     "output_type": "execute_result"
    }
   ],
   "source": [
    "model_2 = housing.groupby('Neighborhood')['SalePrice'].mean()\n",
    "model_2.head()"
   ]
  },
  {
   "cell_type": "code",
   "execution_count": 25,
   "metadata": {},
   "outputs": [
    {
     "data": {
      "text/plain": [
       "array([198000., 239000., 198000., 211000., 335000., 156000., 225000.,\n",
       "       189000., 128000., 125000.])"
      ]
     },
     "execution_count": 25,
     "metadata": {},
     "output_type": "execute_result"
    }
   ],
   "source": [
    "y_pred = model_2.loc[housing['Neighborhood']].values.round(-3)\n",
    "y_pred[:10]"
   ]
  },
  {
   "cell_type": "markdown",
   "metadata": {},
   "source": [
    "#### Calculate SSE in one step"
   ]
  },
  {
   "cell_type": "code",
   "execution_count": 26,
   "metadata": {},
   "outputs": [
    {
     "data": {
      "text/plain": [
       "4184399557338.0"
      ]
     },
     "execution_count": 26,
     "metadata": {},
     "output_type": "execute_result"
    }
   ],
   "source": [
    "model_2_sse = ((y - y_pred) ** 2).sum()\n",
    "model_2_sse"
   ]
  },
  {
   "cell_type": "markdown",
   "metadata": {},
   "source": [
    "### Model 3"
   ]
  },
  {
   "cell_type": "code",
   "execution_count": 27,
   "metadata": {},
   "outputs": [
    {
     "data": {
      "text/plain": [
       "5642"
      ]
     },
     "execution_count": 27,
     "metadata": {},
     "output_type": "execute_result"
    }
   ],
   "source": [
    "housing['GrLivArea'].max()"
   ]
  },
  {
   "cell_type": "code",
   "execution_count": 28,
   "metadata": {},
   "outputs": [
    {
     "data": {
      "text/plain": [
       "Neighborhood  GrLivArea   \n",
       "Blmngtn       (0, 500]                  NaN\n",
       "              (500, 1000]               NaN\n",
       "              (1000, 1500]    187372.666667\n",
       "              (1500, 2000]    203306.375000\n",
       "              (2000, 2500]              NaN\n",
       "              (2500, 3000]              NaN\n",
       "              (3000, 3500]              NaN\n",
       "              (3500, 4000]              NaN\n",
       "              (4000, 4500]              NaN\n",
       "              (4500, 5000]              NaN\n",
       "              (5000, 5500]              NaN\n",
       "              (5500, 6000]              NaN\n",
       "Blueste       (0, 500]                  NaN\n",
       "              (500, 1000]               NaN\n",
       "              (1000, 1500]    124000.000000\n",
       "              (1500, 2000]    151000.000000\n",
       "              (2000, 2500]              NaN\n",
       "              (2500, 3000]              NaN\n",
       "              (3000, 3500]              NaN\n",
       "              (3500, 4000]              NaN\n",
       "Name: SalePrice, dtype: float64"
      ]
     },
     "execution_count": 28,
     "metadata": {},
     "output_type": "execute_result"
    }
   ],
   "source": [
    "gr_bins = pd.cut(housing['GrLivArea'], range(0, 6500, 500))\n",
    "model_3 = housing.groupby(['Neighborhood', gr_bins])['SalePrice'].mean()\n",
    "model_3.head(20)"
   ]
  },
  {
   "cell_type": "code",
   "execution_count": 29,
   "metadata": {
    "scrolled": true
   },
   "outputs": [
    {
     "data": {
      "text/plain": [
       "array([223000., 205000., 223000., 219000., 301000.])"
      ]
     },
     "execution_count": 29,
     "metadata": {},
     "output_type": "execute_result"
    }
   ],
   "source": [
    "X = housing[['Neighborhood', 'GrLivArea']].itertuples(index=False)\n",
    "y_pred = model_3[X].values.round(-3)\n",
    "y_pred[:5]"
   ]
  },
  {
   "cell_type": "code",
   "execution_count": 30,
   "metadata": {},
   "outputs": [
    {
     "data": {
      "text/plain": [
       "1776596603338.0"
      ]
     },
     "execution_count": 30,
     "metadata": {},
     "output_type": "execute_result"
    }
   ],
   "source": [
    "model_3_sse = ((y - y_pred) ** 2).sum()\n",
    "model_3_sse"
   ]
  },
  {
   "cell_type": "markdown",
   "metadata": {},
   "source": [
    "### Plot errors for simple models"
   ]
  },
  {
   "cell_type": "code",
   "execution_count": 31,
   "metadata": {},
   "outputs": [
    {
     "data": {
      "image/png": "[encoded data removed]",
      "text/plain": [
       "<Figure size 864x360 with 1 Axes>"
      ]
     },
     "metadata": {
      "needs_background": "light"
     },
     "output_type": "display_data"
    }
   ],
   "source": [
    "errors = {'model_1_simple_avg': model_1_sse,\n",
    "          'model_2_neigh_avg': model_2_sse, \n",
    "          'model_3_neigh_area_avg': model_3_sse}\n",
    "pd.Series(errors).plot(kind='bar', figsize=(12, 5), rot=0);"
   ]
  },
  {
   "cell_type": "markdown",
   "metadata": {},
   "source": [
    "## Machine Learning with scikit-learn\n",
    "\n",
    "* scikit-learn provides many regression models to learn from data\n",
    "* The goal of each model is to minimize the squared error \n",
    "\n",
    "### Linear Regression\n",
    "\n",
    "Linear regression is one of the simpler models available in scikit-learn. When learning with a single feature, it's called **simple linear regression**. The form of the model is as follows:\n",
    "\n",
    "$$\\hat{y} = w_{0} + w_{1}x_{1}$$\n",
    "\n",
    "Where $\\hat{y}$ (pronounced y-hat) is the predicted value, $x_1$ is the feature value, and $w_0$ and $w_1$ are the parameters. This is the equation or a line where $w_0$ is the y-intercept and $w_1$ is the slope. \n",
    "\n",
    "### Goal of linear regression\n",
    "\n",
    "The goal of all models is to learn from data. With linear regression, we would like to find the value of the parameters ($w_0$ and $w_1$) that minimize the SSE. Once the values for the parameters are found then the learning is complete.\n",
    "\n",
    "### Select a single feature to learn from\n",
    "\n",
    "We'll select above ground living area (`GrLivArea`) as our single feature for our first linear regression model. Let's plot the relationship between it and the sale price as a scatterplot."
   ]
  },
  {
   "cell_type": "code",
   "execution_count": 32,
   "metadata": {},
   "outputs": [
    {
     "data": {
      "image/png": "[encoded data removed]",
      "text/plain": [
       "<Figure size 864x432 with 1 Axes>"
      ]
     },
     "metadata": {
      "needs_background": "light"
     },
     "output_type": "display_data"
    }
   ],
   "source": [
    "housing.plot(x='GrLivArea', y='SalePrice', kind='scatter', figsize=(12, 6));"
   ]
  },
  {
   "cell_type": "markdown",
   "metadata": {},
   "source": [
    "### Choose values of parameters by hand\n",
    "\n",
    "Before using scikit-learn, let's choose a couple different combinations of $w_0$ and $w_1$ and plot the lines and calculate error. First we create a function that makes the predictions for us given the parameters and the feature values."
   ]
  },
  {
   "cell_type": "code",
   "execution_count": 33,
   "metadata": {},
   "outputs": [],
   "source": [
    "def lr_predict(w0, w1, x):\n",
    "    return w0 + w1 * x"
   ]
  },
  {
   "cell_type": "markdown",
   "metadata": {},
   "source": [
    "Let's use this function to plot two models with different parameter values."
   ]
  },
  {
   "cell_type": "code",
   "execution_count": 34,
   "metadata": {},
   "outputs": [
    {
     "data": {
      "image/png": "[encoded data removed]",
      "text/plain": [
       "<Figure size 864x432 with 1 Axes>"
      ]
     },
     "metadata": {
      "needs_background": "light"
     },
     "output_type": "display_data"
    }
   ],
   "source": [
    "ax = housing.plot(x='GrLivArea', y='SalePrice', kind='scatter', figsize=(12, 6));\n",
    "\n",
    "# model 1 intercept of 50,000 and slope of 75\n",
    "x = np.array([[0], [5000]])\n",
    "w0, w1 = 50_000, 75\n",
    "ax.plot(x, lr_predict(w0, w1, x), color='red', lw=3, label=f'$w_0={w0:,}$\\n$w_1={w1}$')\n",
    "\n",
    "# model 2 intercept of 0 and slope of 125\n",
    "w0, w1 = 0, 125\n",
    "ax.plot(x, lr_predict(w0, w1, x), color='green', lw=3, label=f'$w_0={w0}$\\n$w_1={w1}$')\n",
    "ax.legend();"
   ]
  },
  {
   "cell_type": "markdown",
   "metadata": {},
   "source": [
    "### Calculate errors for each model\n",
    "\n",
    "Use root mean squared error (RMSE) instead. This is a very similar metric, but is relative and not absolute. Much smaller and easier to compare."
   ]
  },
  {
   "cell_type": "code",
   "execution_count": 35,
   "metadata": {},
   "outputs": [
    {
     "data": {
      "text/plain": [
       "0    178250\n",
       "1    144650\n",
       "2    183950\n",
       "3    178775\n",
       "4    214850\n",
       "Name: GrLivArea, dtype: int64"
      ]
     },
     "execution_count": 35,
     "metadata": {},
     "output_type": "execute_result"
    }
   ],
   "source": [
    "y_pred = lr_predict(50_000, 75, housing['GrLivArea'])\n",
    "y_pred.head()"
   ]
  },
  {
   "cell_type": "code",
   "execution_count": 36,
   "metadata": {},
   "outputs": [
    {
     "data": {
      "text/plain": [
       "61014.0"
      ]
     },
     "execution_count": 36,
     "metadata": {},
     "output_type": "execute_result"
    }
   ],
   "source": [
    "model_1_lr = np.sqrt(((y - y_pred) ** 2).mean()).round()\n",
    "model_1_lr"
   ]
  },
  {
   "cell_type": "code",
   "execution_count": 37,
   "metadata": {},
   "outputs": [
    {
     "data": {
      "text/plain": [
       "57449.0"
      ]
     },
     "execution_count": 37,
     "metadata": {},
     "output_type": "execute_result"
    }
   ],
   "source": [
    "y_pred = lr_predict(0, 125, housing['GrLivArea'])\n",
    "model_2_lr = np.sqrt(((y - y_pred) ** 2).mean()).round()\n",
    "model_2_lr"
   ]
  },
  {
   "cell_type": "markdown",
   "metadata": {},
   "source": [
    "Model two has lowest error and is best."
   ]
  },
  {
   "cell_type": "markdown",
   "metadata": {},
   "source": [
    "## The scikit-learn Estimator\n",
    "\n",
    "We now turn to scikit-learn to automate the learning process. scikit-learn will quickly find us the best combination of linear regression parameter values that minimize the squared error.\n",
    "\n",
    "scikit-learn uses the term **Estimator** to refer to any object that learns from data. There are several types of estimators that scikit-learn has built for us. Not all estimators are machine learning models, but all of them **learn from data**. Here are the main types of estimators:\n",
    "\n",
    "* Regressors - Supervised learning with continuous target\n",
    "* Classifiers - Supervised learning with categorical target\n",
    "* Clusterers - Unsupervised learning\n",
    "* Transformers - Transform the input/output data\n",
    "* Meta-estimators - Learn from other estimators\n",
    "\n",
    "### Understanding the scikit-learn API\n",
    "\n",
    "It is instructive to take a glimpse of the scikit-learn API before using it. I like to analogize the API to a house where each of the rooms contains the useful objects for machine learning. Take a look at the scikit-learn 'house' below:\n",
    "\n",
    "![][1]\n",
    "\n",
    "[1]: images/scikit_house.png"
   ]
  },
  {
   "cell_type": "markdown",
   "metadata": {},
   "source": [
    "## Linear regression in scikit-learn\n",
    "\n",
    "While the above models look reasonable, they do not minimize the squared error. scikit-learn uses an algorithm that guarantees to find the combination of parameters that minimize the SSE.\n",
    "\n",
    "### Data requirements for scikit-learn\n",
    "\n",
    "In order to use scikit-learn, the data must be provided in a particular form. Here is how you need to provide your data:\n",
    "\n",
    "* The input data must be two-dimensional\n",
    "* The output data can be one-dimensional\n",
    "* There can be no missing values\n",
    "* The input data cannot contain strings"
   ]
  },
  {
   "cell_type": "markdown",
   "metadata": {},
   "source": [
    "### Select feature as a DataFrame and Target as a Series\n",
    "\n",
    "scikit-learn requires our input data to be two dimensional, even if we are using just a single feature as our input. Below, we select our feature as a DataFrame using a single-item list. By convention, scikit-learn uses the variable names `X` and `y`."
   ]
  },
  {
   "cell_type": "code",
   "execution_count": 38,
   "metadata": {},
   "outputs": [
    {
     "data": {
      "text/html": [
       "<div>\n",
       "<style scoped>\n",
       "    .dataframe tbody tr th:only-of-type {\n",
       "        vertical-align: middle;\n",
       "    }\n",
       "\n",
       "    .dataframe tbody tr th {\n",
       "        vertical-align: top;\n",
       "    }\n",
       "\n",
       "    .dataframe thead th {\n",
       "        text-align: right;\n",
       "    }\n",
       "</style>\n",
       "<table border=\"1\" class=\"dataframe\">\n",
       "  <thead>\n",
       "    <tr style=\"text-align: right;\">\n",
       "      <th></th>\n",
       "      <th>GrLivArea</th>\n",
       "    </tr>\n",
       "  </thead>\n",
       "  <tbody>\n",
       "    <tr>\n",
       "      <th>0</th>\n",
       "      <td>1710</td>\n",
       "    </tr>\n",
       "    <tr>\n",
       "      <th>1</th>\n",
       "      <td>1262</td>\n",
       "    </tr>\n",
       "    <tr>\n",
       "      <th>2</th>\n",
       "      <td>1786</td>\n",
       "    </tr>\n",
       "    <tr>\n",
       "      <th>3</th>\n",
       "      <td>1717</td>\n",
       "    </tr>\n",
       "    <tr>\n",
       "      <th>4</th>\n",
       "      <td>2198</td>\n",
       "    </tr>\n",
       "  </tbody>\n",
       "</table>\n",
       "</div>"
      ],
      "text/plain": [
       "   GrLivArea\n",
       "0       1710\n",
       "1       1262\n",
       "2       1786\n",
       "3       1717\n",
       "4       2198"
      ]
     },
     "execution_count": 38,
     "metadata": {},
     "output_type": "execute_result"
    }
   ],
   "source": [
    "X = housing[['GrLivArea']]\n",
    "y = housing['SalePrice']\n",
    "X.head()"
   ]
  },
  {
   "cell_type": "markdown",
   "metadata": {},
   "source": [
    "## Three-step process for all Estimators - Import, Instantiate, Fit\n",
    "\n",
    "All scikit-learn estimators follow the same three step process:\n",
    "\n",
    "* Import - find model in scikit-learn 'house'\n",
    "* Instantiate - create a single instance of the model\n",
    "* Fit - learn from data"
   ]
  },
  {
   "cell_type": "markdown",
   "metadata": {},
   "source": [
    "### Step 1: Import"
   ]
  },
  {
   "cell_type": "code",
   "execution_count": 40,
   "metadata": {},
   "outputs": [],
   "source": [
    "from sklearn.linear_model import LinearRegression"
   ]
  },
  {
   "cell_type": "markdown",
   "metadata": {},
   "source": [
    "### Step 2: Instantiate"
   ]
  },
  {
   "cell_type": "code",
   "execution_count": 41,
   "metadata": {},
   "outputs": [],
   "source": [
    "lr = LinearRegression()"
   ]
  },
  {
   "cell_type": "markdown",
   "metadata": {},
   "source": [
    "### Step 3: Fit"
   ]
  },
  {
   "cell_type": "code",
   "execution_count": 42,
   "metadata": {},
   "outputs": [
    {
     "data": {
      "text/plain": [
       "LinearRegression(copy_X=True, fit_intercept=True, n_jobs=None, normalize=False)"
      ]
     },
     "execution_count": 42,
     "metadata": {},
     "output_type": "execute_result"
    }
   ],
   "source": [
    "lr.fit(X, y)"
   ]
  },
  {
   "cell_type": "markdown",
   "metadata": {},
   "source": [
    "### Get the model\n",
    "\n",
    "After calling the `fit` method, the model is trained. We can find the optimal parameter values by accessing the `intercept_` and `coef_` attributes."
   ]
  },
  {
   "cell_type": "code",
   "execution_count": 43,
   "metadata": {},
   "outputs": [
    {
     "data": {
      "text/plain": [
       "18569.02585648722"
      ]
     },
     "execution_count": 43,
     "metadata": {},
     "output_type": "execute_result"
    }
   ],
   "source": [
    "lr.intercept_"
   ]
  },
  {
   "cell_type": "code",
   "execution_count": 44,
   "metadata": {},
   "outputs": [
    {
     "data": {
      "text/plain": [
       "array([107.13035897])"
      ]
     },
     "execution_count": 44,
     "metadata": {},
     "output_type": "execute_result"
    }
   ],
   "source": [
    "lr.coef_"
   ]
  },
  {
   "cell_type": "markdown",
   "metadata": {},
   "source": [
    "### Make predictions with the `predict` method"
   ]
  },
  {
   "cell_type": "code",
   "execution_count": 45,
   "metadata": {},
   "outputs": [
    {
     "data": {
      "text/plain": [
       "array([179264.56430523])"
      ]
     },
     "execution_count": 45,
     "metadata": {},
     "output_type": "execute_result"
    }
   ],
   "source": [
    "lr.predict([[1500]])"
   ]
  },
  {
   "cell_type": "markdown",
   "metadata": {},
   "source": [
    "### Make predictions on all input data"
   ]
  },
  {
   "cell_type": "code",
   "execution_count": 46,
   "metadata": {},
   "outputs": [
    {
     "data": {
      "text/plain": [
       "array([202000., 154000., 210000., 203000., 254000.])"
      ]
     },
     "execution_count": 46,
     "metadata": {},
     "output_type": "execute_result"
    }
   ],
   "source": [
    "y_pred = lr.predict(X).round(-3)\n",
    "y_pred[:5]"
   ]
  },
  {
   "cell_type": "markdown",
   "metadata": {},
   "source": [
    "### Plot best model"
   ]
  },
  {
   "cell_type": "code",
   "execution_count": 47,
   "metadata": {},
   "outputs": [
    {
     "data": {
      "image/png": "[encoded data removed]",
      "text/plain": [
       "<Figure size 864x432 with 1 Axes>"
      ]
     },
     "metadata": {
      "needs_background": "light"
     },
     "output_type": "display_data"
    }
   ],
   "source": [
    "ax = housing.plot(x='GrLivArea', y='SalePrice', kind='scatter', figsize=(12, 6))\n",
    "\n",
    "# model 1 intercept of 50,000 and slope of 75\n",
    "x = np.array([[0], [5000]])\n",
    "w0, w1 = 50_000, 75\n",
    "ax.plot(x, lr_predict(w0, w1, x), color='red', lw=3, label=f'$w_0={w0:,}$\\n$w_1={w1}$')\n",
    "\n",
    "# model 2 intercept of 0 and slope of 125\n",
    "w0, w1 = 0, 125\n",
    "ax.plot(x, lr_predict(w0, w1, x), color='green', lw=3, label=f'$w_0={w0}$\\n$w_1={w1}$')\n",
    "\n",
    "# LinearRegression in scikit-learn\n",
    "y_pred = lr.predict(x)\n",
    "w0 = lr.intercept_.round(-3)\n",
    "w1 = lr.coef_[0]\n",
    "ax.plot(x, y_pred, color='black', lw=5, ls='--', label=f'$w_0={w0:,.0f}$\\n$w_1={w1:.0f}$')\n",
    "ax.legend();"
   ]
  },
  {
   "cell_type": "markdown",
   "metadata": {},
   "source": [
    "### Assessing model performance - $R^2$\n",
    "\n",
    "scikit-learn uses, $R^2$, a slightly different metric as its default for model performance. Here is the procedure for calculating $R^2$\n",
    "\n",
    "* Find the SSE of the model\n",
    "* Find the SSE when guessing the mean\n",
    "* $R^2$ is the percentage decrease in the SSE when guessing the mean versus the SSE of the model."
   ]
  },
  {
   "cell_type": "markdown",
   "metadata": {},
   "source": [
    "### Calculate $R^2$ by hand"
   ]
  },
  {
   "cell_type": "code",
   "execution_count": 48,
   "metadata": {},
   "outputs": [],
   "source": [
    "y_pred_model = lr.predict(X)\n",
    "y_pred_mean = y.mean()"
   ]
  },
  {
   "cell_type": "code",
   "execution_count": 49,
   "metadata": {},
   "outputs": [
    {
     "data": {
      "text/plain": [
       "4584171086113.13"
      ]
     },
     "execution_count": 49,
     "metadata": {},
     "output_type": "execute_result"
    }
   ],
   "source": [
    "sse_model = ((y - y_pred_model) ** 2).sum()\n",
    "sse_model"
   ]
  },
  {
   "cell_type": "code",
   "execution_count": 50,
   "metadata": {},
   "outputs": [
    {
     "data": {
      "text/plain": [
       "9207911334609.977"
      ]
     },
     "execution_count": 50,
     "metadata": {},
     "output_type": "execute_result"
    }
   ],
   "source": [
    "sse_mean = ((y - y_pred_mean) ** 2).sum()\n",
    "sse_mean"
   ]
  },
  {
   "cell_type": "code",
   "execution_count": 51,
   "metadata": {},
   "outputs": [
    {
     "data": {
      "text/plain": [
       "0.5021486502718042"
      ]
     },
     "execution_count": 51,
     "metadata": {},
     "output_type": "execute_result"
    }
   ],
   "source": [
    "r2 = 1 - sse_model / sse_mean\n",
    "r2"
   ]
  },
  {
   "cell_type": "markdown",
   "metadata": {},
   "source": [
    "### Use score method to calculate $R^2$\n",
    "\n",
    "All regression estimators have a `score` method that returns the $R^2$. Let's verify that it's the same."
   ]
  },
  {
   "cell_type": "code",
   "execution_count": 52,
   "metadata": {},
   "outputs": [
    {
     "data": {
      "text/plain": [
       "0.5021486502718042"
      ]
     },
     "execution_count": 52,
     "metadata": {},
     "output_type": "execute_result"
    }
   ],
   "source": [
    "lr.score(X, y)"
   ]
  },
  {
   "cell_type": "markdown",
   "metadata": {},
   "source": [
    "### Visualizing $R^2$\n",
    "\n",
    "Best possible score is 1.\n",
    "\n",
    "![][0]\n",
    "\n",
    "[0]: images/r2_matplotlib.png"
   ]
  },
  {
   "cell_type": "markdown",
   "metadata": {},
   "source": [
    "### $R^2$ - percent variance explained\n",
    "\n",
    "The SSE when guessing the mean is also the definition of the statistical variance (multiplied by the number of observations). Therefore, the SSE of the model is the percentage decrease in this variance. The variance is the natural variation of the target. We are interested in understanding why it varies. Why isn't the target the same for every input? We use a model to explain this variance. We'd like to explain all of the variance. The metric $R^2$ informs us of how much this natural inherent variance has been removed."
   ]
  },
  {
   "cell_type": "markdown",
   "metadata": {},
   "source": [
    "## Exercise\n",
    "\n",
    "Instantiate a new `LinearRegression` estimator and use a different feature to learn from. Output the parameter values and the $R^2$ score."
   ]
  },
  {
   "cell_type": "code",
   "execution_count": null,
   "metadata": {},
   "outputs": [],
   "source": []
  },
  {
   "cell_type": "markdown",
   "metadata": {},
   "source": [
    "## Multiple Linear Regression\n",
    "\n",
    "Use more than one predictor variable. New model:\n",
    "\n",
    "$$\\hat{y} = w_{0} + w_{1}x_{1} + w_{2}x_{2} + ... + w_{p}x_{p}$$\n",
    "\n",
    "Where `p` is the number of predictor variables (features).\n",
    "\n",
    "### Select multiple columns"
   ]
  },
  {
   "cell_type": "code",
   "execution_count": 53,
   "metadata": {},
   "outputs": [
    {
     "data": {
      "text/html": [
       "<div>\n",
       "<style scoped>\n",
       "    .dataframe tbody tr th:only-of-type {\n",
       "        vertical-align: middle;\n",
       "    }\n",
       "\n",
       "    .dataframe tbody tr th {\n",
       "        vertical-align: top;\n",
       "    }\n",
       "\n",
       "    .dataframe thead th {\n",
       "        text-align: right;\n",
       "    }\n",
       "</style>\n",
       "<table border=\"1\" class=\"dataframe\">\n",
       "  <thead>\n",
       "    <tr style=\"text-align: right;\">\n",
       "      <th></th>\n",
       "      <th>GrLivArea</th>\n",
       "      <th>GarageArea</th>\n",
       "      <th>FullBath</th>\n",
       "    </tr>\n",
       "  </thead>\n",
       "  <tbody>\n",
       "    <tr>\n",
       "      <th>0</th>\n",
       "      <td>1710</td>\n",
       "      <td>548</td>\n",
       "      <td>2</td>\n",
       "    </tr>\n",
       "    <tr>\n",
       "      <th>1</th>\n",
       "      <td>1262</td>\n",
       "      <td>460</td>\n",
       "      <td>2</td>\n",
       "    </tr>\n",
       "    <tr>\n",
       "      <th>2</th>\n",
       "      <td>1786</td>\n",
       "      <td>608</td>\n",
       "      <td>2</td>\n",
       "    </tr>\n",
       "    <tr>\n",
       "      <th>3</th>\n",
       "      <td>1717</td>\n",
       "      <td>642</td>\n",
       "      <td>1</td>\n",
       "    </tr>\n",
       "    <tr>\n",
       "      <th>4</th>\n",
       "      <td>2198</td>\n",
       "      <td>836</td>\n",
       "      <td>2</td>\n",
       "    </tr>\n",
       "  </tbody>\n",
       "</table>\n",
       "</div>"
      ],
      "text/plain": [
       "   GrLivArea  GarageArea  FullBath\n",
       "0       1710         548         2\n",
       "1       1262         460         2\n",
       "2       1786         608         2\n",
       "3       1717         642         1\n",
       "4       2198         836         2"
      ]
     },
     "execution_count": 53,
     "metadata": {},
     "output_type": "execute_result"
    }
   ],
   "source": [
    "cols = ['GrLivArea', 'GarageArea', 'FullBath']\n",
    "X = housing[cols]\n",
    "X.head()"
   ]
  },
  {
   "cell_type": "markdown",
   "metadata": {},
   "source": [
    "### Train the model again - no need to import\n",
    "\n",
    "Since we already imported the `LinearRegression` class, we can straight to step 2."
   ]
  },
  {
   "cell_type": "code",
   "execution_count": 54,
   "metadata": {},
   "outputs": [],
   "source": [
    "lr2 = LinearRegression()"
   ]
  },
  {
   "cell_type": "markdown",
   "metadata": {},
   "source": [
    "Fit with new data."
   ]
  },
  {
   "cell_type": "code",
   "execution_count": 55,
   "metadata": {},
   "outputs": [
    {
     "data": {
      "text/plain": [
       "LinearRegression(copy_X=True, fit_intercept=True, n_jobs=None, normalize=False)"
      ]
     },
     "execution_count": 55,
     "metadata": {},
     "output_type": "execute_result"
    }
   ],
   "source": [
    "lr2.fit(X, y)"
   ]
  },
  {
   "cell_type": "markdown",
   "metadata": {},
   "source": [
    "### Get learned model"
   ]
  },
  {
   "cell_type": "code",
   "execution_count": 56,
   "metadata": {},
   "outputs": [
    {
     "data": {
      "text/plain": [
       "-15836.576952616451"
      ]
     },
     "execution_count": 56,
     "metadata": {},
     "output_type": "execute_result"
    }
   ],
   "source": [
    "lr2.intercept_"
   ]
  },
  {
   "cell_type": "code",
   "execution_count": 57,
   "metadata": {},
   "outputs": [
    {
     "data": {
      "text/plain": [
       "array([   70.0661081 ,   132.12662295, 17942.89605841])"
      ]
     },
     "execution_count": 57,
     "metadata": {},
     "output_type": "execute_result"
    }
   ],
   "source": [
    "lr2.coef_"
   ]
  },
  {
   "cell_type": "markdown",
   "metadata": {},
   "source": [
    "### Model interpretation\n",
    "\n",
    "For every one unit increase in the feature, a corresponding increase of the parameter value is expected in the target (many assumptions)."
   ]
  },
  {
   "cell_type": "markdown",
   "metadata": {},
   "source": [
    "### Score new model"
   ]
  },
  {
   "cell_type": "code",
   "execution_count": 58,
   "metadata": {},
   "outputs": [
    {
     "data": {
      "text/plain": [
       "0.6198706918364121"
      ]
     },
     "execution_count": 58,
     "metadata": {},
     "output_type": "execute_result"
    }
   ],
   "source": [
    "lr2.score(X, y)"
   ]
  },
  {
   "cell_type": "markdown",
   "metadata": {},
   "source": [
    "## Other ML models - Back at the scikit-learn house\n",
    "\n",
    "![][0]\n",
    "\n",
    "[0]: images/scikit_house.png"
   ]
  },
  {
   "cell_type": "markdown",
   "metadata": {},
   "source": [
    "## K-Nearest Neighbors\n",
    "\n",
    "K-Nearest neighbors (KNN) provides a completely different approach to learning from data. KNN finds the most similar observations to the one being predicted. It then averages the target variable for all of these similar neighbors to make a prediction. You must supply it a value, `k`, for the number of neighbors you would like to find.\n",
    "\n",
    "### Visualizing KNN\n",
    "\n",
    "The below function accepts a value for an above ground living area, garage area, and number of neighbors. It then calculates the distance between the provided values and all other values in the dataset. The k nearest neighbors are found based on this distance calculation. The average sales price of these five neighbors is returned."
   ]
  },
  {
   "cell_type": "code",
   "execution_count": 59,
   "metadata": {},
   "outputs": [],
   "source": [
    "def plot_neighbors(sq_foot, sq_foot_garage, k):\n",
    "    df = housing[['GrLivArea', 'GarageArea', 'SalePrice']].copy()\n",
    "    df['distance'] = np.sqrt((df['GrLivArea'] - sq_foot) ** 2 + (df['GarageArea'] - sq_foot_garage) ** 2)\n",
    "    df_neighbors = df.nsmallest(k, 'distance')\n",
    "    mean = df_neighbors['SalePrice'].mean()\n",
    "    ax = df.plot(x='GrLivArea', y='GarageArea', kind='scatter', figsize=(14, 6))\n",
    "    df_neighbors.plot(x='GrLivArea', y='GarageArea', kind='scatter', color='red', ax=ax, label=f'{k} neighbors')\n",
    "    ax.scatter([sq_foot], [sq_foot_garage], color='green', s=40, label='Predicted Value')\n",
    "    ax.set_title(f'{k} nearest neighbors of {sq_foot} square feet and {sq_foot_garage} '\n",
    "                 f'basement square feet predict sale price of {mean}')\n",
    "    ax.legend()"
   ]
  },
  {
   "cell_type": "code",
   "execution_count": 60,
   "metadata": {},
   "outputs": [
    {
     "data": {
      "image/png": "[encoded data removed]",
      "text/plain": [
       "<Figure size 1008x432 with 1 Axes>"
      ]
     },
     "metadata": {
      "needs_background": "light"
     },
     "output_type": "display_data"
    }
   ],
   "source": [
    "plot_neighbors(3500, 700, 5)"
   ]
  },
  {
   "cell_type": "markdown",
   "metadata": {},
   "source": [
    "### KNN in scikit-learn\n",
    "\n",
    "The `KNeighborsRegressor` estimator from the `neighbors` module is available in scikit-learn to do KNN. Just like all estimators, it follows the same three-step process - import, instantiate, fit. When we instantiate it, we set the number of neighbors with the `n_neighbors` parameter. All three steps are completed in a single cell. We select the same features as the plot above."
   ]
  },
  {
   "cell_type": "code",
   "execution_count": 61,
   "metadata": {},
   "outputs": [],
   "source": [
    "cols = ['GrLivArea', 'GarageArea']\n",
    "X = housing[cols]"
   ]
  },
  {
   "cell_type": "code",
   "execution_count": 62,
   "metadata": {},
   "outputs": [
    {
     "data": {
      "text/plain": [
       "KNeighborsRegressor(algorithm='auto', leaf_size=30, metric='minkowski',\n",
       "                    metric_params=None, n_jobs=None, n_neighbors=5, p=2,\n",
       "                    weights='uniform')"
      ]
     },
     "execution_count": 62,
     "metadata": {},
     "output_type": "execute_result"
    }
   ],
   "source": [
    "from sklearn.neighbors import KNeighborsRegressor\n",
    "knr = KNeighborsRegressor(n_neighbors=5)\n",
    "knr.fit(X, y)"
   ]
  },
  {
   "cell_type": "markdown",
   "metadata": {},
   "source": [
    "### Prediction"
   ]
  },
  {
   "cell_type": "code",
   "execution_count": 63,
   "metadata": {},
   "outputs": [
    {
     "data": {
      "text/plain": [
       "array([468600.])"
      ]
     },
     "execution_count": 63,
     "metadata": {},
     "output_type": "execute_result"
    }
   ],
   "source": [
    "knr.predict([[3500, 700]])"
   ]
  },
  {
   "cell_type": "markdown",
   "metadata": {},
   "source": [
    "### Score\n",
    "\n",
    "By default, all scikit-learn regression estimators use $R^2$ as their evaluation metric in the `score` method."
   ]
  },
  {
   "cell_type": "code",
   "execution_count": 64,
   "metadata": {},
   "outputs": [
    {
     "data": {
      "text/plain": [
       "0.723809534917851"
      ]
     },
     "execution_count": 64,
     "metadata": {},
     "output_type": "execute_result"
    }
   ],
   "source": [
    "knr.score(X, y)"
   ]
  },
  {
   "cell_type": "markdown",
   "metadata": {},
   "source": [
    "## Decision Trees\n",
    "\n",
    "Decision trees are one of the more interpretable models (when not so deep) and are composed of:\n",
    "\n",
    "* Nodes - where a binary decision is made\n",
    "* Branches - lead you to the next node (decision)\n",
    "* Leaves - bottom of the tree, where prediction is\n",
    "\n",
    "![][0]\n",
    "\n",
    "\n",
    "\n",
    "[0]: images/tree.png"
   ]
  },
  {
   "cell_type": "markdown",
   "metadata": {},
   "source": [
    "### Decision trees in scikit-learn\n",
    "\n",
    "The `DecisionTreeRegressor` estimator from the `tree` module learns a decision tree in scikit-learn. Let's use a different set of columns."
   ]
  },
  {
   "cell_type": "code",
   "execution_count": 65,
   "metadata": {},
   "outputs": [
    {
     "data": {
      "text/html": [
       "<div>\n",
       "<style scoped>\n",
       "    .dataframe tbody tr th:only-of-type {\n",
       "        vertical-align: middle;\n",
       "    }\n",
       "\n",
       "    .dataframe tbody tr th {\n",
       "        vertical-align: top;\n",
       "    }\n",
       "\n",
       "    .dataframe thead th {\n",
       "        text-align: right;\n",
       "    }\n",
       "</style>\n",
       "<table border=\"1\" class=\"dataframe\">\n",
       "  <thead>\n",
       "    <tr style=\"text-align: right;\">\n",
       "      <th></th>\n",
       "      <th>BedroomAbvGr</th>\n",
       "      <th>FullBath</th>\n",
       "    </tr>\n",
       "  </thead>\n",
       "  <tbody>\n",
       "    <tr>\n",
       "      <th>0</th>\n",
       "      <td>3</td>\n",
       "      <td>2</td>\n",
       "    </tr>\n",
       "    <tr>\n",
       "      <th>1</th>\n",
       "      <td>3</td>\n",
       "      <td>2</td>\n",
       "    </tr>\n",
       "    <tr>\n",
       "      <th>2</th>\n",
       "      <td>3</td>\n",
       "      <td>2</td>\n",
       "    </tr>\n",
       "    <tr>\n",
       "      <th>3</th>\n",
       "      <td>3</td>\n",
       "      <td>1</td>\n",
       "    </tr>\n",
       "    <tr>\n",
       "      <th>4</th>\n",
       "      <td>4</td>\n",
       "      <td>2</td>\n",
       "    </tr>\n",
       "  </tbody>\n",
       "</table>\n",
       "</div>"
      ],
      "text/plain": [
       "   BedroomAbvGr  FullBath\n",
       "0             3         2\n",
       "1             3         2\n",
       "2             3         2\n",
       "3             3         1\n",
       "4             4         2"
      ]
     },
     "execution_count": 65,
     "metadata": {},
     "output_type": "execute_result"
    }
   ],
   "source": [
    "cols = ['BedroomAbvGr', 'FullBath']\n",
    "X = housing[cols]\n",
    "X.head()"
   ]
  },
  {
   "cell_type": "markdown",
   "metadata": {},
   "source": [
    "Follow the same three step process. Set the maximum depth of the tree with the `max_depth` parameter."
   ]
  },
  {
   "cell_type": "code",
   "execution_count": 66,
   "metadata": {},
   "outputs": [
    {
     "data": {
      "text/plain": [
       "DecisionTreeRegressor(ccp_alpha=0.0, criterion='mse', max_depth=2,\n",
       "                      max_features=None, max_leaf_nodes=None,\n",
       "                      min_impurity_decrease=0.0, min_impurity_split=None,\n",
       "                      min_samples_leaf=1, min_samples_split=2,\n",
       "                      min_weight_fraction_leaf=0.0, presort='deprecated',\n",
       "                      random_state=None, splitter='best')"
      ]
     },
     "execution_count": 66,
     "metadata": {},
     "output_type": "execute_result"
    }
   ],
   "source": [
    "from sklearn.tree import DecisionTreeRegressor\n",
    "dtr = DecisionTreeRegressor(max_depth=2)\n",
    "dtr.fit(X, y)"
   ]
  },
  {
   "cell_type": "markdown",
   "metadata": {},
   "source": [
    "### Make predictions and score"
   ]
  },
  {
   "cell_type": "code",
   "execution_count": 67,
   "metadata": {},
   "outputs": [
    {
     "data": {
      "text/plain": [
       "0.3417103629521596"
      ]
     },
     "execution_count": 67,
     "metadata": {},
     "output_type": "execute_result"
    }
   ],
   "source": [
    "dtr.score(X, y)"
   ]
  },
  {
   "cell_type": "code",
   "execution_count": 68,
   "metadata": {},
   "outputs": [
    {
     "data": {
      "text/plain": [
       "array([213000., 213000., 213000., 133000., 213000.])"
      ]
     },
     "execution_count": 68,
     "metadata": {},
     "output_type": "execute_result"
    }
   ],
   "source": [
    "dtr.predict(X).round(-3)[:5]"
   ]
  },
  {
   "cell_type": "markdown",
   "metadata": {},
   "source": [
    "### Visualizing the decision tree\n",
    "\n",
    "You'll need to install the graphviz library with `conda install graphviz`."
   ]
  },
  {
   "cell_type": "code",
   "execution_count": 69,
   "metadata": {},
   "outputs": [
    {
     "data": {
      "image/svg+xml": [
       "<?xml version=\"1.0\" encoding=\"UTF-8\" standalone=\"no\"?>\n",
       "<!DOCTYPE svg PUBLIC \"-//W3C//DTD SVG 1.1//EN\"\n",
       " \"http://www.w3.org/Graphics/SVG/1.1/DTD/svg11.dtd\">\n",
       "<!-- Generated by graphviz version 2.42.3 (20191010.1750)\n",
       " -->\n",
       "<!-- Title: Tree Pages: 1 -->\n",
       "<svg width=\"660pt\" height=\"258pt\"\n",
       " viewBox=\"0.00 0.00 659.83 258.00\" xmlns=\"http://www.w3.org/2000/svg\" xmlns:xlink=\"http://www.w3.org/1999/xlink\">\n",
       "<g id=\"graph0\" class=\"graph\" transform=\"scale(1 1) rotate(0) translate(4 254)\">\n",
       "<title>Tree</title>\n",
       "<polygon fill=\"white\" stroke=\"transparent\" points=\"-4,4 -4,-254 655.83,-254 655.83,4 -4,4\"/>\n",
       "<!-- 0 -->\n",
       "<g id=\"node1\" class=\"node\">\n",
       "<title>0</title>\n",
       "<path fill=\"#f9e3d2\" stroke=\"black\" d=\"M382.91,-250C382.91,-250 259.03,-250 259.03,-250 253.03,-250 247.03,-244 247.03,-238 247.03,-238 247.03,-198 247.03,-198 247.03,-192 253.03,-186 259.03,-186 259.03,-186 382.91,-186 382.91,-186 388.91,-186 394.91,-192 394.91,-198 394.91,-198 394.91,-238 394.91,-238 394.91,-244 388.91,-250 382.91,-250\"/>\n",
       "<text text-anchor=\"start\" x=\"277.83\" y=\"-234.8\" font-family=\"Helvetica,sans-Serif\" font-size=\"14.00\">FullBath ≤ 1.5</text>\n",
       "<text text-anchor=\"start\" x=\"255\" y=\"-220.8\" font-family=\"Helvetica,sans-Serif\" font-size=\"14.00\">mse = 6306788585.3</text>\n",
       "<text text-anchor=\"start\" x=\"271.35\" y=\"-206.8\" font-family=\"Helvetica,sans-Serif\" font-size=\"14.00\">samples = 1460</text>\n",
       "<text text-anchor=\"start\" x=\"267.06\" y=\"-192.8\" font-family=\"Helvetica,sans-Serif\" font-size=\"14.00\">value = 180921.2</text>\n",
       "</g>\n",
       "<!-- 1 -->\n",
       "<g id=\"node2\" class=\"node\">\n",
       "<title>1</title>\n",
       "<path fill=\"#fffdfd\" stroke=\"black\" d=\"M299.91,-150C299.91,-150 176.03,-150 176.03,-150 170.03,-150 164.03,-144 164.03,-138 164.03,-138 164.03,-98 164.03,-98 164.03,-92 170.03,-86 176.03,-86 176.03,-86 299.91,-86 299.91,-86 305.91,-86 311.91,-92 311.91,-98 311.91,-98 311.91,-138 311.91,-138 311.91,-144 305.91,-150 299.91,-150\"/>\n",
       "<text text-anchor=\"start\" x=\"172.27\" y=\"-134.8\" font-family=\"Helvetica,sans-Serif\" font-size=\"14.00\">BedroomAbvGr ≤ 1.5</text>\n",
       "<text text-anchor=\"start\" x=\"172\" y=\"-120.8\" font-family=\"Helvetica,sans-Serif\" font-size=\"14.00\">mse = 1850545431.7</text>\n",
       "<text text-anchor=\"start\" x=\"192.25\" y=\"-106.8\" font-family=\"Helvetica,sans-Serif\" font-size=\"14.00\">samples = 659</text>\n",
       "<text text-anchor=\"start\" x=\"184.06\" y=\"-92.8\" font-family=\"Helvetica,sans-Serif\" font-size=\"14.00\">value = 135167.3</text>\n",
       "</g>\n",
       "<!-- 0&#45;&gt;1 -->\n",
       "<g id=\"edge1\" class=\"edge\">\n",
       "<title>0&#45;&gt;1</title>\n",
       "<path fill=\"none\" stroke=\"black\" d=\"M294.71,-185.99C287.14,-177.06 278.78,-167.19 270.87,-157.84\"/>\n",
       "<polygon fill=\"black\" stroke=\"black\" points=\"273.48,-155.51 264.35,-150.14 268.14,-160.04 273.48,-155.51\"/>\n",
       "<text text-anchor=\"middle\" x=\"262.28\" y=\"-170.86\" font-family=\"Helvetica,sans-Serif\" font-size=\"14.00\">True</text>\n",
       "</g>\n",
       "<!-- 4 -->\n",
       "<g id=\"node5\" class=\"node\">\n",
       "<title>4</title>\n",
       "<path fill=\"#f5cdb0\" stroke=\"black\" d=\"M465.91,-150C465.91,-150 342.03,-150 342.03,-150 336.03,-150 330.03,-144 330.03,-138 330.03,-138 330.03,-98 330.03,-98 330.03,-92 336.03,-86 342.03,-86 342.03,-86 465.91,-86 465.91,-86 471.91,-86 477.91,-92 477.91,-98 477.91,-98 477.91,-138 477.91,-138 477.91,-144 471.91,-150 465.91,-150\"/>\n",
       "<text text-anchor=\"start\" x=\"360.83\" y=\"-134.8\" font-family=\"Helvetica,sans-Serif\" font-size=\"14.00\">FullBath ≤ 2.5</text>\n",
       "<text text-anchor=\"start\" x=\"338\" y=\"-120.8\" font-family=\"Helvetica,sans-Serif\" font-size=\"14.00\">mse = 6833759418.5</text>\n",
       "<text text-anchor=\"start\" x=\"358.25\" y=\"-106.8\" font-family=\"Helvetica,sans-Serif\" font-size=\"14.00\">samples = 801</text>\n",
       "<text text-anchor=\"start\" x=\"350.06\" y=\"-92.8\" font-family=\"Helvetica,sans-Serif\" font-size=\"14.00\">value = 218563.9</text>\n",
       "</g>\n",
       "<!-- 0&#45;&gt;4 -->\n",
       "<g id=\"edge4\" class=\"edge\">\n",
       "<title>0&#45;&gt;4</title>\n",
       "<path fill=\"none\" stroke=\"black\" d=\"M347.23,-185.99C354.8,-177.06 363.16,-167.19 371.07,-157.84\"/>\n",
       "<polygon fill=\"black\" stroke=\"black\" points=\"373.8,-160.04 377.59,-150.14 368.46,-155.51 373.8,-160.04\"/>\n",
       "<text text-anchor=\"middle\" x=\"379.66\" y=\"-170.86\" font-family=\"Helvetica,sans-Serif\" font-size=\"14.00\">False</text>\n",
       "</g>\n",
       "<!-- 2 -->\n",
       "<g id=\"node3\" class=\"node\">\n",
       "<title>2</title>\n",
       "<path fill=\"#fbeadf\" stroke=\"black\" d=\"M135.91,-50C135.91,-50 12.03,-50 12.03,-50 6.03,-50 0.03,-44 0.03,-38 0.03,-38 0.03,-12 0.03,-12 0.03,-6 6.03,0 12.03,0 12.03,0 135.91,0 135.91,0 141.91,0 147.91,-6 147.91,-12 147.91,-12 147.91,-38 147.91,-38 147.91,-44 141.91,-50 135.91,-50\"/>\n",
       "<text text-anchor=\"start\" x=\"8\" y=\"-34.8\" font-family=\"Helvetica,sans-Serif\" font-size=\"14.00\">mse = 9171062959.8</text>\n",
       "<text text-anchor=\"start\" x=\"32.14\" y=\"-20.8\" font-family=\"Helvetica,sans-Serif\" font-size=\"14.00\">samples = 50</text>\n",
       "<text text-anchor=\"start\" x=\"20.06\" y=\"-6.8\" font-family=\"Helvetica,sans-Serif\" font-size=\"14.00\">value = 167575.6</text>\n",
       "</g>\n",
       "<!-- 1&#45;&gt;2 -->\n",
       "<g id=\"edge2\" class=\"edge\">\n",
       "<title>1&#45;&gt;2</title>\n",
       "<path fill=\"none\" stroke=\"black\" d=\"M181.99,-85.94C163.97,-75.94 144.09,-64.91 126.34,-55.06\"/>\n",
       "<polygon fill=\"black\" stroke=\"black\" points=\"127.72,-51.82 117.28,-50.03 124.32,-57.94 127.72,-51.82\"/>\n",
       "</g>\n",
       "<!-- 3 -->\n",
       "<g id=\"node4\" class=\"node\">\n",
       "<title>3</title>\n",
       "<path fill=\"#ffffff\" stroke=\"black\" d=\"M300.38,-50C300.38,-50 177.56,-50 177.56,-50 171.56,-50 165.56,-44 165.56,-38 165.56,-38 165.56,-12 165.56,-12 165.56,-6 171.56,0 177.56,0 177.56,0 300.38,0 300.38,0 306.38,0 312.38,-6 312.38,-12 312.38,-12 312.38,-38 312.38,-38 312.38,-44 306.38,-50 300.38,-50\"/>\n",
       "<text text-anchor=\"start\" x=\"173.52\" y=\"-34.8\" font-family=\"Helvetica,sans-Serif\" font-size=\"14.00\">mse = 1156206325.7</text>\n",
       "<text text-anchor=\"start\" x=\"193.25\" y=\"-20.8\" font-family=\"Helvetica,sans-Serif\" font-size=\"14.00\">samples = 609</text>\n",
       "<text text-anchor=\"start\" x=\"185.06\" y=\"-6.8\" font-family=\"Helvetica,sans-Serif\" font-size=\"14.00\">value = 132506.5</text>\n",
       "</g>\n",
       "<!-- 1&#45;&gt;3 -->\n",
       "<g id=\"edge3\" class=\"edge\">\n",
       "<title>1&#45;&gt;3</title>\n",
       "<path fill=\"none\" stroke=\"black\" d=\"M238.31,-85.94C238.4,-77.68 238.5,-68.72 238.59,-60.31\"/>\n",
       "<polygon fill=\"black\" stroke=\"black\" points=\"242.1,-60.07 238.71,-50.03 235.1,-59.99 242.1,-60.07\"/>\n",
       "</g>\n",
       "<!-- 5 -->\n",
       "<g id=\"node6\" class=\"node\">\n",
       "<title>5</title>\n",
       "<path fill=\"#f5d0b5\" stroke=\"black\" d=\"M465.91,-50C465.91,-50 342.03,-50 342.03,-50 336.03,-50 330.03,-44 330.03,-38 330.03,-38 330.03,-12 330.03,-12 330.03,-6 336.03,0 342.03,0 342.03,0 465.91,0 465.91,0 471.91,0 477.91,-6 477.91,-12 477.91,-12 477.91,-38 477.91,-38 477.91,-44 471.91,-50 465.91,-50\"/>\n",
       "<text text-anchor=\"start\" x=\"338\" y=\"-34.8\" font-family=\"Helvetica,sans-Serif\" font-size=\"14.00\">mse = 5241706120.7</text>\n",
       "<text text-anchor=\"start\" x=\"358.25\" y=\"-20.8\" font-family=\"Helvetica,sans-Serif\" font-size=\"14.00\">samples = 768</text>\n",
       "<text text-anchor=\"start\" x=\"350.06\" y=\"-6.8\" font-family=\"Helvetica,sans-Serif\" font-size=\"14.00\">value = 213009.8</text>\n",
       "</g>\n",
       "<!-- 4&#45;&gt;5 -->\n",
       "<g id=\"edge5\" class=\"edge\">\n",
       "<title>4&#45;&gt;5</title>\n",
       "<path fill=\"none\" stroke=\"black\" d=\"M403.97,-85.94C403.97,-77.68 403.97,-68.72 403.97,-60.31\"/>\n",
       "<polygon fill=\"black\" stroke=\"black\" points=\"407.47,-60.03 403.97,-50.03 400.47,-60.03 407.47,-60.03\"/>\n",
       "</g>\n",
       "<!-- 6 -->\n",
       "<g id=\"node7\" class=\"node\">\n",
       "<title>6</title>\n",
       "<path fill=\"#e58139\" stroke=\"black\" d=\"M639.7,-50C639.7,-50 508.24,-50 508.24,-50 502.24,-50 496.24,-44 496.24,-38 496.24,-38 496.24,-12 496.24,-12 496.24,-6 502.24,0 508.24,0 508.24,0 639.7,0 639.7,0 645.7,0 651.7,-6 651.7,-12 651.7,-12 651.7,-38 651.7,-38 651.7,-44 645.7,-50 639.7,-50\"/>\n",
       "<text text-anchor=\"start\" x=\"504.11\" y=\"-34.8\" font-family=\"Helvetica,sans-Serif\" font-size=\"14.00\">mse = 26459379072.1</text>\n",
       "<text text-anchor=\"start\" x=\"532.14\" y=\"-20.8\" font-family=\"Helvetica,sans-Serif\" font-size=\"14.00\">samples = 33</text>\n",
       "<text text-anchor=\"start\" x=\"520.06\" y=\"-6.8\" font-family=\"Helvetica,sans-Serif\" font-size=\"14.00\">value = 347822.9</text>\n",
       "</g>\n",
       "<!-- 4&#45;&gt;6 -->\n",
       "<g id=\"edge6\" class=\"edge\">\n",
       "<title>4&#45;&gt;6</title>\n",
       "<path fill=\"none\" stroke=\"black\" d=\"M462,-85.94C480.85,-75.85 501.67,-64.7 520.19,-54.79\"/>\n",
       "<polygon fill=\"black\" stroke=\"black\" points=\"521.91,-57.84 529.08,-50.03 518.61,-51.66 521.91,-57.84\"/>\n",
       "</g>\n",
       "</g>\n",
       "</svg>\n"
      ],
      "text/plain": [
       "<graphviz.files.Source at 0x11c3241d0>"
      ]
     },
     "execution_count": 69,
     "metadata": {},
     "output_type": "execute_result"
    }
   ],
   "source": [
    "import graphviz\n",
    "from sklearn.tree import export_graphviz\n",
    "dot_data = export_graphviz(dtr, out_file=None, feature_names=cols, precision=1,\n",
    "                           filled=True, rounded=True,  special_characters=True)  \n",
    "graph = graphviz.Source(dot_data, format='png')  \n",
    "graph"
   ]
  },
  {
   "cell_type": "markdown",
   "metadata": {},
   "source": [
    "### Get nearly a perfect score\n",
    "\n",
    "Decision trees are very flexible models and can provide a nearly perfect fit to the data it is trained on. Let's build a new decision on a different set of features."
   ]
  },
  {
   "cell_type": "code",
   "execution_count": 70,
   "metadata": {},
   "outputs": [
    {
     "data": {
      "text/html": [
       "<div>\n",
       "<style scoped>\n",
       "    .dataframe tbody tr th:only-of-type {\n",
       "        vertical-align: middle;\n",
       "    }\n",
       "\n",
       "    .dataframe tbody tr th {\n",
       "        vertical-align: top;\n",
       "    }\n",
       "\n",
       "    .dataframe thead th {\n",
       "        text-align: right;\n",
       "    }\n",
       "</style>\n",
       "<table border=\"1\" class=\"dataframe\">\n",
       "  <thead>\n",
       "    <tr style=\"text-align: right;\">\n",
       "      <th></th>\n",
       "      <th>GrLivArea</th>\n",
       "      <th>GarageArea</th>\n",
       "      <th>FullBath</th>\n",
       "    </tr>\n",
       "  </thead>\n",
       "  <tbody>\n",
       "    <tr>\n",
       "      <th>0</th>\n",
       "      <td>1710</td>\n",
       "      <td>548</td>\n",
       "      <td>2</td>\n",
       "    </tr>\n",
       "    <tr>\n",
       "      <th>1</th>\n",
       "      <td>1262</td>\n",
       "      <td>460</td>\n",
       "      <td>2</td>\n",
       "    </tr>\n",
       "    <tr>\n",
       "      <th>2</th>\n",
       "      <td>1786</td>\n",
       "      <td>608</td>\n",
       "      <td>2</td>\n",
       "    </tr>\n",
       "    <tr>\n",
       "      <th>3</th>\n",
       "      <td>1717</td>\n",
       "      <td>642</td>\n",
       "      <td>1</td>\n",
       "    </tr>\n",
       "    <tr>\n",
       "      <th>4</th>\n",
       "      <td>2198</td>\n",
       "      <td>836</td>\n",
       "      <td>2</td>\n",
       "    </tr>\n",
       "  </tbody>\n",
       "</table>\n",
       "</div>"
      ],
      "text/plain": [
       "   GrLivArea  GarageArea  FullBath\n",
       "0       1710         548         2\n",
       "1       1262         460         2\n",
       "2       1786         608         2\n",
       "3       1717         642         1\n",
       "4       2198         836         2"
      ]
     },
     "execution_count": 70,
     "metadata": {},
     "output_type": "execute_result"
    }
   ],
   "source": [
    "cols = ['GrLivArea', 'GarageArea', 'FullBath']\n",
    "X = housing[cols]\n",
    "X.head()"
   ]
  },
  {
   "cell_type": "markdown",
   "metadata": {},
   "source": [
    "If we do not set the `max_depth` parameter, then there will be no limit to how deep the tree can grow. It will grow until only a single observation remains in each node. With no limit to it's depth, we get nearly a perfect score."
   ]
  },
  {
   "cell_type": "code",
   "execution_count": 71,
   "metadata": {},
   "outputs": [
    {
     "data": {
      "text/plain": [
       "0.9986089580386318"
      ]
     },
     "execution_count": 71,
     "metadata": {},
     "output_type": "execute_result"
    }
   ],
   "source": [
    "dtr = DecisionTreeRegressor()\n",
    "dtr.fit(X, y)\n",
    "dtr.score(X, y)"
   ]
  },
  {
   "cell_type": "markdown",
   "metadata": {},
   "source": [
    "## Model evaluation\n",
    "\n",
    "Thus far, we've evaluated ourselves on the data that the model was trained on. Instead, we must evaluate ourselves on unseen data. One procedure for proper evaluation is cross validation.\n",
    "\n",
    "* Divide data into `k` equal partitions\n",
    "* Train a model on `k - 1` partitions\n",
    "* Evaluate the model on the 1 partition not used during training\n",
    "* Record the score on that 1 partition\n",
    "* Repeat process using a different partition for evaluation\n",
    "* Continue until all partitions have been used for evaluation\n",
    "\n",
    "Many different flavors of cross validation. This procedure is called K-fold cross validation where the 'fold' is a partition of the data and 'k' is the number of these partitions. This value is usually between 5 and 10.\n",
    "\n",
    "![][0]\n",
    "\n",
    "[0]: images/kfold.png"
   ]
  },
  {
   "cell_type": "markdown",
   "metadata": {},
   "source": [
    "### Cross validation in scikit-learn\n",
    "\n",
    "The `cross_val_score` function automates the entire procedure for us. Pass it the instantiated estimator, input and output data and set, and the number of folds with the `cv` parameter."
   ]
  },
  {
   "cell_type": "code",
   "execution_count": 72,
   "metadata": {},
   "outputs": [
    {
     "data": {
      "text/html": [
       "<div>\n",
       "<style scoped>\n",
       "    .dataframe tbody tr th:only-of-type {\n",
       "        vertical-align: middle;\n",
       "    }\n",
       "\n",
       "    .dataframe tbody tr th {\n",
       "        vertical-align: top;\n",
       "    }\n",
       "\n",
       "    .dataframe thead th {\n",
       "        text-align: right;\n",
       "    }\n",
       "</style>\n",
       "<table border=\"1\" class=\"dataframe\">\n",
       "  <thead>\n",
       "    <tr style=\"text-align: right;\">\n",
       "      <th></th>\n",
       "      <th>GrLivArea</th>\n",
       "      <th>GarageArea</th>\n",
       "      <th>FullBath</th>\n",
       "    </tr>\n",
       "  </thead>\n",
       "  <tbody>\n",
       "    <tr>\n",
       "      <th>0</th>\n",
       "      <td>1710</td>\n",
       "      <td>548</td>\n",
       "      <td>2</td>\n",
       "    </tr>\n",
       "    <tr>\n",
       "      <th>1</th>\n",
       "      <td>1262</td>\n",
       "      <td>460</td>\n",
       "      <td>2</td>\n",
       "    </tr>\n",
       "    <tr>\n",
       "      <th>2</th>\n",
       "      <td>1786</td>\n",
       "      <td>608</td>\n",
       "      <td>2</td>\n",
       "    </tr>\n",
       "    <tr>\n",
       "      <th>3</th>\n",
       "      <td>1717</td>\n",
       "      <td>642</td>\n",
       "      <td>1</td>\n",
       "    </tr>\n",
       "    <tr>\n",
       "      <th>4</th>\n",
       "      <td>2198</td>\n",
       "      <td>836</td>\n",
       "      <td>2</td>\n",
       "    </tr>\n",
       "  </tbody>\n",
       "</table>\n",
       "</div>"
      ],
      "text/plain": [
       "   GrLivArea  GarageArea  FullBath\n",
       "0       1710         548         2\n",
       "1       1262         460         2\n",
       "2       1786         608         2\n",
       "3       1717         642         1\n",
       "4       2198         836         2"
      ]
     },
     "execution_count": 72,
     "metadata": {},
     "output_type": "execute_result"
    }
   ],
   "source": [
    "cols = ['GrLivArea', 'GarageArea', 'FullBath']\n",
    "X = housing[cols]\n",
    "X.head()"
   ]
  },
  {
   "cell_type": "code",
   "execution_count": 73,
   "metadata": {},
   "outputs": [],
   "source": [
    "lr = LinearRegression()\n",
    "dtr = DecisionTreeRegressor()"
   ]
  },
  {
   "cell_type": "code",
   "execution_count": 74,
   "metadata": {},
   "outputs": [],
   "source": [
    "from sklearn.model_selection import cross_val_score"
   ]
  },
  {
   "cell_type": "code",
   "execution_count": 75,
   "metadata": {},
   "outputs": [
    {
     "data": {
      "text/plain": [
       "array([0.7 , 0.64, 0.65, 0.59, 0.49])"
      ]
     },
     "execution_count": 75,
     "metadata": {},
     "output_type": "execute_result"
    }
   ],
   "source": [
    "scores_lr = cross_val_score(lr, X, y, cv=5).round(2)\n",
    "scores_lr"
   ]
  },
  {
   "cell_type": "code",
   "execution_count": 76,
   "metadata": {},
   "outputs": [
    {
     "data": {
      "text/plain": [
       "array([0.38, 0.25, 0.46, 0.24, 0.54])"
      ]
     },
     "execution_count": 76,
     "metadata": {},
     "output_type": "execute_result"
    }
   ],
   "source": [
    "scores_dtr = cross_val_score(dtr, X, y, cv=5).round(2)\n",
    "scores_dtr"
   ]
  },
  {
   "cell_type": "markdown",
   "metadata": {},
   "source": [
    "### Cross validation approximates our future performance\n",
    "\n",
    "We want to know how well our model performs in the future. Cross validation is a procedure for approximating this future performance."
   ]
  },
  {
   "cell_type": "markdown",
   "metadata": {},
   "source": [
    "## Tune Hyperparameters with grid-search\n",
    "\n",
    "All models have hyperparameters that change the behavior of the model. These are set during instantiation in step 2. Hyperparameters are NOT learned during training. They are set by you. You choose what they are. Depending on the model, these hyperparameters can drastically change the performance of the model. Decision trees are heavily influenced by their hyperparameter values. \n",
    "\n",
    "### Using the `GridSearchCV` metaestimator\n",
    "\n",
    "Instead of manually iterating over different combinations of hyperparameters, scikit-learn provides the meta-estimator `GridSearchCV` to automate the process for us. To use it, you must create a grid using a dictionary mapping the hyperparameter name as a string to the possible values (as a list or array)."
   ]
  },
  {
   "cell_type": "code",
   "execution_count": 77,
   "metadata": {},
   "outputs": [],
   "source": [
    "grid = {'max_depth':[3, 5, 10, 20],\n",
    "        'min_samples_leaf':[5, 10, 50]}"
   ]
  },
  {
   "cell_type": "markdown",
   "metadata": {},
   "source": [
    "The same three-step process exists for meta-estimators. We import it and instantiate it by passing it the instantiated model, the grid, and the number of folds."
   ]
  },
  {
   "cell_type": "code",
   "execution_count": 78,
   "metadata": {},
   "outputs": [
    {
     "data": {
      "text/plain": [
       "GridSearchCV(cv=5, error_score=nan,\n",
       "             estimator=DecisionTreeRegressor(ccp_alpha=0.0, criterion='mse',\n",
       "                                             max_depth=None, max_features=None,\n",
       "                                             max_leaf_nodes=None,\n",
       "                                             min_impurity_decrease=0.0,\n",
       "                                             min_impurity_split=None,\n",
       "                                             min_samples_leaf=1,\n",
       "                                             min_samples_split=2,\n",
       "                                             min_weight_fraction_leaf=0.0,\n",
       "                                             presort='deprecated',\n",
       "                                             random_state=None,\n",
       "                                             splitter='best'),\n",
       "             iid='deprecated', n_jobs=None,\n",
       "             param_grid={'max_depth': [3, 5, 10, 20],\n",
       "                         'min_samples_leaf': [5, 10, 50]},\n",
       "             pre_dispatch='2*n_jobs', refit=True, return_train_score=False,\n",
       "             scoring=None, verbose=0)"
      ]
     },
     "execution_count": 78,
     "metadata": {},
     "output_type": "execute_result"
    }
   ],
   "source": [
    "from sklearn.model_selection import GridSearchCV\n",
    "gs = GridSearchCV(dtr, grid, cv=5)\n",
    "gs.fit(X, y)"
   ]
  },
  {
   "cell_type": "markdown",
   "metadata": {},
   "source": [
    "### Grid search results"
   ]
  },
  {
   "cell_type": "code",
   "execution_count": 79,
   "metadata": {},
   "outputs": [
    {
     "data": {
      "text/plain": [
       "{'max_depth': 5, 'min_samples_leaf': 5}"
      ]
     },
     "execution_count": 79,
     "metadata": {},
     "output_type": "execute_result"
    }
   ],
   "source": [
    "gs.best_params_"
   ]
  },
  {
   "cell_type": "code",
   "execution_count": 80,
   "metadata": {},
   "outputs": [
    {
     "data": {
      "text/plain": [
       "0.6223242123531567"
      ]
     },
     "execution_count": 80,
     "metadata": {},
     "output_type": "execute_result"
    }
   ],
   "source": [
    "gs.best_score_"
   ]
  },
  {
   "cell_type": "markdown",
   "metadata": {},
   "source": [
    "See all results at once:"
   ]
  },
  {
   "cell_type": "code",
   "execution_count": 81,
   "metadata": {},
   "outputs": [
    {
     "data": {
      "text/html": [
       "<div>\n",
       "<style scoped>\n",
       "    .dataframe tbody tr th:only-of-type {\n",
       "        vertical-align: middle;\n",
       "    }\n",
       "\n",
       "    .dataframe tbody tr th {\n",
       "        vertical-align: top;\n",
       "    }\n",
       "\n",
       "    .dataframe thead th {\n",
       "        text-align: right;\n",
       "    }\n",
       "</style>\n",
       "<table border=\"1\" class=\"dataframe\">\n",
       "  <thead>\n",
       "    <tr style=\"text-align: right;\">\n",
       "      <th></th>\n",
       "      <th>mean_fit_time</th>\n",
       "      <th>std_fit_time</th>\n",
       "      <th>mean_score_time</th>\n",
       "      <th>std_score_time</th>\n",
       "      <th>param_max_depth</th>\n",
       "      <th>param_min_samples_leaf</th>\n",
       "      <th>params</th>\n",
       "      <th>split0_test_score</th>\n",
       "      <th>split1_test_score</th>\n",
       "      <th>split2_test_score</th>\n",
       "      <th>split3_test_score</th>\n",
       "      <th>split4_test_score</th>\n",
       "      <th>mean_test_score</th>\n",
       "      <th>std_test_score</th>\n",
       "      <th>rank_test_score</th>\n",
       "    </tr>\n",
       "  </thead>\n",
       "  <tbody>\n",
       "    <tr>\n",
       "      <th>0</th>\n",
       "      <td>0.002732</td>\n",
       "      <td>0.000187</td>\n",
       "      <td>0.001557</td>\n",
       "      <td>0.000171</td>\n",
       "      <td>3</td>\n",
       "      <td>5</td>\n",
       "      <td>{'max_depth': 3, 'min_samples_leaf': 5}</td>\n",
       "      <td>0.524495</td>\n",
       "      <td>0.543855</td>\n",
       "      <td>0.506469</td>\n",
       "      <td>0.552781</td>\n",
       "      <td>0.530325</td>\n",
       "      <td>0.531585</td>\n",
       "      <td>0.016015</td>\n",
       "      <td>11</td>\n",
       "    </tr>\n",
       "    <tr>\n",
       "      <th>1</th>\n",
       "      <td>0.002549</td>\n",
       "      <td>0.000059</td>\n",
       "      <td>0.001620</td>\n",
       "      <td>0.000168</td>\n",
       "      <td>3</td>\n",
       "      <td>10</td>\n",
       "      <td>{'max_depth': 3, 'min_samples_leaf': 10}</td>\n",
       "      <td>0.524495</td>\n",
       "      <td>0.543855</td>\n",
       "      <td>0.506469</td>\n",
       "      <td>0.552781</td>\n",
       "      <td>0.530325</td>\n",
       "      <td>0.531585</td>\n",
       "      <td>0.016015</td>\n",
       "      <td>11</td>\n",
       "    </tr>\n",
       "    <tr>\n",
       "      <th>2</th>\n",
       "      <td>0.002503</td>\n",
       "      <td>0.000190</td>\n",
       "      <td>0.001447</td>\n",
       "      <td>0.000071</td>\n",
       "      <td>3</td>\n",
       "      <td>50</td>\n",
       "      <td>{'max_depth': 3, 'min_samples_leaf': 50}</td>\n",
       "      <td>0.614029</td>\n",
       "      <td>0.574580</td>\n",
       "      <td>0.505662</td>\n",
       "      <td>0.548891</td>\n",
       "      <td>0.499021</td>\n",
       "      <td>0.548436</td>\n",
       "      <td>0.043029</td>\n",
       "      <td>10</td>\n",
       "    </tr>\n",
       "    <tr>\n",
       "      <th>3</th>\n",
       "      <td>0.003002</td>\n",
       "      <td>0.000120</td>\n",
       "      <td>0.001510</td>\n",
       "      <td>0.000079</td>\n",
       "      <td>5</td>\n",
       "      <td>5</td>\n",
       "      <td>{'max_depth': 5, 'min_samples_leaf': 5}</td>\n",
       "      <td>0.704052</td>\n",
       "      <td>0.600415</td>\n",
       "      <td>0.572141</td>\n",
       "      <td>0.598719</td>\n",
       "      <td>0.636294</td>\n",
       "      <td>0.622324</td>\n",
       "      <td>0.045673</td>\n",
       "      <td>1</td>\n",
       "    </tr>\n",
       "    <tr>\n",
       "      <th>4</th>\n",
       "      <td>0.003104</td>\n",
       "      <td>0.000358</td>\n",
       "      <td>0.001516</td>\n",
       "      <td>0.000122</td>\n",
       "      <td>5</td>\n",
       "      <td>10</td>\n",
       "      <td>{'max_depth': 5, 'min_samples_leaf': 10}</td>\n",
       "      <td>0.656939</td>\n",
       "      <td>0.570901</td>\n",
       "      <td>0.587735</td>\n",
       "      <td>0.619071</td>\n",
       "      <td>0.583329</td>\n",
       "      <td>0.603595</td>\n",
       "      <td>0.031036</td>\n",
       "      <td>2</td>\n",
       "    </tr>\n",
       "    <tr>\n",
       "      <th>5</th>\n",
       "      <td>0.002576</td>\n",
       "      <td>0.000075</td>\n",
       "      <td>0.001431</td>\n",
       "      <td>0.000066</td>\n",
       "      <td>5</td>\n",
       "      <td>50</td>\n",
       "      <td>{'max_depth': 5, 'min_samples_leaf': 50}</td>\n",
       "      <td>0.670332</td>\n",
       "      <td>0.604162</td>\n",
       "      <td>0.539797</td>\n",
       "      <td>0.574193</td>\n",
       "      <td>0.536595</td>\n",
       "      <td>0.585016</td>\n",
       "      <td>0.049299</td>\n",
       "      <td>7</td>\n",
       "    </tr>\n",
       "    <tr>\n",
       "      <th>6</th>\n",
       "      <td>0.003445</td>\n",
       "      <td>0.000153</td>\n",
       "      <td>0.001613</td>\n",
       "      <td>0.000173</td>\n",
       "      <td>10</td>\n",
       "      <td>5</td>\n",
       "      <td>{'max_depth': 10, 'min_samples_leaf': 5}</td>\n",
       "      <td>0.674382</td>\n",
       "      <td>0.571107</td>\n",
       "      <td>0.612693</td>\n",
       "      <td>0.498486</td>\n",
       "      <td>0.609595</td>\n",
       "      <td>0.593253</td>\n",
       "      <td>0.057790</td>\n",
       "      <td>3</td>\n",
       "    </tr>\n",
       "    <tr>\n",
       "      <th>7</th>\n",
       "      <td>0.003083</td>\n",
       "      <td>0.000070</td>\n",
       "      <td>0.001441</td>\n",
       "      <td>0.000055</td>\n",
       "      <td>10</td>\n",
       "      <td>10</td>\n",
       "      <td>{'max_depth': 10, 'min_samples_leaf': 10}</td>\n",
       "      <td>0.623878</td>\n",
       "      <td>0.557093</td>\n",
       "      <td>0.611739</td>\n",
       "      <td>0.589749</td>\n",
       "      <td>0.544556</td>\n",
       "      <td>0.585403</td>\n",
       "      <td>0.030538</td>\n",
       "      <td>6</td>\n",
       "    </tr>\n",
       "    <tr>\n",
       "      <th>8</th>\n",
       "      <td>0.002536</td>\n",
       "      <td>0.000081</td>\n",
       "      <td>0.001386</td>\n",
       "      <td>0.000029</td>\n",
       "      <td>10</td>\n",
       "      <td>50</td>\n",
       "      <td>{'max_depth': 10, 'min_samples_leaf': 50}</td>\n",
       "      <td>0.669952</td>\n",
       "      <td>0.605753</td>\n",
       "      <td>0.539797</td>\n",
       "      <td>0.575718</td>\n",
       "      <td>0.537750</td>\n",
       "      <td>0.585794</td>\n",
       "      <td>0.049003</td>\n",
       "      <td>4</td>\n",
       "    </tr>\n",
       "    <tr>\n",
       "      <th>9</th>\n",
       "      <td>0.003250</td>\n",
       "      <td>0.000016</td>\n",
       "      <td>0.001381</td>\n",
       "      <td>0.000028</td>\n",
       "      <td>20</td>\n",
       "      <td>5</td>\n",
       "      <td>{'max_depth': 20, 'min_samples_leaf': 5}</td>\n",
       "      <td>0.649848</td>\n",
       "      <td>0.557237</td>\n",
       "      <td>0.607775</td>\n",
       "      <td>0.493154</td>\n",
       "      <td>0.611010</td>\n",
       "      <td>0.583805</td>\n",
       "      <td>0.054037</td>\n",
       "      <td>9</td>\n",
       "    </tr>\n",
       "    <tr>\n",
       "      <th>10</th>\n",
       "      <td>0.003039</td>\n",
       "      <td>0.000126</td>\n",
       "      <td>0.001390</td>\n",
       "      <td>0.000061</td>\n",
       "      <td>20</td>\n",
       "      <td>10</td>\n",
       "      <td>{'max_depth': 20, 'min_samples_leaf': 10}</td>\n",
       "      <td>0.617829</td>\n",
       "      <td>0.559349</td>\n",
       "      <td>0.611739</td>\n",
       "      <td>0.587435</td>\n",
       "      <td>0.543918</td>\n",
       "      <td>0.584054</td>\n",
       "      <td>0.028775</td>\n",
       "      <td>8</td>\n",
       "    </tr>\n",
       "    <tr>\n",
       "      <th>11</th>\n",
       "      <td>0.002502</td>\n",
       "      <td>0.000105</td>\n",
       "      <td>0.001366</td>\n",
       "      <td>0.000045</td>\n",
       "      <td>20</td>\n",
       "      <td>50</td>\n",
       "      <td>{'max_depth': 20, 'min_samples_leaf': 50}</td>\n",
       "      <td>0.669952</td>\n",
       "      <td>0.605753</td>\n",
       "      <td>0.539797</td>\n",
       "      <td>0.575718</td>\n",
       "      <td>0.537750</td>\n",
       "      <td>0.585794</td>\n",
       "      <td>0.049003</td>\n",
       "      <td>4</td>\n",
       "    </tr>\n",
       "  </tbody>\n",
       "</table>\n",
       "</div>"
      ],
      "text/plain": [
       "    mean_fit_time  std_fit_time  mean_score_time  std_score_time  \\\n",
       "0        0.002732      0.000187         0.001557        0.000171   \n",
       "1        0.002549      0.000059         0.001620        0.000168   \n",
       "2        0.002503      0.000190         0.001447        0.000071   \n",
       "3        0.003002      0.000120         0.001510        0.000079   \n",
       "4        0.003104      0.000358         0.001516        0.000122   \n",
       "5        0.002576      0.000075         0.001431        0.000066   \n",
       "6        0.003445      0.000153         0.001613        0.000173   \n",
       "7        0.003083      0.000070         0.001441        0.000055   \n",
       "8        0.002536      0.000081         0.001386        0.000029   \n",
       "9        0.003250      0.000016         0.001381        0.000028   \n",
       "10       0.003039      0.000126         0.001390        0.000061   \n",
       "11       0.002502      0.000105         0.001366        0.000045   \n",
       "\n",
       "   param_max_depth param_min_samples_leaf  \\\n",
       "0                3                      5   \n",
       "1                3                     10   \n",
       "2                3                     50   \n",
       "3                5                      5   \n",
       "4                5                     10   \n",
       "5                5                     50   \n",
       "6               10                      5   \n",
       "7               10                     10   \n",
       "8               10                     50   \n",
       "9               20                      5   \n",
       "10              20                     10   \n",
       "11              20                     50   \n",
       "\n",
       "                                       params  split0_test_score  \\\n",
       "0     {'max_depth': 3, 'min_samples_leaf': 5}           0.524495   \n",
       "1    {'max_depth': 3, 'min_samples_leaf': 10}           0.524495   \n",
       "2    {'max_depth': 3, 'min_samples_leaf': 50}           0.614029   \n",
       "3     {'max_depth': 5, 'min_samples_leaf': 5}           0.704052   \n",
       "4    {'max_depth': 5, 'min_samples_leaf': 10}           0.656939   \n",
       "5    {'max_depth': 5, 'min_samples_leaf': 50}           0.670332   \n",
       "6    {'max_depth': 10, 'min_samples_leaf': 5}           0.674382   \n",
       "7   {'max_depth': 10, 'min_samples_leaf': 10}           0.623878   \n",
       "8   {'max_depth': 10, 'min_samples_leaf': 50}           0.669952   \n",
       "9    {'max_depth': 20, 'min_samples_leaf': 5}           0.649848   \n",
       "10  {'max_depth': 20, 'min_samples_leaf': 10}           0.617829   \n",
       "11  {'max_depth': 20, 'min_samples_leaf': 50}           0.669952   \n",
       "\n",
       "    split1_test_score  split2_test_score  split3_test_score  \\\n",
       "0            0.543855           0.506469           0.552781   \n",
       "1            0.543855           0.506469           0.552781   \n",
       "2            0.574580           0.505662           0.548891   \n",
       "3            0.600415           0.572141           0.598719   \n",
       "4            0.570901           0.587735           0.619071   \n",
       "5            0.604162           0.539797           0.574193   \n",
       "6            0.571107           0.612693           0.498486   \n",
       "7            0.557093           0.611739           0.589749   \n",
       "8            0.605753           0.539797           0.575718   \n",
       "9            0.557237           0.607775           0.493154   \n",
       "10           0.559349           0.611739           0.587435   \n",
       "11           0.605753           0.539797           0.575718   \n",
       "\n",
       "    split4_test_score  mean_test_score  std_test_score  rank_test_score  \n",
       "0            0.530325         0.531585        0.016015               11  \n",
       "1            0.530325         0.531585        0.016015               11  \n",
       "2            0.499021         0.548436        0.043029               10  \n",
       "3            0.636294         0.622324        0.045673                1  \n",
       "4            0.583329         0.603595        0.031036                2  \n",
       "5            0.536595         0.585016        0.049299                7  \n",
       "6            0.609595         0.593253        0.057790                3  \n",
       "7            0.544556         0.585403        0.030538                6  \n",
       "8            0.537750         0.585794        0.049003                4  \n",
       "9            0.611010         0.583805        0.054037                9  \n",
       "10           0.543918         0.584054        0.028775                8  \n",
       "11           0.537750         0.585794        0.049003                4  "
      ]
     },
     "execution_count": 81,
     "metadata": {},
     "output_type": "execute_result"
    }
   ],
   "source": [
    "df_results = pd.DataFrame(gs.cv_results_)\n",
    "df_results"
   ]
  },
  {
   "cell_type": "code",
   "execution_count": 82,
   "metadata": {},
   "outputs": [
    {
     "data": {
      "text/html": [
       "<style  type=\"text/css\" >\n",
       "    #T_a500ffc4_16f2_11ea_95b9_b8e85647e68crow0_col0 {\n",
       "            background-color:  #3b4cc0;\n",
       "            color:  #f1f1f1;\n",
       "        }    #T_a500ffc4_16f2_11ea_95b9_b8e85647e68crow0_col1 {\n",
       "            background-color:  #3b4cc0;\n",
       "            color:  #f1f1f1;\n",
       "        }    #T_a500ffc4_16f2_11ea_95b9_b8e85647e68crow0_col2 {\n",
       "            background-color:  #7396f5;\n",
       "            color:  #000000;\n",
       "        }    #T_a500ffc4_16f2_11ea_95b9_b8e85647e68crow1_col0 {\n",
       "            background-color:  #b40426;\n",
       "            color:  #f1f1f1;\n",
       "        }    #T_a500ffc4_16f2_11ea_95b9_b8e85647e68crow1_col1 {\n",
       "            background-color:  #ee8468;\n",
       "            color:  #000000;\n",
       "        }    #T_a500ffc4_16f2_11ea_95b9_b8e85647e68crow1_col2 {\n",
       "            background-color:  #f0cdbb;\n",
       "            color:  #000000;\n",
       "        }    #T_a500ffc4_16f2_11ea_95b9_b8e85647e68crow2_col0 {\n",
       "            background-color:  #f7b497;\n",
       "            color:  #000000;\n",
       "        }    #T_a500ffc4_16f2_11ea_95b9_b8e85647e68crow2_col1 {\n",
       "            background-color:  #f0cdbb;\n",
       "            color:  #000000;\n",
       "        }    #T_a500ffc4_16f2_11ea_95b9_b8e85647e68crow2_col2 {\n",
       "            background-color:  #f2cbb7;\n",
       "            color:  #000000;\n",
       "        }    #T_a500ffc4_16f2_11ea_95b9_b8e85647e68crow3_col0 {\n",
       "            background-color:  #eed0c0;\n",
       "            color:  #000000;\n",
       "        }    #T_a500ffc4_16f2_11ea_95b9_b8e85647e68crow3_col1 {\n",
       "            background-color:  #eed0c0;\n",
       "            color:  #000000;\n",
       "        }    #T_a500ffc4_16f2_11ea_95b9_b8e85647e68crow3_col2 {\n",
       "            background-color:  #f2cbb7;\n",
       "            color:  #000000;\n",
       "        }</style><table id=\"T_a500ffc4_16f2_11ea_95b9_b8e85647e68c\" ><thead>    <tr>        <th class=\"index_name level0\" >param_min_samples_leaf</th>        <th class=\"col_heading level0 col0\" >5</th>        <th class=\"col_heading level0 col1\" >10</th>        <th class=\"col_heading level0 col2\" >50</th>    </tr>    <tr>        <th class=\"index_name level0\" >param_max_depth</th>        <th class=\"blank\" ></th>        <th class=\"blank\" ></th>        <th class=\"blank\" ></th>    </tr></thead><tbody>\n",
       "                <tr>\n",
       "                        <th id=\"T_a500ffc4_16f2_11ea_95b9_b8e85647e68clevel0_row0\" class=\"row_heading level0 row0\" >3</th>\n",
       "                        <td id=\"T_a500ffc4_16f2_11ea_95b9_b8e85647e68crow0_col0\" class=\"data row0 col0\" >0.532</td>\n",
       "                        <td id=\"T_a500ffc4_16f2_11ea_95b9_b8e85647e68crow0_col1\" class=\"data row0 col1\" >0.532</td>\n",
       "                        <td id=\"T_a500ffc4_16f2_11ea_95b9_b8e85647e68crow0_col2\" class=\"data row0 col2\" >0.548</td>\n",
       "            </tr>\n",
       "            <tr>\n",
       "                        <th id=\"T_a500ffc4_16f2_11ea_95b9_b8e85647e68clevel0_row1\" class=\"row_heading level0 row1\" >5</th>\n",
       "                        <td id=\"T_a500ffc4_16f2_11ea_95b9_b8e85647e68crow1_col0\" class=\"data row1 col0\" >0.622</td>\n",
       "                        <td id=\"T_a500ffc4_16f2_11ea_95b9_b8e85647e68crow1_col1\" class=\"data row1 col1\" >0.604</td>\n",
       "                        <td id=\"T_a500ffc4_16f2_11ea_95b9_b8e85647e68crow1_col2\" class=\"data row1 col2\" >0.585</td>\n",
       "            </tr>\n",
       "            <tr>\n",
       "                        <th id=\"T_a500ffc4_16f2_11ea_95b9_b8e85647e68clevel0_row2\" class=\"row_heading level0 row2\" >10</th>\n",
       "                        <td id=\"T_a500ffc4_16f2_11ea_95b9_b8e85647e68crow2_col0\" class=\"data row2 col0\" >0.593</td>\n",
       "                        <td id=\"T_a500ffc4_16f2_11ea_95b9_b8e85647e68crow2_col1\" class=\"data row2 col1\" >0.585</td>\n",
       "                        <td id=\"T_a500ffc4_16f2_11ea_95b9_b8e85647e68crow2_col2\" class=\"data row2 col2\" >0.586</td>\n",
       "            </tr>\n",
       "            <tr>\n",
       "                        <th id=\"T_a500ffc4_16f2_11ea_95b9_b8e85647e68clevel0_row3\" class=\"row_heading level0 row3\" >20</th>\n",
       "                        <td id=\"T_a500ffc4_16f2_11ea_95b9_b8e85647e68crow3_col0\" class=\"data row3 col0\" >0.584</td>\n",
       "                        <td id=\"T_a500ffc4_16f2_11ea_95b9_b8e85647e68crow3_col1\" class=\"data row3 col1\" >0.584</td>\n",
       "                        <td id=\"T_a500ffc4_16f2_11ea_95b9_b8e85647e68crow3_col2\" class=\"data row3 col2\" >0.586</td>\n",
       "            </tr>\n",
       "    </tbody></table>"
      ],
      "text/plain": [
       "<pandas.io.formats.style.Styler at 0x11e9ffb38>"
      ]
     },
     "execution_count": 82,
     "metadata": {},
     "output_type": "execute_result"
    }
   ],
   "source": [
    "df_results.pivot(index='param_max_depth', columns='param_min_samples_leaf', \n",
    "                 values='mean_test_score').round(3).style.background_gradient('coolwarm', axis=None)"
   ]
  }
 ],
 "metadata": {
  "kernelspec": {
   "display_name": "Python 3",
   "language": "python",
   "name": "python3"
  },
  "language_info": {
   "codemirror_mode": {
    "name": "ipython",
    "version": 3
   },
   "file_extension": ".py",
   "mimetype": "text/x-python",
   "name": "python",
   "nbconvert_exporter": "python",
   "pygments_lexer": "ipython3",
   "version": "3.7.3"
  }
 },
 "nbformat": 4,
 "nbformat_minor": 2
}
