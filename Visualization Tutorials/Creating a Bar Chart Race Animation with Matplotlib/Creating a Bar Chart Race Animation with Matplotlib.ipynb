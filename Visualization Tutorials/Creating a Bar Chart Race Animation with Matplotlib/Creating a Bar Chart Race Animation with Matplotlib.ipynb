{
 "cells": [
  {
   "cell_type": "markdown",
   "metadata": {},
   "source": [
    "# Creating a Bar Chart Race Animation with Matplotlib\n",
    "\n",
    "In this tutorial, you'll learn how to create a bar chart race animation such as the one below using the matplotlib data visualization library in python.\n",
    "\n",
    "![bar chart race][0]\n",
    "\n",
    "### `bar_chart_race` python package\n",
    "\n",
    "Along with this tutorial is the release of the python package `bar_chart_race` that automates the process of making these animations. This post explains the procedure from scratch.\n",
    "\n",
    "### What is a bar chart race?\n",
    "\n",
    "A bar chart race is an animated sequence of bars that show data values at different moments in time. The bars re-position themselves at each time period so that they remain in order (either ascending or descending).\n",
    "\n",
    "## Transition bars smoothly between time periods\n",
    "\n",
    "The trick to making a bar chart race is to transition the bars slowly to their new position when their order changes, allowing you to easily track the movements.\n",
    "\n",
    "### COVID-19 deaths data\n",
    "\n",
    "For this bar chart race, we'll use a small dataset produced by John Hopkins University containing the total deaths by date for six countries during the currently ongoing coronavirus pandemic. Let's read it in now.\n",
    "\n",
    "[0]: media/covid19.png"
   ]
  },
  {
   "cell_type": "code",
   "execution_count": 2,
   "metadata": {},
   "outputs": [
    {
     "data": {
      "text/html": [
       "<div>\n",
       "<style scoped>\n",
       "    .dataframe tbody tr th:only-of-type {\n",
       "        vertical-align: middle;\n",
       "    }\n",
       "\n",
       "    .dataframe tbody tr th {\n",
       "        vertical-align: top;\n",
       "    }\n",
       "\n",
       "    .dataframe thead th {\n",
       "        text-align: right;\n",
       "    }\n",
       "</style>\n",
       "<table border=\"1\" class=\"dataframe\">\n",
       "  <thead>\n",
       "    <tr style=\"text-align: right;\">\n",
       "      <th></th>\n",
       "      <th>China</th>\n",
       "      <th>USA</th>\n",
       "      <th>Italy</th>\n",
       "      <th>UK</th>\n",
       "      <th>Iran</th>\n",
       "      <th>Spain</th>\n",
       "    </tr>\n",
       "    <tr>\n",
       "      <th>date</th>\n",
       "      <th></th>\n",
       "      <th></th>\n",
       "      <th></th>\n",
       "      <th></th>\n",
       "      <th></th>\n",
       "      <th></th>\n",
       "    </tr>\n",
       "  </thead>\n",
       "  <tbody>\n",
       "    <tr>\n",
       "      <th>2020-04-18</th>\n",
       "      <td>4636.0</td>\n",
       "      <td>38671.0</td>\n",
       "      <td>23227.0</td>\n",
       "      <td>15498.0</td>\n",
       "      <td>5031.0</td>\n",
       "      <td>20043.0</td>\n",
       "    </tr>\n",
       "    <tr>\n",
       "      <th>2020-04-19</th>\n",
       "      <td>4636.0</td>\n",
       "      <td>40664.0</td>\n",
       "      <td>23660.0</td>\n",
       "      <td>16095.0</td>\n",
       "      <td>5118.0</td>\n",
       "      <td>20453.0</td>\n",
       "    </tr>\n",
       "    <tr>\n",
       "      <th>2020-04-20</th>\n",
       "      <td>4636.0</td>\n",
       "      <td>42097.0</td>\n",
       "      <td>24114.0</td>\n",
       "      <td>16550.0</td>\n",
       "      <td>5209.0</td>\n",
       "      <td>20852.0</td>\n",
       "    </tr>\n",
       "    <tr>\n",
       "      <th>2020-04-21</th>\n",
       "      <td>4636.0</td>\n",
       "      <td>44447.0</td>\n",
       "      <td>24648.0</td>\n",
       "      <td>17378.0</td>\n",
       "      <td>5297.0</td>\n",
       "      <td>21282.0</td>\n",
       "    </tr>\n",
       "    <tr>\n",
       "      <th>2020-04-22</th>\n",
       "      <td>4636.0</td>\n",
       "      <td>46628.0</td>\n",
       "      <td>25085.0</td>\n",
       "      <td>18151.0</td>\n",
       "      <td>5391.0</td>\n",
       "      <td>21717.0</td>\n",
       "    </tr>\n",
       "  </tbody>\n",
       "</table>\n",
       "</div>"
      ],
      "text/latex": [
       "\\begin{tabular}{lrrrrrr}\n",
       "\\toprule\n",
       "{} &   China &      USA &    Italy &       UK &    Iran &    Spain \\\\\n",
       "date       &         &          &          &          &         &          \\\\\n",
       "\\midrule\n",
       "2020-04-18 &  4636.0 &  38671.0 &  23227.0 &  15498.0 &  5031.0 &  20043.0 \\\\\n",
       "2020-04-19 &  4636.0 &  40664.0 &  23660.0 &  16095.0 &  5118.0 &  20453.0 \\\\\n",
       "2020-04-20 &  4636.0 &  42097.0 &  24114.0 &  16550.0 &  5209.0 &  20852.0 \\\\\n",
       "2020-04-21 &  4636.0 &  44447.0 &  24648.0 &  17378.0 &  5297.0 &  21282.0 \\\\\n",
       "2020-04-22 &  4636.0 &  46628.0 &  25085.0 &  18151.0 &  5391.0 &  21717.0 \\\\\n",
       "\\bottomrule\n",
       "\\end{tabular}\n"
      ],
      "text/plain": [
       "             China      USA    Italy       UK    Iran    Spain\n",
       "date                                                          \n",
       "2020-04-18  4636.0  38671.0  23227.0  15498.0  5031.0  20043.0\n",
       "2020-04-19  4636.0  40664.0  23660.0  16095.0  5118.0  20453.0\n",
       "2020-04-20  4636.0  42097.0  24114.0  16550.0  5209.0  20852.0\n",
       "2020-04-21  4636.0  44447.0  24648.0  17378.0  5297.0  21282.0\n",
       "2020-04-22  4636.0  46628.0  25085.0  18151.0  5391.0  21717.0"
      ]
     },
     "execution_count": 2,
     "metadata": {},
     "output_type": "execute_result"
    }
   ],
   "source": [
    "import pandas as pd\n",
    "pd.options.display.latex.repr=True\n",
    "pd.options.display.\n",
    "df = pd.read_csv('data/covid19.csv', index_col='date', parse_dates=['date'])\n",
    "df.tail()"
   ]
  },
  {
   "cell_type": "code",
   "execution_count": 6,
   "metadata": {},
   "outputs": [
    {
     "data": {
      "text/plain": [
       "'1.0.3'"
      ]
     },
     "execution_count": 6,
     "metadata": {},
     "output_type": "execute_result"
    }
   ],
   "source": [
    "pd.__version__"
   ]
  },
  {
   "cell_type": "code",
   "execution_count": 3,
   "metadata": {},
   "outputs": [
    {
     "data": {
      "text/html": [
       "<div>\n",
       "<style scoped>\n",
       "    .dataframe tbody tr th:only-of-type {\n",
       "        vertical-align: middle;\n",
       "    }\n",
       "\n",
       "    .dataframe tbody tr th {\n",
       "        vertical-align: top;\n",
       "    }\n",
       "\n",
       "    .dataframe thead th {\n",
       "        text-align: right;\n",
       "    }\n",
       "</style>\n",
       "<table border=\"1\" class=\"dataframe\">\n",
       "  <thead>\n",
       "    <tr style=\"text-align: right;\">\n",
       "      <th></th>\n",
       "      <th>apples</th>\n",
       "      <th>pears</th>\n",
       "    </tr>\n",
       "  </thead>\n",
       "  <tbody>\n",
       "    <tr>\n",
       "      <th>0</th>\n",
       "      <td>5</td>\n",
       "      <td>99</td>\n",
       "    </tr>\n",
       "    <tr>\n",
       "      <th>1</th>\n",
       "      <td>10</td>\n",
       "      <td>344</td>\n",
       "    </tr>\n",
       "  </tbody>\n",
       "</table>\n",
       "</div>"
      ],
      "text/latex": [
       "\\begin{tabular}{lrr}\n",
       "\\toprule\n",
       "{} &  apples &  pears \\\\\n",
       "\\midrule\n",
       "0 &       5 &     99 \\\\\n",
       "1 &      10 &    344 \\\\\n",
       "\\bottomrule\n",
       "\\end{tabular}\n"
      ],
      "text/plain": [
       "   apples  pears\n",
       "0       5     99\n",
       "1      10    344"
      ]
     },
     "execution_count": 3,
     "metadata": {},
     "output_type": "execute_result"
    }
   ],
   "source": [
    "import pandas as pd\n",
    "pd.options.display.latex.repr=True\n",
    "df = pd.DataFrame({'apples': [5, 10], 'pears': [99, 344]})\n",
    "df"
   ]
  },
  {
   "cell_type": "code",
   "execution_count": 5,
   "metadata": {},
   "outputs": [
    {
     "data": {
      "text/latex": [
       "\\begin{tabular}{lr}\n",
       "\\toprule\n",
       "{} &  apples \\\\\n",
       "\\midrule\n",
       "0 &       5 \\\\\n",
       "1 &      10 \\\\\n",
       "\\bottomrule\n",
       "\\end{tabular}\n"
      ],
      "text/plain": [
       "0     5\n",
       "1    10\n",
       "Name: apples, dtype: int64"
      ]
     },
     "execution_count": 5,
     "metadata": {},
     "output_type": "execute_result"
    }
   ],
   "source": [
    "df['apples']"
   ]
  },
  {
   "cell_type": "code",
   "execution_count": 4,
   "metadata": {},
   "outputs": [
    {
     "data": {
      "text/latex": [
       "\\begin{tabular}{lrr}\n",
       "\\toprule\n",
       "{} &  apples &  pears \\\\\n",
       "\\midrule\n",
       "0 &       5 &     99 \\\\\n",
       "1 &      10 &    344 \\\\\n",
       "\\bottomrule\n",
       "\\end{tabular}\n"
      ],
      "text/plain": [
       "   apples  pears\n",
       "0       5     99\n",
       "1      10    344"
      ]
     },
     "execution_count": 4,
     "metadata": {},
     "output_type": "execute_result"
    }
   ],
   "source": [
    "pd.options.display.notebook_repr_html = False\n",
    "df"
   ]
  },
  {
   "cell_type": "code",
   "execution_count": null,
   "metadata": {},
   "outputs": [],
   "source": []
  },
  {
   "cell_type": "markdown",
   "metadata": {},
   "source": [
    "### Must use 'wide' data\n",
    "\n",
    "For this tutorial, the data must be in 'wide' form where:\n",
    "\n",
    "* Every row represents a single period of time\n",
    "* Each column holds the value for a particular category\n",
    "* The index contains the time component (optional)\n",
    "\n",
    "### Individual bar charts for specific dates\n",
    "\n",
    "Let's begin by creating a single static bar chart for the specific date of March 29, 2020. First, we select the data as a Series."
   ]
  },
  {
   "cell_type": "code",
   "execution_count": null,
   "metadata": {},
   "outputs": [],
   "source": [
    "pd.options.display."
   ]
  },
  {
   "cell_type": "code",
   "execution_count": null,
   "metadata": {
    "scrolled": true
   },
   "outputs": [],
   "source": [
    "s = df.loc['2020-03-29']\n",
    "s"
   ]
  },
  {
   "cell_type": "markdown",
   "metadata": {},
   "source": [
    "We'll make a horizontal bar chart using the country names as the y-values and total deaths as the x-values (width of bars). Every bar will be a different color from the 'Dark2' colormap."
   ]
  },
  {
   "cell_type": "code",
   "execution_count": null,
   "metadata": {},
   "outputs": [],
   "source": [
    "import matplotlib.pyplot as plt\n",
    "fig, ax = plt.subplots(figsize=(4, 2.5), dpi=144)\n",
    "colors = plt.cm.Dark2(range(6))\n",
    "y = s.index\n",
    "width = s.values\n",
    "ax.barh(y=y, width=width, color=colors);"
   ]
  },
  {
   "cell_type": "markdown",
   "metadata": {},
   "source": [
    "The function below changes several properties of the axes to make it look nicer."
   ]
  },
  {
   "cell_type": "code",
   "execution_count": null,
   "metadata": {},
   "outputs": [],
   "source": [
    "def nice_axes(ax):\n",
    "    ax.set_facecolor('.8')\n",
    "    ax.tick_params(labelsize=8, length=0)\n",
    "    ax.grid(True, axis='x', color='white')\n",
    "    ax.set_axisbelow(True)\n",
    "    [spine.set_visible(False) for spine in ax.spines.values()]\n",
    "    \n",
    "nice_axes(ax)\n",
    "fig"
   ]
  },
  {
   "cell_type": "markdown",
   "metadata": {},
   "source": [
    "### Plot three consecutive days ordering the bars\n",
    "\n",
    "For a bar chart race, the bars are often ordered from largest to smallest with the largest at the top. Here, we plot three days of data sorting each one first."
   ]
  },
  {
   "cell_type": "code",
   "execution_count": null,
   "metadata": {},
   "outputs": [],
   "source": [
    "fig, ax_array = plt.subplots(nrows=1, ncols=3, figsize=(7, 2.5), dpi=144, tight_layout=True)\n",
    "dates = ['2020-03-29', '2020-03-30', '2020-03-31']\n",
    "for ax, date in zip(ax_array, dates):\n",
    "    s = df.loc[date].sort_values()\n",
    "    ax.barh(y=s.index, width=s.values, color=colors)\n",
    "    ax.set_title(date, fontsize='smaller')\n",
    "    nice_axes(ax)"
   ]
  },
  {
   "cell_type": "markdown",
   "metadata": {},
   "source": [
    "### Countries change color\n",
    "\n",
    "Although the bars are ordered properly, the countries do not keep their original color when changing places in the graph. Notice that the USA begins as the fifth bar and moves up one position each date, changing colors each time.\n",
    "\n",
    "### Don't sort - rank instead!\n",
    "\n",
    "Instead of sorting, use the `rank` method to find the numeric ranking of each country for each day. We use the `'first'` method of ranking so that each numeric rank is a unique integer. By default, the method is `'average'` which ranks ties with the same value causing overlapping bars. Let's see the ranking for the March 29, 2020."
   ]
  },
  {
   "cell_type": "code",
   "execution_count": null,
   "metadata": {},
   "outputs": [],
   "source": [
    "df.loc['2020-03-29'].rank(method='first')"
   ]
  },
  {
   "cell_type": "markdown",
   "metadata": {},
   "source": [
    "We now use this rank as the y-values. The order of the data in the Series never changes this way, ensuring that countries remain the same color regardless of their rank."
   ]
  },
  {
   "cell_type": "code",
   "execution_count": null,
   "metadata": {},
   "outputs": [],
   "source": [
    "fig, ax_array = plt.subplots(nrows=1, ncols=3, figsize=(7, 2.5), dpi=144, tight_layout=True)\n",
    "dates = ['2020-03-29', '2020-03-30', '2020-03-31']\n",
    "for ax, date in zip(ax_array, dates):\n",
    "    s = df.loc[date]\n",
    "    y = df.loc[date].rank(method='first').values\n",
    "    ax.barh(y=y, width=s.values, color=colors, tick_label=s.index)\n",
    "    ax.set_title(date, fontsize='smaller')\n",
    "    nice_axes(ax)"
   ]
  },
  {
   "cell_type": "markdown",
   "metadata": {},
   "source": [
    "### How to smoothly transition?\n",
    "\n",
    "Using each day as a single frame in an animation won't work well as it doesn't capture the transition from one time period to the next. In order to transition the bars that change positions, we'll need to add extra rows of data between the dates that we do have. Let's first select the three dates above as a DataFrame."
   ]
  },
  {
   "cell_type": "code",
   "execution_count": null,
   "metadata": {},
   "outputs": [],
   "source": [
    "df2 = df.loc['2020-03-29':'2020-03-31']\n",
    "df2"
   ]
  },
  {
   "cell_type": "markdown",
   "metadata": {},
   "source": [
    "It's easier to insert an exact number of new rows when using the default index - integers beginning at 0. Alternatively, if you do have a datetime in the index as we do here, you can use the `asfreq` method, which is explained at the end of this post. Use the `reset_index` method to get a default index and to place the dates as a column again."
   ]
  },
  {
   "cell_type": "code",
   "execution_count": null,
   "metadata": {},
   "outputs": [],
   "source": [
    "df2 = df2.reset_index()\n",
    "df2"
   ]
  },
  {
   "cell_type": "markdown",
   "metadata": {},
   "source": [
    "### Choose number of steps between each date\n",
    "\n",
    "We want to insert new rows between the first and second rows and between the second and third rows. Begin by multiplying the index by the number of steps to transition from one time period to the next. We use 5 in this example."
   ]
  },
  {
   "cell_type": "code",
   "execution_count": null,
   "metadata": {},
   "outputs": [],
   "source": [
    "df2.index = df2.index * 5\n",
    "df2"
   ]
  },
  {
   "cell_type": "markdown",
   "metadata": {},
   "source": [
    "### Expand DataFrame with `reindex`\n",
    "\n",
    "To insert the additional rows, pass the `reindex` method a sequence of all integers beginning at 0 to the last integer (10 in this case). pandas inserts new rows of all missing values for every index not in the current DataFrame."
   ]
  },
  {
   "cell_type": "code",
   "execution_count": null,
   "metadata": {},
   "outputs": [],
   "source": [
    "last_idx = df2.index[-1] + 1\n",
    "df_expanded = df2.reindex(range(last_idx))\n",
    "df_expanded"
   ]
  },
  {
   "cell_type": "markdown",
   "metadata": {},
   "source": [
    "The date for the missing rows is the same for each. Let's fill them in using the last known value with the `fillna` method and set it as the index again."
   ]
  },
  {
   "cell_type": "code",
   "execution_count": null,
   "metadata": {},
   "outputs": [],
   "source": [
    "df_expanded['date'] = df_expanded['date'].fillna(method='ffill')\n",
    "df_expanded = df_expanded.set_index('date')\n",
    "df_expanded"
   ]
  },
  {
   "cell_type": "markdown",
   "metadata": {},
   "source": [
    "### Rank each row\n",
    "\n",
    "We also need a similar DataFrame that contains the rank of each country by row. Most pandas methods work down each column by default. Set `axis` to 1 to change the direction of the operation so that values in each row are ranked against each other."
   ]
  },
  {
   "cell_type": "code",
   "execution_count": null,
   "metadata": {},
   "outputs": [],
   "source": [
    "df_rank_expanded = df_expanded.rank(axis=1, method='first')\n",
    "df_rank_expanded"
   ]
  },
  {
   "cell_type": "markdown",
   "metadata": {},
   "source": [
    "### Linear interpolate missing values\n",
    "\n",
    "The `interpolate` method can fill in the missing values in a variety of ways. By default, it uses linear interpolation and works column-wise."
   ]
  },
  {
   "cell_type": "code",
   "execution_count": null,
   "metadata": {},
   "outputs": [],
   "source": [
    "df_expanded = df_expanded.interpolate()\n",
    "df_expanded"
   ]
  },
  {
   "cell_type": "markdown",
   "metadata": {},
   "source": [
    "We also need to interpolate the ranking."
   ]
  },
  {
   "cell_type": "code",
   "execution_count": null,
   "metadata": {},
   "outputs": [],
   "source": [
    "df_rank_expanded = df_rank_expanded.interpolate()\n",
    "df_rank_expanded"
   ]
  },
  {
   "cell_type": "markdown",
   "metadata": {},
   "source": [
    "### Plot each step of the transition\n",
    "\n",
    "The interpolated ranks will serve as the new position of the bars along the y-axis. Here, we'll plot each step from the first to the second day where Iran and the USA change place."
   ]
  },
  {
   "cell_type": "code",
   "execution_count": null,
   "metadata": {},
   "outputs": [],
   "source": [
    "fig, ax_array = plt.subplots(nrows=1, ncols=6, figsize=(12, 2), \n",
    "                             dpi=144, tight_layout=True)\n",
    "labels = df_expanded.columns\n",
    "for i, ax in enumerate(ax_array.flatten()):\n",
    "    y = df_rank_expanded.iloc[i]\n",
    "    width = df_expanded.iloc[i]\n",
    "    ax.barh(y=y, width=width, color=colors, tick_label=labels)\n",
    "    nice_axes(ax)\n",
    "ax_array[0].set_title('2020-03-29')\n",
    "ax_array[-1].set_title('2020-03-30');"
   ]
  },
  {
   "cell_type": "markdown",
   "metadata": {},
   "source": [
    "The next day's transition is plotted below."
   ]
  },
  {
   "cell_type": "code",
   "execution_count": null,
   "metadata": {},
   "outputs": [],
   "source": [
    "fig, ax_array = plt.subplots(nrows=1, ncols=6, figsize=(12, 2), \n",
    "                             dpi=144, tight_layout=True)\n",
    "labels = df_expanded.columns\n",
    "for i, ax in enumerate(ax_array.flatten(), start=5):\n",
    "    y = df_rank_expanded.iloc[i]\n",
    "    width = df_expanded.iloc[i]\n",
    "    ax.barh(y=y, width=width, color=colors, tick_label=labels)\n",
    "    nice_axes(ax)\n",
    "ax_array[0].set_title('2020-03-30')\n",
    "ax_array[-1].set_title('2020-03-31');"
   ]
  },
  {
   "cell_type": "markdown",
   "metadata": {},
   "source": [
    "### Write a function to prepare all of the data\n",
    "\n",
    "We can copy and paste the code above into a function to automate the process of preparing any data for the bar chart race. Then use it to create the two final DataFrames needed for plotting."
   ]
  },
  {
   "cell_type": "code",
   "execution_count": null,
   "metadata": {},
   "outputs": [],
   "source": [
    "def prepare_data(df, steps=5):\n",
    "    df = df.reset_index()\n",
    "    df.index = df.index * steps\n",
    "    last_idx = df.index[-1] + 1\n",
    "    df_expanded = df.reindex(range(last_idx))\n",
    "    df_expanded['date'] = df_expanded['date'].fillna(method='ffill')\n",
    "    df_expanded = df_expanded.set_index('date')\n",
    "    df_rank_expanded = df_expanded.rank(axis=1, method='first')\n",
    "    df_expanded = df_expanded.interpolate()\n",
    "    df_rank_expanded = df_rank_expanded.interpolate()\n",
    "    return df_expanded, df_rank_expanded\n",
    "\n",
    "df_expanded, df_rank_expanded = prepare_data(df)\n",
    "df_expanded.head()"
   ]
  },
  {
   "cell_type": "code",
   "execution_count": null,
   "metadata": {},
   "outputs": [],
   "source": [
    "df_rank_expanded.head()"
   ]
  },
  {
   "cell_type": "markdown",
   "metadata": {},
   "source": [
    "## Animation\n",
    "\n",
    "We are now ready to create the animation. Each row represents a single frame in our animation and will slowly transition the bars y-value location and width from one day to the next. \n",
    "\n",
    "The simplest way to do animation in matplotlib is to use `FuncAnimation`. You must define a function that updates the matplotlib axes object each frame. Because the axes object keeps all of the previous bars, we remove them in the beginning of the `update` function. The rest of the function is identical to the plotting from above. This function will be passed the index of the frame as an integer. We also set the title to have the current date.\n",
    "\n",
    "Optionally, you can define a function that initializes the axes. Below, `init` clears the previous axes of all objects and then resets it's nice properties.\n",
    "\n",
    "Pass the figure (containing your axes), the `update` and `init` functions, and number of frames to `FuncAnimation`. We also pass the number of milliseconds between each frame, which is used when creating HTML. We use 100 milliseconds per frame equating to 500 per day (half of a second).\n",
    "\n",
    "The figure and axes are created separately below so they do not get output in a Jupyter Notebook, which automatically happens if you call `plt.subplots`."
   ]
  },
  {
   "cell_type": "code",
   "execution_count": null,
   "metadata": {},
   "outputs": [],
   "source": [
    "from matplotlib.animation import FuncAnimation\n",
    "\n",
    "def init():\n",
    "    ax.clear()\n",
    "    nice_axes(ax)\n",
    "    ax.set_ylim(.2, 6.8)\n",
    "\n",
    "def update(i):\n",
    "    for bar in ax.containers:\n",
    "        bar.remove()\n",
    "    y = df_rank_expanded.iloc[i]\n",
    "    width = df_expanded.iloc[i]\n",
    "    ax.barh(y=y, width=width, color=colors, tick_label=labels)\n",
    "    date_str = df_expanded.index[i].strftime('%B %-d, %Y')\n",
    "    ax.set_title(f'COVID-19 Deaths by Country - {date_str}', fontsize='smaller')\n",
    "    \n",
    "fig = plt.Figure(figsize=(4, 2.5), dpi=144)\n",
    "ax = fig.add_subplot()\n",
    "anim = FuncAnimation(fig=fig, func=update, init_func=init, frames=len(df_expanded), \n",
    "                     interval=100, repeat=False)"
   ]
  },
  {
   "cell_type": "markdown",
   "metadata": {},
   "source": [
    "### Return animation HTML or save to disk\n",
    "\n",
    "Call the `to_html5_video` method to return the animation as an HTML string and then embed it in the notebook with help from the `IPython.display` module."
   ]
  },
  {
   "cell_type": "code",
   "execution_count": null,
   "metadata": {},
   "outputs": [],
   "source": [
    "from IPython.display import HTML\n",
    "html = anim.to_html5_video()\n",
    "HTML(html)"
   ]
  },
  {
   "cell_type": "markdown",
   "metadata": {},
   "source": [
    "You can save the animation to disk as an mp4 file using the `save` method. Since we have an `init` function, we don't have to worry about clearing our axes and resetting the limits. It will do it for us."
   ]
  },
  {
   "cell_type": "code",
   "execution_count": null,
   "metadata": {},
   "outputs": [],
   "source": [
    "anim.save('media/covid19.mp4')"
   ]
  },
  {
   "cell_type": "markdown",
   "metadata": {},
   "source": [
    "## Using `bar_chart_race`\n",
    "\n",
    "I created the `bar_chart_race` python package to automate this process. It creates bar chart races from wide pandas DataFrames. Install with `pip install bar_chart_race`."
   ]
  },
  {
   "cell_type": "code",
   "execution_count": null,
   "metadata": {},
   "outputs": [],
   "source": [
    "import bar_chart_race as bcr\n",
    "html = bcr.bar_chart_race(df.iloc[30:40], 'a.gif', steps_per_period=5, figsize=(4, 2.5), title='COVID-19 Deaths by Country', period_label_size=12)\n",
    "HTML(html)"
   ]
  },
  {
   "cell_type": "markdown",
   "metadata": {},
   "source": [
    "## Using the `asfreq`\n",
    "\n",
    "If you are familiar with pandas, you might know that the `asfreq` method can be used to insert new rows. Let's reselect the last three days of March again to show how it works."
   ]
  },
  {
   "cell_type": "code",
   "execution_count": null,
   "metadata": {},
   "outputs": [],
   "source": [
    "df2 = df.loc['2020-03-29':'2020-03-31']\n",
    "df2"
   ]
  },
  {
   "cell_type": "markdown",
   "metadata": {},
   "source": [
    "Inserting new rows is actually easier with `asfreq`. We just need to supply it a date offset that is a multiple of 24 hours. Here, we insert a new row every 6 hours."
   ]
  },
  {
   "cell_type": "code",
   "execution_count": null,
   "metadata": {},
   "outputs": [],
   "source": [
    "df2.asfreq('6h')"
   ]
  },
  {
   "cell_type": "markdown",
   "metadata": {},
   "source": [
    "Inserting a specific number of rows is a little trickier, but possible by creating a date range first, which allows you specify the total number of periods, which you must calculate."
   ]
  },
  {
   "cell_type": "code",
   "execution_count": null,
   "metadata": {
    "scrolled": true
   },
   "outputs": [],
   "source": [
    "num_periods = (len(df2) - 1) * 5 + 1\n",
    "dr = pd.date_range(start='2020-03-29', end='2020-03-31', periods=num_periods)\n",
    "dr"
   ]
  },
  {
   "cell_type": "markdown",
   "metadata": {},
   "source": [
    "Then pass this date range to `reindex` to achieve the same result."
   ]
  },
  {
   "cell_type": "code",
   "execution_count": null,
   "metadata": {},
   "outputs": [],
   "source": [
    "df2.reindex(dr)"
   ]
  },
  {
   "cell_type": "markdown",
   "metadata": {},
   "source": [
    "We can use this procedure on all of our data."
   ]
  },
  {
   "cell_type": "code",
   "execution_count": null,
   "metadata": {},
   "outputs": [],
   "source": [
    "num_periods = (len(df) - 1) * 5 + 1\n",
    "dr = pd.date_range(start=df.index[0], end=df.index[-1], periods=num_periods)\n",
    "df_expanded = df.reindex(dr)\n",
    "df_rank_expanded = df_expanded.rank(axis=1).interpolate()\n",
    "df_expanded = df_expanded.interpolate()\n",
    "df_expanded.iloc[160:166]"
   ]
  },
  {
   "cell_type": "code",
   "execution_count": null,
   "metadata": {
    "scrolled": true
   },
   "outputs": [],
   "source": [
    "df_rank_expanded.iloc[160:166]"
   ]
  },
  {
   "cell_type": "markdown",
   "metadata": {},
   "source": [
    "## One line?\n",
    "\n",
    "It's possible to do all of the analysis in a single ugly line of code."
   ]
  },
  {
   "cell_type": "code",
   "execution_count": null,
   "metadata": {},
   "outputs": [],
   "source": [
    "df_one = df.reset_index() \\\n",
    "           .reindex([i / 5 for i in range(len(df) * 5 - 4)]) \\\n",
    "           .reset_index(drop=True) \\\n",
    "           .pipe(lambda x: pd.concat([x, x.iloc[:, 1:].rank(axis=1)], \n",
    "                                     axis=1, keys=['values', 'ranks'])) \\\n",
    "           .interpolate() \\\n",
    "           .fillna(method='ffill') \\\n",
    "           .set_index(('values', 'date')) \\\n",
    "           .rename_axis(index='date')\n",
    "df_one.head()"
   ]
  },
  {
   "cell_type": "markdown",
   "metadata": {},
   "source": [
    "## Master Data Analysis with Python\n",
    "\n",
    "If you are looking for a single, comprehensive resources to master pandas, matplotlib, and seaborn, check out my book [Master Data Analysis with Python][0]. It contains 800 pages and 350 exercises with detailed solutions. If you want to be a trusted source to do data analysis using Python, this book will ensure you get there.\n",
    "\n",
    "[0]: https://www.dunderdata.com/master-data-analysis-with-python"
   ]
  }
 ],
 "metadata": {
  "kernelspec": {
   "display_name": "Python 3",
   "language": "python",
   "name": "python3"
  },
  "language_info": {
   "codemirror_mode": {
    "name": "ipython",
    "version": 3
   },
   "file_extension": ".py",
   "mimetype": "text/x-python",
   "name": "python",
   "nbconvert_exporter": "python",
   "pygments_lexer": "ipython3",
   "version": "3.7.7"
  }
 },
 "nbformat": 4,
 "nbformat_minor": 4
}
