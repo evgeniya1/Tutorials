{
 "cells": [
  {
   "cell_type": "markdown",
   "metadata": {},
   "source": [
    "# Animating Complete NBA Games with Matplotlib and Pandas\n",
    "\n",
    "In this notebook, we will explore pulling shot positional data from the NBA's undocumented API and then animating entire games with Matplotlib one shot at a time. "
   ]
  },
  {
   "cell_type": "markdown",
   "metadata": {},
   "source": [
    "## Jump to Results\n",
    "Below is the video that is created at the very end of the tutorial. For those that are too lazy, here is the final creation."
   ]
  },
  {
   "cell_type": "code",
   "execution_count": 1,
   "metadata": {},
   "outputs": [
    {
     "data": {
      "text/html": [
       "\n",
       "<video width=\"800\" height=\"500\" controls>\n",
       "  <source src=\"nba_game_animation.mp4\" type=\"video/mp4\">\n",
       "</video>\n"
      ],
      "text/plain": [
       "<IPython.core.display.HTML object>"
      ]
     },
     "execution_count": 1,
     "metadata": {},
     "output_type": "execute_result"
    }
   ],
   "source": [
    "from IPython.display import HTML\n",
    "\n",
    "HTML(\"\"\"\n",
    "<video width=\"800\" height=\"500\" controls>\n",
    "  <source src=\"nba_game_animation.mp4\" type=\"video/mp4\">\n",
    "</video>\n",
    "\"\"\")"
   ]
  },
  {
   "cell_type": "markdown",
   "metadata": {},
   "source": [
    "## Motivation: Game 7 of NBA finals - June 19, 2016\n",
    "If you are unfamiliar with what is meant by 'shot positional data', let's first take a look at an example below of the game played between the Cleveland Cavaliers and the Golden State Warriors on June 19, 2016.\n",
    "\n",
    "### All data is from nba.com\n",
    "The NBA has a great website at [nba.com][1] and supplies most of the pertinent data on its [stats page][2].\n",
    "\n",
    "### Select a specific game\n",
    "Once you have navigated to the stats page, click on the **scores** section and then use the calendar to select the date June 19, 2016. You should see the image below:\n",
    "\n",
    "![][3]\n",
    "\n",
    "[1]: http://nba.com\n",
    "[2]: http://stats.nba.com\n",
    "[3]: images/june19.png"
   ]
  },
  {
   "cell_type": "markdown",
   "metadata": {},
   "source": [
    "## Shot Positional Data\n",
    "The NBA tracks almost every piece of data imaginable during the game. In this tutorial, we will look at the 'shot positional data', which consists of the following:\n",
    "\n",
    "* The location of the shot on the court\n",
    "* Whether the shot was made or missed\n",
    "* The player attempting the shot\n",
    "* The time remaining in the game\n",
    "\n",
    "### Get the data\n",
    "From the scores page above click on **Box Score**. You will get many traditional stats for both teams.\n",
    "\n",
    "![][1]\n",
    "\n",
    "[1]: images/box_score.png"
   ]
  },
  {
   "cell_type": "markdown",
   "metadata": {},
   "source": [
    "### Notice the message for Short Chart\n",
    "\n",
    "There is a small message above the box score that all linked stats have a **Shot Chart**. To get the short chart for the Cleveland Cavaliers, click the number 82 in the **FGA** column. This is all the field goals attempted (shots) by them for the entire game. You will get the following image in a new page.\n",
    "\n",
    "![][1]\n",
    "\n",
    "[1]: images/shotchart.png"
   ]
  },
  {
   "cell_type": "markdown",
   "metadata": {},
   "source": [
    "## Getting the short chart data in a Pandas DataFrame\n",
    "\n",
    "This following section is created from a great blog post by [Greg Reda][1] on how to reverse engineer an API.\n",
    "\n",
    "### No Web Scraping - Finding the internal API\n",
    "\n",
    "Often times, we will have to scrape the raw HTML to get the data we want, but in this case, the data is fetched through an internal API that the NBA maintains. As far as I know, they do not show how it is publicly used. So, in order to get the data, we will have to take a peak into the requests being made as the page is loading.\n",
    "\n",
    "### Using the developer tools\n",
    "\n",
    "All browsers have tools for web developers. In Google Chrome we can find the developer tools by clicking the three dots on the top right of the browser, selecting **More Tools**, and then **Developer Tools**.\n",
    "\n",
    "![][2]\n",
    "\n",
    "[1]: http://www.gregreda.com/2015/02/15/web-scraping-finding-the-api/\n",
    "[2]: images/dev_tools.png"
   ]
  },
  {
   "cell_type": "markdown",
   "metadata": {},
   "source": [
    "### Find requests in Network tab\n",
    "Click on the Network tab in the developer tools and select **XHR** below it. XHR stands for XMLHttpRequest and is used to fetch XML or JSON data.\n",
    "\n",
    "![][1]\n",
    "\n",
    "### Refresh Page\n",
    "There area should be blank as in the image above. Refresh the page and all the XHR requests will show up.\n",
    "\n",
    "![][2]\n",
    "\n",
    "### Select the shotchartdetail request\n",
    "There are a lot of requests, but the one we are looking for is the **shotchartdetail**. Click on it, and then click on preview and reveal the parameters.\n",
    "\n",
    "![][3]\n",
    "\n",
    "[1]: images/network.png\n",
    "[2]: images/allxhr.png\n",
    "[3]: images/resp_prev.png"
   ]
  },
  {
   "cell_type": "markdown",
   "metadata": {},
   "source": [
    "## All of the nba.com APIs\n",
    "Eli Uriegas has put together [a document][1] containing all the possible API endpoints and their parameters. Since this is a not a public API, it is subject to change, and your best bet is to repeat the procedure above.\n",
    "\n",
    "### See all the data\n",
    "Go back to the **Headers** tab and copy and paste the entire **Request URL** into a new browser tab.\n",
    "\n",
    "![][2]\n",
    "\n",
    "### JSON Data\n",
    "\n",
    "Your browser should return the request as JSON data.\n",
    "\n",
    "![][3]\n",
    "\n",
    "[1]: https://github.com/seemethere/nba_py\n",
    "[2]: images/headers.png\n",
    "[3]: images/json.png"
   ]
  },
  {
   "cell_type": "markdown",
   "metadata": {},
   "source": [
    "## Assign URL to string - For all teams\n",
    "\n",
    "The above URL returns the shot chart data for just the Cleveland Cavaliers. If we modify if by changing the **TeamID** parameter to equal 0, we will get data for both teams. We assign this URL to a variable."
   ]
  },
  {
   "cell_type": "code",
   "execution_count": 2,
   "metadata": {},
   "outputs": [],
   "source": [
    "game7_url = '''http://stats.nba.com/stats/shotchartdetail?AheadBehind=\\\n",
    "&CFID=&CFPARAMS=&ClutchTime=&Conference=&ContextFilter=&ContextMeasure=FGA\\\n",
    "&DateFrom=&DateTo=&Division=&EndPeriod=10&EndRange=28800&GROUP_ID=&GameEventID=\\\n",
    "&GameID=0041500407&GameSegment=&GroupID=&GroupMode=&GroupQuantity=5&LastNGames=0\\\n",
    "&LeagueID=00&Location=&Month=0&OnOff=&OpponentTeamID=0&Outcome=&PORound=0&Period=0\\\n",
    "&PlayerID=0&PlayerID1=&PlayerID2=&PlayerID3=&PlayerID4=&PlayerID5=&PlayerPosition=\\\n",
    "&PointDiff=&Position=&RangeType=0&RookieYear=&Season=2015-16&SeasonSegment=&SeasonType=\\\n",
    "Playoffs&ShotClockRange=&StartPeriod=1&StartRange=0&StarterBench=&TeamID=0&VsConference=\\\n",
    "&VsDivision=&VsPlayerID1=&VsPlayerID2=&VsPlayerID3=&VsPlayerID4=&VsPlayerID5=&VsTeamID='''"
   ]
  },
  {
   "cell_type": "markdown",
   "metadata": {},
   "source": [
    "### Separating the URL to its endpoint and parameters\n",
    "\n",
    "The base URL along with its endpoint end at the question mark. Parameters and their values follow. Let's separate the base URL along with its endpoint from its parameters."
   ]
  },
  {
   "cell_type": "code",
   "execution_count": 3,
   "metadata": {},
   "outputs": [
    {
     "data": {
      "text/plain": [
       "42"
      ]
     },
     "execution_count": 3,
     "metadata": {},
     "output_type": "execute_result"
    }
   ],
   "source": [
    "q_idx = game7_url.index('?')\n",
    "q_idx"
   ]
  },
  {
   "cell_type": "code",
   "execution_count": 4,
   "metadata": {},
   "outputs": [
    {
     "data": {
      "text/plain": [
       "'http://stats.nba.com/stats/shotchartdetail'"
      ]
     },
     "execution_count": 4,
     "metadata": {},
     "output_type": "execute_result"
    }
   ],
   "source": [
    "base_url = game7_url[:q_idx]\n",
    "params = game7_url[q_idx + 1:]\n",
    "base_url"
   ]
  },
  {
   "cell_type": "code",
   "execution_count": 5,
   "metadata": {},
   "outputs": [
    {
     "data": {
      "text/plain": [
       "'AheadBehind=&CFID=&CFPARAMS=&ClutchTime=&Conference=&ContextFilter=&ContextMeasure=FGA&DateFrom=&DateTo=&Division=&EndPeriod=10&EndRange=28800&GROUP_ID=&GameEventID=&GameID=0041500407&GameSegment=&GroupID=&GroupMode=&GroupQuantity=5&LastNGames=0&LeagueID=00&Location=&Month=0&OnOff=&OpponentTeamID=0&Outcome=&PORound=0&Period=0&PlayerID=0&PlayerID1=&PlayerID2=&PlayerID3=&PlayerID4=&PlayerID5=&PlayerPosition=&PointDiff=&Position=&RangeType=0&RookieYear=&Season=2015-16&SeasonSegment=&SeasonType=Playoffs&ShotClockRange=&StartPeriod=1&StartRange=0&StarterBench=&TeamID=0&VsConference=&VsDivision=&VsPlayerID1=&VsPlayerID2=&VsPlayerID3=&VsPlayerID4=&VsPlayerID5=&VsTeamID='"
      ]
     },
     "execution_count": 5,
     "metadata": {},
     "output_type": "execute_result"
    }
   ],
   "source": [
    "params"
   ]
  },
  {
   "cell_type": "markdown",
   "metadata": {},
   "source": [
    "### Put parameters into a dictionary\n",
    "\n",
    "We can parse the parameters into a dictionary which will make it a bit easier for us to read."
   ]
  },
  {
   "cell_type": "code",
   "execution_count": 6,
   "metadata": {},
   "outputs": [
    {
     "data": {
      "text/plain": [
       "{'AheadBehind': '',\n",
       " 'CFID': '',\n",
       " 'CFPARAMS': '',\n",
       " 'ClutchTime': '',\n",
       " 'Conference': '',\n",
       " 'ContextFilter': '',\n",
       " 'ContextMeasure': 'FGA',\n",
       " 'DateFrom': '',\n",
       " 'DateTo': '',\n",
       " 'Division': '',\n",
       " 'EndPeriod': '10',\n",
       " 'EndRange': '28800',\n",
       " 'GROUP_ID': '',\n",
       " 'GameEventID': '',\n",
       " 'GameID': '0041500407',\n",
       " 'GameSegment': '',\n",
       " 'GroupID': '',\n",
       " 'GroupMode': '',\n",
       " 'GroupQuantity': '5',\n",
       " 'LastNGames': '0',\n",
       " 'LeagueID': '00',\n",
       " 'Location': '',\n",
       " 'Month': '0',\n",
       " 'OnOff': '',\n",
       " 'OpponentTeamID': '0',\n",
       " 'Outcome': '',\n",
       " 'PORound': '0',\n",
       " 'Period': '0',\n",
       " 'PlayerID': '0',\n",
       " 'PlayerID1': '',\n",
       " 'PlayerID2': '',\n",
       " 'PlayerID3': '',\n",
       " 'PlayerID4': '',\n",
       " 'PlayerID5': '',\n",
       " 'PlayerPosition': '',\n",
       " 'PointDiff': '',\n",
       " 'Position': '',\n",
       " 'RangeType': '0',\n",
       " 'RookieYear': '',\n",
       " 'Season': '2015-16',\n",
       " 'SeasonSegment': '',\n",
       " 'SeasonType': 'Playoffs',\n",
       " 'ShotClockRange': '',\n",
       " 'StartPeriod': '1',\n",
       " 'StartRange': '0',\n",
       " 'StarterBench': '',\n",
       " 'TeamID': '0',\n",
       " 'VsConference': '',\n",
       " 'VsDivision': '',\n",
       " 'VsPlayerID1': '',\n",
       " 'VsPlayerID2': '',\n",
       " 'VsPlayerID3': '',\n",
       " 'VsPlayerID4': '',\n",
       " 'VsPlayerID5': '',\n",
       " 'VsTeamID': ''}"
      ]
     },
     "execution_count": 6,
     "metadata": {},
     "output_type": "execute_result"
    }
   ],
   "source": [
    "params_dict = dict([param.split('=') for param in params.split('&')])\n",
    "params_dict"
   ]
  },
  {
   "cell_type": "markdown",
   "metadata": {},
   "source": [
    "## Get JSON data in Python with Requests library\n",
    "\n",
    "The [Requests][1] third-party library makes it easy to get data from the web. In order to make this particular request you will need to provide a header. It appears that just providing the User-Agent is enough for our request to be accepted.\n",
    "\n",
    "To find the header values, look back at the network tab in the developer tools under the **Headers** tab. Scroll down until you see **Request Headers**. You can put these values into a dictionary and pass this to the **`get`** function. Below, we only use the user agent. Find out more from [this Stack Overflow post][2].\n",
    "\n",
    "[1]: http://docs.python-requests.org/en/master/\n",
    "[2]: https://stackoverflow.com/questions/46781563/how-to-obtain-a-json-response-from-the-stats-nba-com-api"
   ]
  },
  {
   "cell_type": "code",
   "execution_count": 7,
   "metadata": {},
   "outputs": [],
   "source": [
    "import requests\n",
    "\n",
    "headers = {'User-Agent': 'Mozilla/5.0 (Macintosh; Intel Mac OS X 10_13_6) '\n",
    "                         'AppleWebKit/537.36 (KHTML, like Gecko) '\n",
    "                         'Chrome/68.0.3440.106 Safari/537.36'}"
   ]
  },
  {
   "cell_type": "code",
   "execution_count": null,
   "metadata": {},
   "outputs": [],
   "source": [
    "r = requests.get(base_url, params=params, headers=headers)"
   ]
  },
  {
   "cell_type": "code",
   "execution_count": null,
   "metadata": {},
   "outputs": [],
   "source": [
    "a='''http://stats.nba.com/stats/shotchartdetail?\\\n",
    "AheadBehind=&CFID=&CFPARAMS=&ClutchTime=\\\n",
    "&Conference=&ContextFilter=&ContextMeasure=FGA\\\n",
    "&DateFrom=&DateTo=&Division=&EndPeriod=10\\\n",
    "&EndRange=28800&GROUP_ID=&GameEventID=\\\n",
    "&GameID=0041500407'''"
   ]
  },
  {
   "cell_type": "markdown",
   "metadata": {},
   "source": [
    "## Get the JSON data from the requests object\n",
    "\n",
    "Use the **`json`** method from the requests object to retrieve the data. The results will be given to you in a Python dictionary."
   ]
  },
  {
   "cell_type": "code",
   "execution_count": null,
   "metadata": {},
   "outputs": [],
   "source": [
    "json_data = r.json()\n",
    "json_data.keys()"
   ]
  },
  {
   "cell_type": "markdown",
   "metadata": {},
   "source": [
    "### Drill down into `resultSets`\n",
    "\n",
    "The `resultSets` key holds a two-item list. We are interested in the first item which is another dictionary."
   ]
  },
  {
   "cell_type": "code",
   "execution_count": null,
   "metadata": {},
   "outputs": [],
   "source": [
    "result = json_data['resultSets'][0]\n",
    "result.keys()"
   ]
  },
  {
   "cell_type": "markdown",
   "metadata": {},
   "source": [
    "### A Pandas DataFrame - Finally\n",
    "\n",
    "The column names are stored in the `headers` key and the data is a list of lists stored in the `data` key."
   ]
  },
  {
   "cell_type": "code",
   "execution_count": null,
   "metadata": {},
   "outputs": [],
   "source": [
    "import pandas as pd\n",
    "pd.options.display.max_columns = 100\n",
    "\n",
    "columns = result['headers']\n",
    "data = result['rowSet']\n",
    "df_shots = pd.DataFrame(data=data, columns=columns)"
   ]
  },
  {
   "cell_type": "code",
   "execution_count": null,
   "metadata": {},
   "outputs": [],
   "source": [
    "df_shots.head()"
   ]
  },
  {
   "cell_type": "markdown",
   "metadata": {},
   "source": [
    "## Examine the types of shots\n",
    "Find the count of each type of shot."
   ]
  },
  {
   "cell_type": "code",
   "execution_count": null,
   "metadata": {},
   "outputs": [],
   "source": [
    "df_shots['SHOT_TYPE'].value_counts()"
   ]
  },
  {
   "cell_type": "markdown",
   "metadata": {},
   "source": [
    "## Missing Free Throw Data\n",
    "Unfortunately, this API does not have the free throws. We need to use a different one. If we look at the free throws attempted (FTA) column in the box score, there is no link to click on. We need to choose a different page for this game.\n",
    "\n",
    "## Play-by-Play\n",
    "The play-by-play section has the the free throw data in it. By completing the same procedure as above, we locate the endpoint as 'playbyplayv2' and the exact URL as the following:"
   ]
  },
  {
   "cell_type": "code",
   "execution_count": null,
   "metadata": {},
   "outputs": [],
   "source": [
    "play_by_play_url = '''https://stats.nba.com/stats/playbyplayv2?\\\n",
    "EndPeriod=10&EndRange=55800&GameID=0041500407&RangeType=2&Season=2015-16&\\\n",
    "SeasonType=Playoffs&StartPeriod=1&StartRange=0'''"
   ]
  },
  {
   "cell_type": "markdown",
   "metadata": {},
   "source": [
    "## Function to automate getting base and parameters\n",
    "Let's write a function to extract the base and parameter dictionary from the URL."
   ]
  },
  {
   "cell_type": "code",
   "execution_count": null,
   "metadata": {},
   "outputs": [],
   "source": [
    "def get_base_params(url):\n",
    "    q_idx = url.index('?')\n",
    "    base = url[:q_idx]\n",
    "    params = url[q_idx + 1:]\n",
    "    params_dict = dict([param.split('=') for param in params.split('&')])\n",
    "    return base, params_dict"
   ]
  },
  {
   "cell_type": "code",
   "execution_count": null,
   "metadata": {},
   "outputs": [],
   "source": [
    "pbp_base_url, pbp_params = get_base_params(play_by_play_url)"
   ]
  },
  {
   "cell_type": "code",
   "execution_count": null,
   "metadata": {},
   "outputs": [],
   "source": [
    "pbp_base_url"
   ]
  },
  {
   "cell_type": "code",
   "execution_count": null,
   "metadata": {},
   "outputs": [],
   "source": [
    "pbp_params"
   ]
  },
  {
   "cell_type": "markdown",
   "metadata": {},
   "source": [
    "## Use requests again to fetch data\n",
    "We do a similar procedure to get the play-by-play data"
   ]
  },
  {
   "cell_type": "code",
   "execution_count": null,
   "metadata": {},
   "outputs": [],
   "source": [
    "r = requests.get(pbp_base_url, params=pbp_params, headers=headers)\n",
    "pbp_json_data = r.json()\n",
    "pbp_json_data.keys()"
   ]
  },
  {
   "cell_type": "code",
   "execution_count": null,
   "metadata": {},
   "outputs": [],
   "source": [
    "pbp_results = pbp_json_data['resultSets'][0]\n",
    "pbp_results.keys()"
   ]
  },
  {
   "cell_type": "code",
   "execution_count": null,
   "metadata": {},
   "outputs": [],
   "source": [
    "pbp_data = pbp_results['rowSet']\n",
    "pbp_columns = pbp_results['headers']\n",
    "df_pbp = pd.DataFrame(data=pbp_data, columns=pbp_columns)\n",
    "df_pbp.head()"
   ]
  },
  {
   "cell_type": "markdown",
   "metadata": {},
   "source": [
    "## Finding Free Throws\n",
    "This play by play data has every single recorded play during the game. By manually looking through the data I noticed that when **EVENTMSGTYPE** was equal to 3. Let's create a new DataFrame of just free throws."
   ]
  },
  {
   "cell_type": "code",
   "execution_count": null,
   "metadata": {},
   "outputs": [],
   "source": [
    "df_ft = df_pbp[df_pbp['EVENTMSGTYPE'] == 3]\n",
    "df_ft.head()"
   ]
  },
  {
   "cell_type": "code",
   "execution_count": null,
   "metadata": {},
   "outputs": [],
   "source": [
    "df_ft['PLAYER1_TEAM_ID'] = df_ft['PLAYER1_TEAM_ID'].astype('int')"
   ]
  },
  {
   "cell_type": "markdown",
   "metadata": {},
   "source": [
    "# Merging the shot chart and the free throw data\n",
    "Let's merge the shot chart and free throw data together into a single DataFrame. First, we will cut down on the number of columns in the shot chart and assign it to a new variable."
   ]
  },
  {
   "cell_type": "code",
   "execution_count": null,
   "metadata": {},
   "outputs": [],
   "source": [
    "cols = ['GAME_EVENT_ID', 'PLAYER_NAME', 'PLAYER_ID', 'TEAM_NAME', 'TEAM_ID', 'PERIOD', 'MINUTES_REMAINING',\n",
    "       'SECONDS_REMAINING', 'SHOT_TYPE', 'LOC_X', 'LOC_Y', 'SHOT_MADE_FLAG']\n",
    "\n",
    "df_shots2 = df_shots[cols]\n",
    "df_shots2.head()"
   ]
  },
  {
   "cell_type": "code",
   "execution_count": null,
   "metadata": {},
   "outputs": [],
   "source": [
    "df_ft.columns"
   ]
  },
  {
   "cell_type": "code",
   "execution_count": null,
   "metadata": {},
   "outputs": [],
   "source": [
    "ft_cols = ['EVENTNUM', 'PERIOD', 'PCTIMESTRING', 'SCORE', 'PLAYER1_NAME', 'PLAYER1_ID',\n",
    "           'PLAYER1_TEAM_CITY', 'PLAYER1_TEAM_NICKNAME', 'PLAYER1_TEAM_ID', 'PLAYER1_TEAM_ABBREVIATION']\n",
    "\n",
    "df_ft2 = df_ft[ft_cols]\n",
    "df_ft2.head()"
   ]
  },
  {
   "cell_type": "code",
   "execution_count": null,
   "metadata": {},
   "outputs": [],
   "source": [
    "df_ft2.dtypes"
   ]
  },
  {
   "cell_type": "markdown",
   "metadata": {},
   "source": [
    "# Making the free throw data look like the shot chart data\n",
    "Let's rename some columns that represent the same thing in both DataFrames."
   ]
  },
  {
   "cell_type": "code",
   "execution_count": null,
   "metadata": {},
   "outputs": [],
   "source": [
    "df_ft2 = df_ft2.rename(columns={'EVENTNUM':'GAME_EVENT_ID', \n",
    "                                'PLAYER1_NAME': 'PLAYER_NAME',\n",
    "                                'PLAYER1_ID': 'PLAYER_ID',\n",
    "                               'PLAYER1_TEAM_ID': 'TEAM_ID'})\n",
    "df_ft2.head()"
   ]
  },
  {
   "cell_type": "markdown",
   "metadata": {},
   "source": [
    "## Make the time remaining the same"
   ]
  },
  {
   "cell_type": "code",
   "execution_count": null,
   "metadata": {},
   "outputs": [],
   "source": [
    "min_sec = df_ft2['PCTIMESTRING'].str.split(':', expand=True).astype('int')\n",
    "min_sec.head()"
   ]
  },
  {
   "cell_type": "code",
   "execution_count": null,
   "metadata": {},
   "outputs": [],
   "source": [
    "df_ft2[['MINUTES_REMAINING', 'SECONDS_REMAINING']] = min_sec\n",
    "df_ft2 = df_ft2.drop(columns='PCTIMESTRING')\n",
    "df_ft2.head()"
   ]
  },
  {
   "cell_type": "markdown",
   "metadata": {},
   "source": [
    "## Have one column for TEAM_NAME"
   ]
  },
  {
   "cell_type": "code",
   "execution_count": null,
   "metadata": {},
   "outputs": [],
   "source": [
    "df_ft2['TEAM_NAME'] = df_ft2['PLAYER1_TEAM_CITY'] + ' ' + df_ft2['PLAYER1_TEAM_NICKNAME']\n",
    "df_ft2 = df_ft2.drop(columns=['PLAYER1_TEAM_CITY', 'PLAYER1_TEAM_NICKNAME'])\n",
    "df_ft2.head()"
   ]
  },
  {
   "cell_type": "markdown",
   "metadata": {},
   "source": [
    "### Get abbreviation for each team as a dictionary\n",
    "We will use this dictionary later"
   ]
  },
  {
   "cell_type": "code",
   "execution_count": null,
   "metadata": {},
   "outputs": [],
   "source": [
    "abbr_map = dict(df_ft2[['PLAYER1_TEAM_ABBREVIATION', 'TEAM_NAME']].drop_duplicates().values)\n",
    "abbr_map"
   ]
  },
  {
   "cell_type": "markdown",
   "metadata": {},
   "source": [
    "## Now we can drop this columns"
   ]
  },
  {
   "cell_type": "code",
   "execution_count": null,
   "metadata": {},
   "outputs": [],
   "source": [
    "df_ft2 = df_ft2.drop(columns='PLAYER1_TEAM_ABBREVIATION')\n",
    "df_ft2.head()"
   ]
  },
  {
   "cell_type": "markdown",
   "metadata": {},
   "source": [
    "## Getting SHOT_MADE_FLAG\n",
    "The SCORE column is missing whenever there is a miss."
   ]
  },
  {
   "cell_type": "code",
   "execution_count": null,
   "metadata": {},
   "outputs": [],
   "source": [
    "df_ft2['SHOT_MADE_FLAG'] = df_ft2['SCORE'].notna().astype('int')\n",
    "df_ft2 = df_ft2.drop(columns='SCORE')\n",
    "df_ft2.head()"
   ]
  },
  {
   "cell_type": "markdown",
   "metadata": {},
   "source": [
    "## Add column for shot type"
   ]
  },
  {
   "cell_type": "code",
   "execution_count": null,
   "metadata": {},
   "outputs": [],
   "source": [
    "df_ft2['SHOT_TYPE'] = 'Free Throw'\n",
    "df_ft2.head()"
   ]
  },
  {
   "cell_type": "markdown",
   "metadata": {},
   "source": [
    "# Concatenate DataFrames\n",
    "We did not provide LOC_X and LOC_Y for the free throws. These always occur at the same location, but we will not actually draw them. We then sort by GAME_EVENT_ID to get all the events in order."
   ]
  },
  {
   "cell_type": "code",
   "execution_count": null,
   "metadata": {},
   "outputs": [],
   "source": [
    "df_shots_all = pd.concat([df_shots2, df_ft2], sort=False, ignore_index=True)\n",
    "df_shots_all = df_shots_all.sort_values('GAME_EVENT_ID')\n",
    "df_shots_all.head()"
   ]
  },
  {
   "cell_type": "markdown",
   "metadata": {},
   "source": [
    "# Add a column for points\n",
    "We can map the shot type to points with a dictionary and create a new column. We multiply by the shot made flag to only track points if the shot was made."
   ]
  },
  {
   "cell_type": "code",
   "execution_count": null,
   "metadata": {},
   "outputs": [],
   "source": [
    "points = {'Free Throw': 1,\n",
    "          '2PT Field Goal': 2, \n",
    "          '3PT Field Goal': 3}\n",
    "\n",
    "df_shots_all['POINTS'] = df_shots_all['SHOT_TYPE'].replace(points) * df_shots_all['SHOT_MADE_FLAG']\n",
    "df_shots_all.head()"
   ]
  },
  {
   "cell_type": "markdown",
   "metadata": {},
   "source": [
    "# Does the data make sense?\n",
    "Lets do a sanity check, and calculate all the points that were scored in the game."
   ]
  },
  {
   "cell_type": "code",
   "execution_count": null,
   "metadata": {},
   "outputs": [],
   "source": [
    "df_shots_all.groupby('TEAM_NAME').agg({'POINTS': 'sum'})"
   ]
  },
  {
   "cell_type": "markdown",
   "metadata": {},
   "source": [
    "## All good - This was the final score of the game"
   ]
  },
  {
   "cell_type": "markdown",
   "metadata": {},
   "source": [
    "## Visualization\n",
    "Finally, lets work on visualizing our data. After some initial inspecting it is clear that columns LOC_X and LOC_Y contain the point on the court where the shot was taken. Let's visualize all the shots"
   ]
  },
  {
   "cell_type": "code",
   "execution_count": null,
   "metadata": {},
   "outputs": [],
   "source": [
    "%matplotlib inline\n",
    "import matplotlib.pyplot as plt"
   ]
  },
  {
   "cell_type": "markdown",
   "metadata": {},
   "source": [
    "### Use Pandas to plot"
   ]
  },
  {
   "cell_type": "code",
   "execution_count": null,
   "metadata": {},
   "outputs": [],
   "source": [
    "df_shots_all.plot('LOC_X', 'LOC_Y', kind='scatter')"
   ]
  },
  {
   "cell_type": "markdown",
   "metadata": {},
   "source": [
    "## Get home and visitor team names"
   ]
  },
  {
   "cell_type": "code",
   "execution_count": null,
   "metadata": {},
   "outputs": [],
   "source": [
    "home_team = df_shots.loc[0, 'HTM']\n",
    "visitor_team = df_shots.loc[0, 'VTM']"
   ]
  },
  {
   "cell_type": "code",
   "execution_count": null,
   "metadata": {},
   "outputs": [],
   "source": [
    "home_team"
   ]
  },
  {
   "cell_type": "code",
   "execution_count": null,
   "metadata": {},
   "outputs": [],
   "source": [
    "visitor_team"
   ]
  },
  {
   "cell_type": "markdown",
   "metadata": {},
   "source": [
    "## Use abbreviation mapping from above to get full name of home and visitor team"
   ]
  },
  {
   "cell_type": "code",
   "execution_count": null,
   "metadata": {},
   "outputs": [],
   "source": [
    "full_home_team = abbr_map[home_team]\n",
    "full_visitor_team = abbr_map[visitor_team]"
   ]
  },
  {
   "cell_type": "code",
   "execution_count": null,
   "metadata": {},
   "outputs": [],
   "source": [
    "is_home = df_shots_all['TEAM_NAME'] == full_home_team\n",
    "df_shots_all[is_home].plot('LOC_X', 'LOC_Y', kind='scatter', title=full_home_team);"
   ]
  },
  {
   "cell_type": "markdown",
   "metadata": {},
   "source": [
    "### Transpose X and Y locations to appear as they would on TV"
   ]
  },
  {
   "cell_type": "code",
   "execution_count": null,
   "metadata": {},
   "outputs": [],
   "source": [
    "df_shots_all[is_home].plot('LOC_Y', 'LOC_X', kind='scatter', title=full_home_team);"
   ]
  },
  {
   "cell_type": "markdown",
   "metadata": {},
   "source": [
    "## Adding the description of the event\n",
    "The original play by play data had event descriptions. Let's merge them onto our DataFrame. Only one of the home and visitor description is not missing for each shooting event."
   ]
  },
  {
   "cell_type": "code",
   "execution_count": null,
   "metadata": {},
   "outputs": [],
   "source": [
    "import numpy as np"
   ]
  },
  {
   "cell_type": "code",
   "execution_count": null,
   "metadata": {},
   "outputs": [],
   "source": [
    "hd = df_pbp['HOMEDESCRIPTION']\n",
    "vd = df_pbp['VISITORDESCRIPTION']"
   ]
  },
  {
   "cell_type": "code",
   "execution_count": null,
   "metadata": {},
   "outputs": [],
   "source": [
    "event_id = df_pbp['EVENTNUM'].values\n",
    "desc = np.where(hd, hd, vd)"
   ]
  },
  {
   "cell_type": "code",
   "execution_count": null,
   "metadata": {},
   "outputs": [],
   "source": [
    "df_event = pd.DataFrame({'GAME_EVENT_ID': event_id,\n",
    "                        'DESCRIPTION': desc})\n",
    "df_event.head()"
   ]
  },
  {
   "cell_type": "markdown",
   "metadata": {},
   "source": [
    "## Join events to main DataFrame"
   ]
  },
  {
   "cell_type": "code",
   "execution_count": null,
   "metadata": {},
   "outputs": [],
   "source": [
    "df_shots_all2 = df_shots_all.merge(df_event, how='left')\n",
    "df_shots_all2.head()"
   ]
  },
  {
   "cell_type": "markdown",
   "metadata": {},
   "source": [
    "# Make column for home team"
   ]
  },
  {
   "cell_type": "code",
   "execution_count": null,
   "metadata": {},
   "outputs": [],
   "source": [
    "df_shots_all2['HOME_TEAM'] = (df_shots_all2['TEAM_NAME'] == full_home_team).astype('int')\n",
    "df_shots_all2.head()"
   ]
  },
  {
   "cell_type": "markdown",
   "metadata": {},
   "source": [
    "## Examining Shot Locations\n",
    "Looking at the range of **LOC_X** and **LOC_Y** columns it seems apparent that the dimensions are feet multiplied by 10 since a basketball court is 94ft long by 50ft wide. \n",
    "\n",
    "Since, there are negative values for **LOC_X** some more investigation yields that the actual basket is located at **LOC_X** equal to 0. The actual basket is 4 feet from the edge of the court (-40 for **LOC_X**). This means the max value for **LOC_X** would be 900.\n",
    "\n",
    "## Transforming Visitor Shot Locations\n",
    "The same values for **LOC_X** and **LOC_Y** are used regardless of the team. To animate a game, we need to translate the shots of one team over to the other side of the court. For the visiting team we subtract the x-axis location from 900 to move it to the other side of the court. Note, we also transposed so that our court will be wide and not long."
   ]
  },
  {
   "cell_type": "code",
   "execution_count": null,
   "metadata": {},
   "outputs": [],
   "source": [
    "is_home = df_shots_all2['HOME_TEAM'] == 1\n",
    "x = df_shots_all2['LOC_Y'] + 40\n",
    "x = np.where(is_home, x, 900 - x)\n",
    "\n",
    "df_shots_all2['LOC_X_NEW'] = x\n",
    "df_shots_all2['LOC_Y_NEW'] = df_shots_all2['LOC_X']"
   ]
  },
  {
   "cell_type": "markdown",
   "metadata": {},
   "source": [
    "# Build Static Visualization - Create Court\n",
    "\n",
    "A great tutorial on creating an NBA court with shots [can be viewed here](http://savvastjortjoglou.com/nba-shot-sharts.html)"
   ]
  },
  {
   "cell_type": "code",
   "execution_count": null,
   "metadata": {},
   "outputs": [],
   "source": [
    "from matplotlib.patches import Arc, Circle\n",
    "\n",
    "def create_court():\n",
    "    # Set-up figure\n",
    "    fig = plt.figure(figsize=(16, 8))\n",
    "    ax = fig.add_axes([.2, .1, .6, .8], frame_on=False, xticks=[], yticks=[])\n",
    "    \n",
    "    # Draw the borders of the court\n",
    "    ax.set_xlim(-20, 960)\n",
    "    ax.vlines([0, 940], -250, 250)\n",
    "    ax.hlines([-250, 250], 0, 940)\n",
    "    ax.hlines([-80, -80, 80, 80], [0, 750] * 2, [190, 940] * 2)\n",
    "    ax.hlines([-60, -60, 60, 60], [0, 750] * 2, [190, 940] * 2)\n",
    "    ax.vlines([190, 750], -80, 80)\n",
    "    ax.vlines(470, -250, 250)\n",
    "    ax.vlines([40, 900], -30, 30)\n",
    "\n",
    "    # Add the three point arc, free throw circle, midcourt circle and backboard and rim\n",
    "    ax.add_patch(Arc((190, 0), 120, 120, theta1=-90, theta2=90, linewidth=2))\n",
    "    ax.add_patch(Arc((190, 0), 120, 120, theta1=90, theta2=-90, linewidth=2, linestyle='dashed'))\n",
    "    ax.add_patch(Arc((750, 0), 120, 120, theta1=90, theta2=-90, linewidth=2))\n",
    "    ax.add_patch(Arc((750, 0), 120, 120, theta1=-90, theta2=90, linewidth=2, linestyle='dashed'))\n",
    "    ax.hlines([-220, -220, 220, 220], [0, 800] * 2, [140, 940] * 2)\n",
    "    ax.add_patch(Arc((47.5, 0), 475, 475, theta1=-67.5, theta2=67.5, linewidth=2))\n",
    "    ax.add_patch(Arc((892.5, 0), 475, 475, theta1=112.5, theta2=-112.5, linewidth=2))\n",
    "    ax.add_patch(Arc((47.5, 0), 15, 15, theta1=0, theta2=360, linewidth=2))\n",
    "    ax.add_patch(Arc((892.5, 0), 15, 15, theta1=0, theta2=360, linewidth=2))\n",
    "    ax.add_patch(Circle((470, 0), 60, facecolor='none', lw=2))\n",
    "    \n",
    "    # Assign to variables the plot items that will change after each iteration\n",
    "    ax.text(20, 270, f\"{full_home_team} 0\" , \n",
    "            fontsize=16, fontweight='bold', label='home')\n",
    "    ax.text(680, 270, f\"{full_visitor_team} 0\", \n",
    "            fontsize=16, fontweight='bold', label='visitor')\n",
    "    ax.text(0, -270, \"Q:1 12:00\", fontsize= 14, label='time')\n",
    "    ax.text(200, -270, \"\", fontsize=14, label='description')\n",
    "    return fig, ax\n",
    "\n",
    "fig, ax = create_court()"
   ]
  },
  {
   "cell_type": "markdown",
   "metadata": {},
   "source": [
    "# Add Shot Data"
   ]
  },
  {
   "cell_type": "code",
   "execution_count": null,
   "metadata": {
    "scrolled": false
   },
   "outputs": [],
   "source": [
    "fig, ax = create_court()\n",
    "\n",
    "missed = df_shots_all2['SHOT_MADE_FLAG'] == 0\n",
    "edgecolor = df_shots_all2['HOME_TEAM'].replace({0: 'r', 1:'b'})\n",
    "facecolor = edgecolor.copy()\n",
    "facecolor[missed] = 'none' \n",
    "\n",
    "df_shots_all2['FACECOLOR'] = facecolor\n",
    "df_shots_all2['EDGECOLOR'] = edgecolor\n",
    "ax.scatter('LOC_X_NEW', 'LOC_Y_NEW', marker='o', s=120, facecolors='FACECOLOR',\n",
    "           edgecolors='EDGECOLOR', lw=2, data=df_shots_all2)"
   ]
  },
  {
   "cell_type": "markdown",
   "metadata": {},
   "source": [
    "# Player Images\n",
    "We can add player images to our visualization after every shot they take. After clicking on individual player images, I discovered the pattern for finding the correct player image for the correct year. You need to have the team ID, year, and player ID."
   ]
  },
  {
   "cell_type": "code",
   "execution_count": null,
   "metadata": {},
   "outputs": [],
   "source": [
    "unique_players = df_shots_all2[['TEAM_ID', 'PLAYER_ID']].drop_duplicates()\n",
    "unique_players.head()"
   ]
  },
  {
   "cell_type": "markdown",
   "metadata": {},
   "source": [
    "### Loop through each unique player for each team \n",
    "We use the `imread` Matplotlib function to convert an image into a numpy array of RGBA values which is stored in a dictionary."
   ]
  },
  {
   "cell_type": "code",
   "execution_count": null,
   "metadata": {},
   "outputs": [],
   "source": [
    "base_image_url = \"https://ak-static.cms.nba.com/wp-content/uploads/headshots/nba/\"\n",
    "year = 2016\n",
    "player_image_data = {}\n",
    "for _, row in unique_players.iterrows():\n",
    "    team_id = row['TEAM_ID']\n",
    "    player_id = row['PLAYER_ID']\n",
    "    end_image_url = f\"{team_id}/{year}/260x190/{player_id}.png\"\n",
    "    try:\n",
    "        image_array = plt.imread(base_image_url + end_image_url)\n",
    "    except:\n",
    "        end_image_url = f\"{team_id}/{year - 1}/260x190/{player_id}.png\"\n",
    "        image_array = plt.imread(base_image_url + end_image_url)\n",
    "    if team_id not in player_image_data:\n",
    "        player_image_data[team_id] = {player_id: image_array}\n",
    "    else:\n",
    "        player_image_data[team_id][player_id] = image_array"
   ]
  },
  {
   "cell_type": "markdown",
   "metadata": {},
   "source": [
    "# Player images on court\n",
    "We add a new Axes for to hold the player images for each team. Below, we test out the location of"
   ]
  },
  {
   "cell_type": "code",
   "execution_count": null,
   "metadata": {},
   "outputs": [],
   "source": [
    "fig, ax = create_court()\n",
    "ax_image_left = fig.add_axes((0, 0, .2, .2), zorder=-1, \n",
    "                             frame_on=False, xticks=[], yticks=[])\n",
    "ax_image_right = fig.add_axes((.8, 0, .2, .2), zorder=-1, \n",
    "                              frame_on=False, xticks=[], yticks=[])\n",
    "\n",
    "im_left = ax_image_left.imshow(player_image_data[1610612744][203105])\n",
    "im_right = ax_image_right.imshow(player_image_data[1610612739][2747])"
   ]
  },
  {
   "cell_type": "markdown",
   "metadata": {},
   "source": [
    "# Animation\n",
    "For animation to occur in matplotlib in the Jupyter notebook, two things must occur. First, the magic command %matplotlib notebook must be run. This changes matplotlib's backend to **nbagg** which allows for interactive plots. Second, the **FuncAnimation** function must be imported which utilizes a user-defined function to control the objects in the plot."
   ]
  },
  {
   "cell_type": "code",
   "execution_count": null,
   "metadata": {},
   "outputs": [],
   "source": [
    "from matplotlib.animation import FuncAnimation"
   ]
  },
  {
   "cell_type": "code",
   "execution_count": null,
   "metadata": {},
   "outputs": [],
   "source": [
    "%matplotlib notebook\n",
    "\n",
    "# Recreate the court\n",
    "fig, ax = create_court()\n",
    "ax_image_left = fig.add_axes((0, 0, .2, .2), zorder=-1, \n",
    "                             frame_on=False, xticks=[], yticks=[])\n",
    "ax_image_right = fig.add_axes((.8, 0, .2, .2), zorder=-1, \n",
    "                              frame_on=False, xticks=[], yticks=[])\n",
    "im_left = ax_image_left.imshow([[0]])\n",
    "im_right = ax_image_right.imshow([[0]])\n",
    "im_left.set_data([[]])\n",
    "im_right.set_data([[]])\n",
    "\n",
    "\n",
    "scores = {'visitor': 0, 'home': 0} \n",
    "texts = {t.get_label(): t for t in ax.texts}\n",
    "\n",
    "def init():\n",
    "    scores['home'] = 0\n",
    "    scores['visitor'] = 0\n",
    "    texts['home'].set_text(f\"{full_home_team} {scores['home']}\")\n",
    "    texts['visitor'].set_text(f\"{full_visitor_team} {scores['visitor']}\")\n",
    "    texts['time'].set_text(\"Q:1 12:00\")               \n",
    "    texts['description'].set_text(\"\")\n",
    "    im_left.set_data([[]])\n",
    "    im_right.set_data([[]])\n",
    "                              \n",
    "# The update function is called as frequently as the interval parameter below (in milliseconds).\n",
    "def update(frame_number):\n",
    "    # Change the score\n",
    "    if frame_number == 0:\n",
    "        return\n",
    "                              \n",
    "    im_left.set_data([[]])\n",
    "    im_right.set_data([[]])\n",
    "\n",
    "    current_row = df_shots_all2.iloc[frame_number - 1]\n",
    "    ax.scatter('LOC_X_NEW', 'LOC_Y_NEW', marker='o', s=120,\n",
    "                      facecolors='FACECOLOR', edgecolors='EDGECOLOR', \n",
    "                      lw=2, data=current_row);\n",
    "\n",
    "    team_type = 'home' if current_row['HOME_TEAM'] == 1 else 'visitor'\n",
    "    scores[team_type] += current_row['POINTS']\n",
    "    texts['home'].set_text(f\"{full_home_team} {scores['home']}\")\n",
    "    texts['visitor'].set_text(f\"{full_visitor_team} {scores['visitor']}\")\n",
    "    \n",
    "    per = current_row['PERIOD']\n",
    "    mr = current_row['MINUTES_REMAINING']\n",
    "    sr = current_row['SECONDS_REMAINING']\n",
    "    texts['time'].set_text(f\"Q:{per} {mr:02d}:{sr:02d}\")               \n",
    "    texts['description'].set_text(current_row['DESCRIPTION'])\n",
    "                              \n",
    "    team_id = current_row['TEAM_ID']\n",
    "    player_id = current_row['PLAYER_ID']\n",
    "    image_array = player_image_data[team_id][player_id]\n",
    "\n",
    "    if team_type == 'home':\n",
    "        im_left.set_data(image_array)\n",
    "    else:\n",
    "        im_right.set_data(image_array)\n",
    "\n",
    "animation = FuncAnimation(fig, func=update, frames=len(df_shots_all2) + 1, \n",
    "                          init_func=init, interval=10, repeat=False)"
   ]
  },
  {
   "cell_type": "code",
   "execution_count": null,
   "metadata": {},
   "outputs": [],
   "source": [
    "plt.rcParams['animation.writer']"
   ]
  },
  {
   "cell_type": "code",
   "execution_count": null,
   "metadata": {},
   "outputs": [],
   "source": [
    "from matplotlib.animation import writers\n",
    "writers.list()"
   ]
  },
  {
   "cell_type": "code",
   "execution_count": null,
   "metadata": {},
   "outputs": [],
   "source": [
    "from matplotlib.animation import FFMpegWriter\n",
    "writer = FFMpegWriter(fps=.75, bitrate=1800)\n",
    "animation.save('nba_game_animation.mp4', writer=writer)"
   ]
  },
  {
   "cell_type": "markdown",
   "metadata": {},
   "source": [
    "# Embed into Jupyter Notebook"
   ]
  },
  {
   "cell_type": "code",
   "execution_count": null,
   "metadata": {},
   "outputs": [],
   "source": [
    "from IPython.display import HTML\n",
    "HTML(\"\"\"<video width=\"600\" height=\"450\" controls>\n",
    "  <source src=\"nba_game_animation.mp4\" type=\"video/mp4\">\n",
    "</video>\"\"\")"
   ]
  }
 ],
 "metadata": {
  "kernelspec": {
   "display_name": "Python 3",
   "language": "python",
   "name": "python3"
  },
  "language_info": {
   "codemirror_mode": {
    "name": "ipython",
    "version": 3
   },
   "file_extension": ".py",
   "mimetype": "text/x-python",
   "name": "python",
   "nbconvert_exporter": "python",
   "pygments_lexer": "ipython3",
   "version": "3.7.6"
  }
 },
 "nbformat": 4,
 "nbformat_minor": 1
}
